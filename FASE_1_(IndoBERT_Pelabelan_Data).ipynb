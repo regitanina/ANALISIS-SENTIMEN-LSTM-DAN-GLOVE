{
  "cells": [
    {
      "cell_type": "markdown",
      "metadata": {
        "id": "view-in-github",
        "colab_type": "text"
      },
      "source": [
        "<a href=\"https://colab.research.google.com/github/regitanina/ANALISIS-SENTIMEN-LSTM-DAN-GLOVE/blob/main/FASE_1_(IndoBERT_Pelabelan_Data).ipynb\" target=\"_parent\"><img src=\"https://colab.research.google.com/assets/colab-badge.svg\" alt=\"Open In Colab\"/></a>"
      ]
    },
    {
      "cell_type": "code",
      "execution_count": null,
      "metadata": {
        "colab": {
          "base_uri": "https://localhost:8080/"
        },
        "id": "2bO7gkEJAiGD",
        "outputId": "152818d0-3515-40f6-9d1b-6756f5dc83a1"
      },
      "outputs": [
        {
          "output_type": "stream",
          "name": "stdout",
          "text": [
            "Cloning into 'indonlu'...\n",
            "remote: Enumerating objects: 509, done.\u001b[K\n",
            "remote: Counting objects: 100% (193/193), done.\u001b[K\n",
            "remote: Compressing objects: 100% (83/83), done.\u001b[K\n",
            "remote: Total 509 (delta 119), reused 139 (delta 110), pack-reused 316 (from 1)\u001b[K\n",
            "Receiving objects: 100% (509/509), 9.46 MiB | 12.32 MiB/s, done.\n",
            "Resolving deltas: 100% (239/239), done.\n",
            "/content/indonlu\n"
          ]
        }
      ],
      "source": [
        "!git clone https://github.com/IndoNLP/indonlu.git\n",
        "%cd indonlu"
      ]
    },
    {
      "cell_type": "code",
      "execution_count": null,
      "metadata": {
        "colab": {
          "base_uri": "https://localhost:8080/"
        },
        "id": "mPAXyAwIA9J7",
        "outputId": "c5b0369b-4c24-49b7-c0de-3faeb7571a13"
      },
      "outputs": [
        {
          "output_type": "stream",
          "name": "stdout",
          "text": [
            "Requirement already satisfied: transformers>=2.9.0 in /usr/local/lib/python3.11/dist-packages (from -r requirements.txt (line 1)) (4.51.3)\n",
            "Requirement already satisfied: pandas>=0.25.3 in /usr/local/lib/python3.11/dist-packages (from -r requirements.txt (line 2)) (2.2.2)\n",
            "Requirement already satisfied: numpy>=1.17.4 in /usr/local/lib/python3.11/dist-packages (from -r requirements.txt (line 3)) (2.0.2)\n",
            "Requirement already satisfied: scikit-learn>=0.22.1 in /usr/local/lib/python3.11/dist-packages (from -r requirements.txt (line 4)) (1.6.1)\n",
            "Requirement already satisfied: tensorflow>=1.15.0 in /usr/local/lib/python3.11/dist-packages (from -r requirements.txt (line 5)) (2.18.0)\n",
            "Requirement already satisfied: torch>=1.5.0 in /usr/local/lib/python3.11/dist-packages (from -r requirements.txt (line 6)) (2.6.0+cu124)\n",
            "Collecting nltk==3.4.5 (from -r requirements.txt (line 7))\n",
            "  Downloading nltk-3.4.5.zip (1.5 MB)\n",
            "\u001b[2K     \u001b[90m━━━━━━━━━━━━━━━━━━━━━━━━━━━━━━━━━━━━━━━━\u001b[0m \u001b[32m1.5/1.5 MB\u001b[0m \u001b[31m13.6 MB/s\u001b[0m eta \u001b[36m0:00:00\u001b[0m\n",
            "\u001b[?25h  Preparing metadata (setup.py) ... \u001b[?25l\u001b[?25hdone\n",
            "Collecting unidecode>=1.1.1 (from -r requirements.txt (line 8))\n",
            "  Downloading Unidecode-1.4.0-py3-none-any.whl.metadata (13 kB)\n",
            "Requirement already satisfied: six in /usr/local/lib/python3.11/dist-packages (from nltk==3.4.5->-r requirements.txt (line 7)) (1.17.0)\n",
            "Requirement already satisfied: filelock in /usr/local/lib/python3.11/dist-packages (from transformers>=2.9.0->-r requirements.txt (line 1)) (3.18.0)\n",
            "Requirement already satisfied: huggingface-hub<1.0,>=0.30.0 in /usr/local/lib/python3.11/dist-packages (from transformers>=2.9.0->-r requirements.txt (line 1)) (0.31.2)\n",
            "Requirement already satisfied: packaging>=20.0 in /usr/local/lib/python3.11/dist-packages (from transformers>=2.9.0->-r requirements.txt (line 1)) (24.2)\n",
            "Requirement already satisfied: pyyaml>=5.1 in /usr/local/lib/python3.11/dist-packages (from transformers>=2.9.0->-r requirements.txt (line 1)) (6.0.2)\n",
            "Requirement already satisfied: regex!=2019.12.17 in /usr/local/lib/python3.11/dist-packages (from transformers>=2.9.0->-r requirements.txt (line 1)) (2024.11.6)\n",
            "Requirement already satisfied: requests in /usr/local/lib/python3.11/dist-packages (from transformers>=2.9.0->-r requirements.txt (line 1)) (2.32.3)\n",
            "Requirement already satisfied: tokenizers<0.22,>=0.21 in /usr/local/lib/python3.11/dist-packages (from transformers>=2.9.0->-r requirements.txt (line 1)) (0.21.1)\n",
            "Requirement already satisfied: safetensors>=0.4.3 in /usr/local/lib/python3.11/dist-packages (from transformers>=2.9.0->-r requirements.txt (line 1)) (0.5.3)\n",
            "Requirement already satisfied: tqdm>=4.27 in /usr/local/lib/python3.11/dist-packages (from transformers>=2.9.0->-r requirements.txt (line 1)) (4.67.1)\n",
            "Requirement already satisfied: python-dateutil>=2.8.2 in /usr/local/lib/python3.11/dist-packages (from pandas>=0.25.3->-r requirements.txt (line 2)) (2.9.0.post0)\n",
            "Requirement already satisfied: pytz>=2020.1 in /usr/local/lib/python3.11/dist-packages (from pandas>=0.25.3->-r requirements.txt (line 2)) (2025.2)\n",
            "Requirement already satisfied: tzdata>=2022.7 in /usr/local/lib/python3.11/dist-packages (from pandas>=0.25.3->-r requirements.txt (line 2)) (2025.2)\n",
            "Requirement already satisfied: scipy>=1.6.0 in /usr/local/lib/python3.11/dist-packages (from scikit-learn>=0.22.1->-r requirements.txt (line 4)) (1.15.3)\n",
            "Requirement already satisfied: joblib>=1.2.0 in /usr/local/lib/python3.11/dist-packages (from scikit-learn>=0.22.1->-r requirements.txt (line 4)) (1.5.0)\n",
            "Requirement already satisfied: threadpoolctl>=3.1.0 in /usr/local/lib/python3.11/dist-packages (from scikit-learn>=0.22.1->-r requirements.txt (line 4)) (3.6.0)\n",
            "Requirement already satisfied: absl-py>=1.0.0 in /usr/local/lib/python3.11/dist-packages (from tensorflow>=1.15.0->-r requirements.txt (line 5)) (1.4.0)\n",
            "Requirement already satisfied: astunparse>=1.6.0 in /usr/local/lib/python3.11/dist-packages (from tensorflow>=1.15.0->-r requirements.txt (line 5)) (1.6.3)\n",
            "Requirement already satisfied: flatbuffers>=24.3.25 in /usr/local/lib/python3.11/dist-packages (from tensorflow>=1.15.0->-r requirements.txt (line 5)) (25.2.10)\n",
            "Requirement already satisfied: gast!=0.5.0,!=0.5.1,!=0.5.2,>=0.2.1 in /usr/local/lib/python3.11/dist-packages (from tensorflow>=1.15.0->-r requirements.txt (line 5)) (0.6.0)\n",
            "Requirement already satisfied: google-pasta>=0.1.1 in /usr/local/lib/python3.11/dist-packages (from tensorflow>=1.15.0->-r requirements.txt (line 5)) (0.2.0)\n",
            "Requirement already satisfied: libclang>=13.0.0 in /usr/local/lib/python3.11/dist-packages (from tensorflow>=1.15.0->-r requirements.txt (line 5)) (18.1.1)\n",
            "Requirement already satisfied: opt-einsum>=2.3.2 in /usr/local/lib/python3.11/dist-packages (from tensorflow>=1.15.0->-r requirements.txt (line 5)) (3.4.0)\n",
            "Requirement already satisfied: protobuf!=4.21.0,!=4.21.1,!=4.21.2,!=4.21.3,!=4.21.4,!=4.21.5,<6.0.0dev,>=3.20.3 in /usr/local/lib/python3.11/dist-packages (from tensorflow>=1.15.0->-r requirements.txt (line 5)) (5.29.4)\n",
            "Requirement already satisfied: setuptools in /usr/local/lib/python3.11/dist-packages (from tensorflow>=1.15.0->-r requirements.txt (line 5)) (75.2.0)\n",
            "Requirement already satisfied: termcolor>=1.1.0 in /usr/local/lib/python3.11/dist-packages (from tensorflow>=1.15.0->-r requirements.txt (line 5)) (3.1.0)\n",
            "Requirement already satisfied: typing-extensions>=3.6.6 in /usr/local/lib/python3.11/dist-packages (from tensorflow>=1.15.0->-r requirements.txt (line 5)) (4.13.2)\n",
            "Requirement already satisfied: wrapt>=1.11.0 in /usr/local/lib/python3.11/dist-packages (from tensorflow>=1.15.0->-r requirements.txt (line 5)) (1.17.2)\n",
            "Requirement already satisfied: grpcio<2.0,>=1.24.3 in /usr/local/lib/python3.11/dist-packages (from tensorflow>=1.15.0->-r requirements.txt (line 5)) (1.71.0)\n",
            "Requirement already satisfied: tensorboard<2.19,>=2.18 in /usr/local/lib/python3.11/dist-packages (from tensorflow>=1.15.0->-r requirements.txt (line 5)) (2.18.0)\n",
            "Requirement already satisfied: keras>=3.5.0 in /usr/local/lib/python3.11/dist-packages (from tensorflow>=1.15.0->-r requirements.txt (line 5)) (3.8.0)\n",
            "Requirement already satisfied: h5py>=3.11.0 in /usr/local/lib/python3.11/dist-packages (from tensorflow>=1.15.0->-r requirements.txt (line 5)) (3.13.0)\n",
            "Requirement already satisfied: ml-dtypes<0.5.0,>=0.4.0 in /usr/local/lib/python3.11/dist-packages (from tensorflow>=1.15.0->-r requirements.txt (line 5)) (0.4.1)\n",
            "Requirement already satisfied: tensorflow-io-gcs-filesystem>=0.23.1 in /usr/local/lib/python3.11/dist-packages (from tensorflow>=1.15.0->-r requirements.txt (line 5)) (0.37.1)\n",
            "Requirement already satisfied: networkx in /usr/local/lib/python3.11/dist-packages (from torch>=1.5.0->-r requirements.txt (line 6)) (3.4.2)\n",
            "Requirement already satisfied: jinja2 in /usr/local/lib/python3.11/dist-packages (from torch>=1.5.0->-r requirements.txt (line 6)) (3.1.6)\n",
            "Requirement already satisfied: fsspec in /usr/local/lib/python3.11/dist-packages (from torch>=1.5.0->-r requirements.txt (line 6)) (2025.3.2)\n",
            "Collecting nvidia-cuda-nvrtc-cu12==12.4.127 (from torch>=1.5.0->-r requirements.txt (line 6))\n",
            "  Downloading nvidia_cuda_nvrtc_cu12-12.4.127-py3-none-manylinux2014_x86_64.whl.metadata (1.5 kB)\n",
            "Collecting nvidia-cuda-runtime-cu12==12.4.127 (from torch>=1.5.0->-r requirements.txt (line 6))\n",
            "  Downloading nvidia_cuda_runtime_cu12-12.4.127-py3-none-manylinux2014_x86_64.whl.metadata (1.5 kB)\n",
            "Collecting nvidia-cuda-cupti-cu12==12.4.127 (from torch>=1.5.0->-r requirements.txt (line 6))\n",
            "  Downloading nvidia_cuda_cupti_cu12-12.4.127-py3-none-manylinux2014_x86_64.whl.metadata (1.6 kB)\n",
            "Collecting nvidia-cudnn-cu12==9.1.0.70 (from torch>=1.5.0->-r requirements.txt (line 6))\n",
            "  Downloading nvidia_cudnn_cu12-9.1.0.70-py3-none-manylinux2014_x86_64.whl.metadata (1.6 kB)\n",
            "Collecting nvidia-cublas-cu12==12.4.5.8 (from torch>=1.5.0->-r requirements.txt (line 6))\n",
            "  Downloading nvidia_cublas_cu12-12.4.5.8-py3-none-manylinux2014_x86_64.whl.metadata (1.5 kB)\n",
            "Collecting nvidia-cufft-cu12==11.2.1.3 (from torch>=1.5.0->-r requirements.txt (line 6))\n",
            "  Downloading nvidia_cufft_cu12-11.2.1.3-py3-none-manylinux2014_x86_64.whl.metadata (1.5 kB)\n",
            "Collecting nvidia-curand-cu12==10.3.5.147 (from torch>=1.5.0->-r requirements.txt (line 6))\n",
            "  Downloading nvidia_curand_cu12-10.3.5.147-py3-none-manylinux2014_x86_64.whl.metadata (1.5 kB)\n",
            "Collecting nvidia-cusolver-cu12==11.6.1.9 (from torch>=1.5.0->-r requirements.txt (line 6))\n",
            "  Downloading nvidia_cusolver_cu12-11.6.1.9-py3-none-manylinux2014_x86_64.whl.metadata (1.6 kB)\n",
            "Collecting nvidia-cusparse-cu12==12.3.1.170 (from torch>=1.5.0->-r requirements.txt (line 6))\n",
            "  Downloading nvidia_cusparse_cu12-12.3.1.170-py3-none-manylinux2014_x86_64.whl.metadata (1.6 kB)\n",
            "Requirement already satisfied: nvidia-cusparselt-cu12==0.6.2 in /usr/local/lib/python3.11/dist-packages (from torch>=1.5.0->-r requirements.txt (line 6)) (0.6.2)\n",
            "Requirement already satisfied: nvidia-nccl-cu12==2.21.5 in /usr/local/lib/python3.11/dist-packages (from torch>=1.5.0->-r requirements.txt (line 6)) (2.21.5)\n",
            "Requirement already satisfied: nvidia-nvtx-cu12==12.4.127 in /usr/local/lib/python3.11/dist-packages (from torch>=1.5.0->-r requirements.txt (line 6)) (12.4.127)\n",
            "Collecting nvidia-nvjitlink-cu12==12.4.127 (from torch>=1.5.0->-r requirements.txt (line 6))\n",
            "  Downloading nvidia_nvjitlink_cu12-12.4.127-py3-none-manylinux2014_x86_64.whl.metadata (1.5 kB)\n",
            "Requirement already satisfied: triton==3.2.0 in /usr/local/lib/python3.11/dist-packages (from torch>=1.5.0->-r requirements.txt (line 6)) (3.2.0)\n",
            "Requirement already satisfied: sympy==1.13.1 in /usr/local/lib/python3.11/dist-packages (from torch>=1.5.0->-r requirements.txt (line 6)) (1.13.1)\n",
            "Requirement already satisfied: mpmath<1.4,>=1.1.0 in /usr/local/lib/python3.11/dist-packages (from sympy==1.13.1->torch>=1.5.0->-r requirements.txt (line 6)) (1.3.0)\n",
            "Requirement already satisfied: wheel<1.0,>=0.23.0 in /usr/local/lib/python3.11/dist-packages (from astunparse>=1.6.0->tensorflow>=1.15.0->-r requirements.txt (line 5)) (0.45.1)\n",
            "Requirement already satisfied: rich in /usr/local/lib/python3.11/dist-packages (from keras>=3.5.0->tensorflow>=1.15.0->-r requirements.txt (line 5)) (13.9.4)\n",
            "Requirement already satisfied: namex in /usr/local/lib/python3.11/dist-packages (from keras>=3.5.0->tensorflow>=1.15.0->-r requirements.txt (line 5)) (0.0.9)\n",
            "Requirement already satisfied: optree in /usr/local/lib/python3.11/dist-packages (from keras>=3.5.0->tensorflow>=1.15.0->-r requirements.txt (line 5)) (0.15.0)\n",
            "Requirement already satisfied: charset-normalizer<4,>=2 in /usr/local/lib/python3.11/dist-packages (from requests->transformers>=2.9.0->-r requirements.txt (line 1)) (3.4.2)\n",
            "Requirement already satisfied: idna<4,>=2.5 in /usr/local/lib/python3.11/dist-packages (from requests->transformers>=2.9.0->-r requirements.txt (line 1)) (3.10)\n",
            "Requirement already satisfied: urllib3<3,>=1.21.1 in /usr/local/lib/python3.11/dist-packages (from requests->transformers>=2.9.0->-r requirements.txt (line 1)) (2.4.0)\n",
            "Requirement already satisfied: certifi>=2017.4.17 in /usr/local/lib/python3.11/dist-packages (from requests->transformers>=2.9.0->-r requirements.txt (line 1)) (2025.4.26)\n",
            "Requirement already satisfied: markdown>=2.6.8 in /usr/local/lib/python3.11/dist-packages (from tensorboard<2.19,>=2.18->tensorflow>=1.15.0->-r requirements.txt (line 5)) (3.8)\n",
            "Requirement already satisfied: tensorboard-data-server<0.8.0,>=0.7.0 in /usr/local/lib/python3.11/dist-packages (from tensorboard<2.19,>=2.18->tensorflow>=1.15.0->-r requirements.txt (line 5)) (0.7.2)\n",
            "Requirement already satisfied: werkzeug>=1.0.1 in /usr/local/lib/python3.11/dist-packages (from tensorboard<2.19,>=2.18->tensorflow>=1.15.0->-r requirements.txt (line 5)) (3.1.3)\n",
            "Requirement already satisfied: MarkupSafe>=2.0 in /usr/local/lib/python3.11/dist-packages (from jinja2->torch>=1.5.0->-r requirements.txt (line 6)) (3.0.2)\n",
            "Requirement already satisfied: markdown-it-py>=2.2.0 in /usr/local/lib/python3.11/dist-packages (from rich->keras>=3.5.0->tensorflow>=1.15.0->-r requirements.txt (line 5)) (3.0.0)\n",
            "Requirement already satisfied: pygments<3.0.0,>=2.13.0 in /usr/local/lib/python3.11/dist-packages (from rich->keras>=3.5.0->tensorflow>=1.15.0->-r requirements.txt (line 5)) (2.19.1)\n",
            "Requirement already satisfied: mdurl~=0.1 in /usr/local/lib/python3.11/dist-packages (from markdown-it-py>=2.2.0->rich->keras>=3.5.0->tensorflow>=1.15.0->-r requirements.txt (line 5)) (0.1.2)\n",
            "Downloading nvidia_cublas_cu12-12.4.5.8-py3-none-manylinux2014_x86_64.whl (363.4 MB)\n",
            "\u001b[2K   \u001b[90m━━━━━━━━━━━━━━━━━━━━━━━━━━━━━━━━━━━━━━━━\u001b[0m \u001b[32m363.4/363.4 MB\u001b[0m \u001b[31m1.0 MB/s\u001b[0m eta \u001b[36m0:00:00\u001b[0m\n",
            "\u001b[?25hDownloading nvidia_cuda_cupti_cu12-12.4.127-py3-none-manylinux2014_x86_64.whl (13.8 MB)\n",
            "\u001b[2K   \u001b[90m━━━━━━━━━━━━━━━━━━━━━━━━━━━━━━━━━━━━━━━━\u001b[0m \u001b[32m13.8/13.8 MB\u001b[0m \u001b[31m94.5 MB/s\u001b[0m eta \u001b[36m0:00:00\u001b[0m\n",
            "\u001b[?25hDownloading nvidia_cuda_nvrtc_cu12-12.4.127-py3-none-manylinux2014_x86_64.whl (24.6 MB)\n",
            "\u001b[2K   \u001b[90m━━━━━━━━━━━━━━━━━━━━━━━━━━━━━━━━━━━━━━━━\u001b[0m \u001b[32m24.6/24.6 MB\u001b[0m \u001b[31m55.7 MB/s\u001b[0m eta \u001b[36m0:00:00\u001b[0m\n",
            "\u001b[?25hDownloading nvidia_cuda_runtime_cu12-12.4.127-py3-none-manylinux2014_x86_64.whl (883 kB)\n",
            "\u001b[2K   \u001b[90m━━━━━━━━━━━━━━━━━━━━━━━━━━━━━━━━━━━━━━━━\u001b[0m \u001b[32m883.7/883.7 kB\u001b[0m \u001b[31m51.0 MB/s\u001b[0m eta \u001b[36m0:00:00\u001b[0m\n",
            "\u001b[?25hDownloading nvidia_cudnn_cu12-9.1.0.70-py3-none-manylinux2014_x86_64.whl (664.8 MB)\n",
            "\u001b[2K   \u001b[90m━━━━━━━━━━━━━━━━━━━━━━━━━━━━━━━━━━━━━━━━\u001b[0m \u001b[32m664.8/664.8 MB\u001b[0m \u001b[31m2.4 MB/s\u001b[0m eta \u001b[36m0:00:00\u001b[0m\n",
            "\u001b[?25hDownloading nvidia_cufft_cu12-11.2.1.3-py3-none-manylinux2014_x86_64.whl (211.5 MB)\n",
            "\u001b[2K   \u001b[90m━━━━━━━━━━━━━━━━━━━━━━━━━━━━━━━━━━━━━━━━\u001b[0m \u001b[32m211.5/211.5 MB\u001b[0m \u001b[31m6.3 MB/s\u001b[0m eta \u001b[36m0:00:00\u001b[0m\n",
            "\u001b[?25hDownloading nvidia_curand_cu12-10.3.5.147-py3-none-manylinux2014_x86_64.whl (56.3 MB)\n",
            "\u001b[2K   \u001b[90m━━━━━━━━━━━━━━━━━━━━━━━━━━━━━━━━━━━━━━━━\u001b[0m \u001b[32m56.3/56.3 MB\u001b[0m \u001b[31m13.1 MB/s\u001b[0m eta \u001b[36m0:00:00\u001b[0m\n",
            "\u001b[?25hDownloading nvidia_cusolver_cu12-11.6.1.9-py3-none-manylinux2014_x86_64.whl (127.9 MB)\n",
            "\u001b[2K   \u001b[90m━━━━━━━━━━━━━━━━━━━━━━━━━━━━━━━━━━━━━━━━\u001b[0m \u001b[32m127.9/127.9 MB\u001b[0m \u001b[31m7.6 MB/s\u001b[0m eta \u001b[36m0:00:00\u001b[0m\n",
            "\u001b[?25hDownloading nvidia_cusparse_cu12-12.3.1.170-py3-none-manylinux2014_x86_64.whl (207.5 MB)\n",
            "\u001b[2K   \u001b[90m━━━━━━━━━━━━━━━━━━━━━━━━━━━━━━━━━━━━━━━━\u001b[0m \u001b[32m207.5/207.5 MB\u001b[0m \u001b[31m5.6 MB/s\u001b[0m eta \u001b[36m0:00:00\u001b[0m\n",
            "\u001b[?25hDownloading nvidia_nvjitlink_cu12-12.4.127-py3-none-manylinux2014_x86_64.whl (21.1 MB)\n",
            "\u001b[2K   \u001b[90m━━━━━━━━━━━━━━━━━━━━━━━━━━━━━━━━━━━━━━━━\u001b[0m \u001b[32m21.1/21.1 MB\u001b[0m \u001b[31m96.9 MB/s\u001b[0m eta \u001b[36m0:00:00\u001b[0m\n",
            "\u001b[?25hDownloading Unidecode-1.4.0-py3-none-any.whl (235 kB)\n",
            "\u001b[2K   \u001b[90m━━━━━━━━━━━━━━━━━━━━━━━━━━━━━━━━━━━━━━━━\u001b[0m \u001b[32m235.8/235.8 kB\u001b[0m \u001b[31m22.2 MB/s\u001b[0m eta \u001b[36m0:00:00\u001b[0m\n",
            "\u001b[?25hBuilding wheels for collected packages: nltk\n",
            "  Building wheel for nltk (setup.py) ... \u001b[?25l\u001b[?25hdone\n",
            "  Created wheel for nltk: filename=nltk-3.4.5-py3-none-any.whl size=1449909 sha256=4ec104cf725e6bdfebd8b5dacdeb63e4e116e42fdef9c887041e00148df20127\n",
            "  Stored in directory: /root/.cache/pip/wheels/e2/42/d2/9653a8c6485c12994b35f1823020d5b41e5ca8305b4d4730b1\n",
            "Successfully built nltk\n",
            "Installing collected packages: unidecode, nvidia-nvjitlink-cu12, nvidia-curand-cu12, nvidia-cufft-cu12, nvidia-cuda-runtime-cu12, nvidia-cuda-nvrtc-cu12, nvidia-cuda-cupti-cu12, nvidia-cublas-cu12, nltk, nvidia-cusparse-cu12, nvidia-cudnn-cu12, nvidia-cusolver-cu12\n",
            "  Attempting uninstall: nvidia-nvjitlink-cu12\n",
            "    Found existing installation: nvidia-nvjitlink-cu12 12.5.82\n",
            "    Uninstalling nvidia-nvjitlink-cu12-12.5.82:\n",
            "      Successfully uninstalled nvidia-nvjitlink-cu12-12.5.82\n",
            "  Attempting uninstall: nvidia-curand-cu12\n",
            "    Found existing installation: nvidia-curand-cu12 10.3.6.82\n",
            "    Uninstalling nvidia-curand-cu12-10.3.6.82:\n",
            "      Successfully uninstalled nvidia-curand-cu12-10.3.6.82\n",
            "  Attempting uninstall: nvidia-cufft-cu12\n",
            "    Found existing installation: nvidia-cufft-cu12 11.2.3.61\n",
            "    Uninstalling nvidia-cufft-cu12-11.2.3.61:\n",
            "      Successfully uninstalled nvidia-cufft-cu12-11.2.3.61\n",
            "  Attempting uninstall: nvidia-cuda-runtime-cu12\n",
            "    Found existing installation: nvidia-cuda-runtime-cu12 12.5.82\n",
            "    Uninstalling nvidia-cuda-runtime-cu12-12.5.82:\n",
            "      Successfully uninstalled nvidia-cuda-runtime-cu12-12.5.82\n",
            "  Attempting uninstall: nvidia-cuda-nvrtc-cu12\n",
            "    Found existing installation: nvidia-cuda-nvrtc-cu12 12.5.82\n",
            "    Uninstalling nvidia-cuda-nvrtc-cu12-12.5.82:\n",
            "      Successfully uninstalled nvidia-cuda-nvrtc-cu12-12.5.82\n",
            "  Attempting uninstall: nvidia-cuda-cupti-cu12\n",
            "    Found existing installation: nvidia-cuda-cupti-cu12 12.5.82\n",
            "    Uninstalling nvidia-cuda-cupti-cu12-12.5.82:\n",
            "      Successfully uninstalled nvidia-cuda-cupti-cu12-12.5.82\n",
            "  Attempting uninstall: nvidia-cublas-cu12\n",
            "    Found existing installation: nvidia-cublas-cu12 12.5.3.2\n",
            "    Uninstalling nvidia-cublas-cu12-12.5.3.2:\n",
            "      Successfully uninstalled nvidia-cublas-cu12-12.5.3.2\n",
            "  Attempting uninstall: nltk\n",
            "    Found existing installation: nltk 3.9.1\n",
            "    Uninstalling nltk-3.9.1:\n",
            "      Successfully uninstalled nltk-3.9.1\n",
            "  Attempting uninstall: nvidia-cusparse-cu12\n",
            "    Found existing installation: nvidia-cusparse-cu12 12.5.1.3\n",
            "    Uninstalling nvidia-cusparse-cu12-12.5.1.3:\n",
            "      Successfully uninstalled nvidia-cusparse-cu12-12.5.1.3\n",
            "  Attempting uninstall: nvidia-cudnn-cu12\n",
            "    Found existing installation: nvidia-cudnn-cu12 9.3.0.75\n",
            "    Uninstalling nvidia-cudnn-cu12-9.3.0.75:\n",
            "      Successfully uninstalled nvidia-cudnn-cu12-9.3.0.75\n",
            "  Attempting uninstall: nvidia-cusolver-cu12\n",
            "    Found existing installation: nvidia-cusolver-cu12 11.6.3.83\n",
            "    Uninstalling nvidia-cusolver-cu12-11.6.3.83:\n",
            "      Successfully uninstalled nvidia-cusolver-cu12-11.6.3.83\n",
            "\u001b[31mERROR: pip's dependency resolver does not currently take into account all the packages that are installed. This behaviour is the source of the following dependency conflicts.\n",
            "textblob 0.19.0 requires nltk>=3.9, but you have nltk 3.4.5 which is incompatible.\u001b[0m\u001b[31m\n",
            "\u001b[0mSuccessfully installed nltk-3.4.5 nvidia-cublas-cu12-12.4.5.8 nvidia-cuda-cupti-cu12-12.4.127 nvidia-cuda-nvrtc-cu12-12.4.127 nvidia-cuda-runtime-cu12-12.4.127 nvidia-cudnn-cu12-9.1.0.70 nvidia-cufft-cu12-11.2.1.3 nvidia-curand-cu12-10.3.5.147 nvidia-cusolver-cu12-11.6.1.9 nvidia-cusparse-cu12-12.3.1.170 nvidia-nvjitlink-cu12-12.4.127 unidecode-1.4.0\n"
          ]
        }
      ],
      "source": [
        "!pip install -r requirements.txt"
      ]
    },
    {
      "cell_type": "code",
      "execution_count": null,
      "metadata": {
        "colab": {
          "base_uri": "https://localhost:8080/"
        },
        "id": "qBfcmQdZBH7L",
        "outputId": "e700ec3f-c35e-4f93-a879-4090a2d725e3"
      },
      "outputs": [
        {
          "output_type": "stream",
          "name": "stdout",
          "text": [
            "Collecting nltk==3.6.7\n",
            "  Downloading nltk-3.6.7-py3-none-any.whl.metadata (2.8 kB)\n",
            "Requirement already satisfied: click in /usr/local/lib/python3.11/dist-packages (from nltk==3.6.7) (8.2.0)\n",
            "Requirement already satisfied: joblib in /usr/local/lib/python3.11/dist-packages (from nltk==3.6.7) (1.5.0)\n",
            "Requirement already satisfied: regex>=2021.8.3 in /usr/local/lib/python3.11/dist-packages (from nltk==3.6.7) (2024.11.6)\n",
            "Requirement already satisfied: tqdm in /usr/local/lib/python3.11/dist-packages (from nltk==3.6.7) (4.67.1)\n",
            "Downloading nltk-3.6.7-py3-none-any.whl (1.5 MB)\n",
            "\u001b[2K   \u001b[90m━━━━━━━━━━━━━━━━━━━━━━━━━━━━━━━━━━━━━━━━\u001b[0m \u001b[32m1.5/1.5 MB\u001b[0m \u001b[31m17.3 MB/s\u001b[0m eta \u001b[36m0:00:00\u001b[0m\n",
            "\u001b[?25hInstalling collected packages: nltk\n",
            "  Attempting uninstall: nltk\n",
            "    Found existing installation: nltk 3.4.5\n",
            "    Uninstalling nltk-3.4.5:\n",
            "      Successfully uninstalled nltk-3.4.5\n",
            "\u001b[31mERROR: pip's dependency resolver does not currently take into account all the packages that are installed. This behaviour is the source of the following dependency conflicts.\n",
            "textblob 0.19.0 requires nltk>=3.9, but you have nltk 3.6.7 which is incompatible.\u001b[0m\u001b[31m\n",
            "\u001b[0mSuccessfully installed nltk-3.6.7\n"
          ]
        }
      ],
      "source": [
        "!pip install nltk==3.6.7"
      ]
    },
    {
      "cell_type": "code",
      "execution_count": null,
      "metadata": {
        "colab": {
          "base_uri": "https://localhost:8080/"
        },
        "id": "4t_uFCj5BjSw",
        "outputId": "8350de3e-7292-4e43-e17c-567534ec0d75"
      },
      "outputs": [
        {
          "output_type": "stream",
          "name": "stdout",
          "text": [
            "CODE_OF_CONDUCT.md   examples  predict.py    requirements.txt\t  tutorial\n",
            "CONTRIBUTING.md      LICENSE   predict.sh    run_all_tasks.sh\t  utils\n",
            "dataset\t\t     main.py   README.id.md  run_single_task.sh\n",
            "data_utils_notebook  modules   README.md     submission_examples\n"
          ]
        }
      ],
      "source": [
        "!ls"
      ]
    },
    {
      "cell_type": "markdown",
      "source": [
        "#Fine Tuning -  Dataset Publik"
      ],
      "metadata": {
        "id": "WrS_06UyW9i5"
      }
    },
    {
      "cell_type": "markdown",
      "source": [
        "##Import Library"
      ],
      "metadata": {
        "id": "UFjhn1exWsuI"
      }
    },
    {
      "cell_type": "code",
      "source": [
        "import torch\n",
        "from torch.utils.data import DataLoader, Dataset\n",
        "from transformers import BertTokenizer, BertConfig, BertForSequenceClassification\n",
        "from sklearn.metrics import classification_report, confusion_matrix, ConfusionMatrixDisplay\n",
        "from tqdm import tqdm\n",
        "import matplotlib.pyplot as plt\n",
        "import pandas as pd"
      ],
      "metadata": {
        "id": "kg7QMDqyrQ6H"
      },
      "execution_count": null,
      "outputs": []
    },
    {
      "cell_type": "markdown",
      "source": [
        "##Load Tokenizer dan Config IndoBERT"
      ],
      "metadata": {
        "id": "v9Cuq3htXKkG"
      }
    },
    {
      "cell_type": "code",
      "source": [
        "#Load Tokenizer dan Config IndoBERT\n",
        "tokenizer = BertTokenizer.from_pretrained('indobenchmark/indobert-base-p1')\n",
        "config = BertConfig.from_pretrained('indobenchmark/indobert-base-p1')"
      ],
      "metadata": {
        "colab": {
          "base_uri": "https://localhost:8080/",
          "height": 274,
          "referenced_widgets": [
            "fd30baa291974297890f3107a063cbec",
            "e7b1c10df96744c2b06ae218140c0beb",
            "63a12c198d0c47e78fac9195d0e2d7a5",
            "98389dc2a418431c8dd705794f3d0c08",
            "8755a6bbf22b403f9ccb45c0b2640422",
            "23d8036169cd4622aa9da85a628102ad",
            "bcd55c3cc4544e029730cbad5f94c5b6",
            "39a9418af3d64a4db01b0fd377c30988",
            "443f93ebe84b47b1b4d3c6f875e0ecb5",
            "4a8d8ca837424447b5f1b5ced089d945",
            "180aa6b950cd4289a383107066ca6b73",
            "1812daaf45b34fa89e4987572f2ef9b9",
            "d18ca3e268aa4b139b4da93118ef3032",
            "a22a85a6ac484134af52151acc9e198f",
            "9181dccf24d24274af654f0f0094792e",
            "00ac3c40d468420bb2b05a0a5eae4b81",
            "3df8086ecf474aadb6ae2dbdd825b330",
            "382d6c8ca21a4b3e9ce09927cc67ac9e",
            "430f14936f8b4c1da3fd8ae21ed65977",
            "75206bb5a6b24f368babbbc88621b895",
            "a2e6e11c92434620928008927ea87d5c",
            "0e812352ff5d4800be03c5230b224d25",
            "b65de84836f048aab9cbe00165f4a471",
            "1377153b1a2c4e7e8b7fb3153f2d2ca3",
            "4d998b356bf34caca670655bcf3dae6d",
            "c22a79cd83e44d799e077eb51851a452",
            "342e03dab85e4310931dc8a686204c1f",
            "93bdd582c9004bdeb3225f2015ca83c7",
            "324187d1ae6d47c0aecf19c887b54db4",
            "49fc65c1aa594d75a37b1b984eea03d5",
            "be54c87d51224284a9711ff699885ddc",
            "999f8f9fe85040f2b2e9ea34d3f8cdbd",
            "f4cfc3ace2a64435a8f703667151dab5",
            "5ab6cf2f667c4d229cbbbfd01df4a14b",
            "b93109d9d223455c913861058b7d2042",
            "0da07479f060458181eda2e6d258f1b1",
            "14720a636ed54faaac5cdb8ade079be4",
            "71d21f5b8b3e4da88dee43bc67a8a9c0",
            "771f14d7a08f478ab85b0a987f8fda15",
            "592424b3db5e4144be57a31124e608fe",
            "57b88fe79d9441d3a7d5fe40ed7d26de",
            "316b3ba3e0c14045a03a02a9a7814f99",
            "2ab59bbf10544be09ece997dcfd6dacb",
            "50c6273a37074c75ac32ba782ea41256"
          ]
        },
        "id": "CRdFzWuWrmEF",
        "outputId": "8115a3ab-c6bf-4da8-bcf5-8c76d61dbc1a"
      },
      "execution_count": null,
      "outputs": [
        {
          "output_type": "stream",
          "name": "stderr",
          "text": [
            "/usr/local/lib/python3.11/dist-packages/huggingface_hub/utils/_auth.py:94: UserWarning: \n",
            "The secret `HF_TOKEN` does not exist in your Colab secrets.\n",
            "To authenticate with the Hugging Face Hub, create a token in your settings tab (https://huggingface.co/settings/tokens), set it as secret in your Google Colab and restart your session.\n",
            "You will be able to reuse this secret in all of your notebooks.\n",
            "Please note that authentication is recommended but still optional to access public models or datasets.\n",
            "  warnings.warn(\n"
          ]
        },
        {
          "output_type": "display_data",
          "data": {
            "text/plain": [
              "tokenizer_config.json:   0%|          | 0.00/2.00 [00:00<?, ?B/s]"
            ],
            "application/vnd.jupyter.widget-view+json": {
              "version_major": 2,
              "version_minor": 0,
              "model_id": "fd30baa291974297890f3107a063cbec"
            }
          },
          "metadata": {}
        },
        {
          "output_type": "display_data",
          "data": {
            "text/plain": [
              "vocab.txt:   0%|          | 0.00/229k [00:00<?, ?B/s]"
            ],
            "application/vnd.jupyter.widget-view+json": {
              "version_major": 2,
              "version_minor": 0,
              "model_id": "1812daaf45b34fa89e4987572f2ef9b9"
            }
          },
          "metadata": {}
        },
        {
          "output_type": "display_data",
          "data": {
            "text/plain": [
              "special_tokens_map.json:   0%|          | 0.00/112 [00:00<?, ?B/s]"
            ],
            "application/vnd.jupyter.widget-view+json": {
              "version_major": 2,
              "version_minor": 0,
              "model_id": "b65de84836f048aab9cbe00165f4a471"
            }
          },
          "metadata": {}
        },
        {
          "output_type": "display_data",
          "data": {
            "text/plain": [
              "config.json:   0%|          | 0.00/1.53k [00:00<?, ?B/s]"
            ],
            "application/vnd.jupyter.widget-view+json": {
              "version_major": 2,
              "version_minor": 0,
              "model_id": "5ab6cf2f667c4d229cbbbfd01df4a14b"
            }
          },
          "metadata": {}
        }
      ]
    },
    {
      "cell_type": "code",
      "source": [
        "#Definisikan DocumentSentimentDataset\n",
        "class DocumentSentimentDataset(Dataset):\n",
        "    LABEL2INDEX = {'negative': 0, 'neutral': 1, 'positive': 2}\n",
        "    INDEX2LABEL = {0: 'negative', 1: 'neutral', 2: 'positive'}\n",
        "    NUM_LABELS = 3\n",
        "\n",
        "    def __init__(self, file_path, tokenizer, lowercase=True):\n",
        "        self.tokenizer = tokenizer\n",
        "        self.lowercase = lowercase\n",
        "\n",
        "        df = pd.read_csv(file_path, sep='\\t')\n",
        "        if lowercase:\n",
        "            df['text'] = df['text'].str.lower()\n",
        "        self.texts = df['text'].tolist()\n",
        "        self.labels = df['sentiment'].map(self.LABEL2INDEX).tolist()\n",
        "\n",
        "    def __len__(self):\n",
        "        return len(self.texts)\n",
        "\n",
        "    def __getitem__(self, idx):\n",
        "        text = self.texts[idx]\n",
        "        label = self.labels[idx]\n",
        "        return text, label\n"
      ],
      "metadata": {
        "id": "K8cf8g6Trnzs"
      },
      "execution_count": null,
      "outputs": []
    },
    {
      "cell_type": "code",
      "source": [
        "#Definisikan DocumentSentimentDataLoader\n",
        "class DocumentSentimentDataLoader(DataLoader):\n",
        "    def __init__(self, dataset, max_seq_len=512, batch_size=32, num_workers=4, shuffle=False):\n",
        "        self.tokenizer = dataset.tokenizer\n",
        "        self.max_seq_len = max_seq_len\n",
        "\n",
        "        def collate_fn(batch):\n",
        "            texts, labels = zip(*batch)\n",
        "            inputs = self.tokenizer(list(texts), padding=True, truncation=True, max_length=max_seq_len, return_tensors=\"pt\")\n",
        "            labels = torch.tensor(labels)\n",
        "            return inputs['input_ids'], inputs['attention_mask'], labels\n",
        "\n",
        "        super().__init__(\n",
        "            dataset=dataset,\n",
        "            batch_size=batch_size,\n",
        "            shuffle=shuffle,\n",
        "            num_workers=num_workers,\n",
        "            collate_fn=collate_fn\n",
        "        )\n"
      ],
      "metadata": {
        "id": "aBNuaSaOrpae"
      },
      "execution_count": null,
      "outputs": []
    },
    {
      "cell_type": "markdown",
      "source": [
        "##Load Dataset Publik"
      ],
      "metadata": {
        "id": "U0ZZDjfIXxEs"
      }
    },
    {
      "cell_type": "code",
      "source": [
        "from google.colab import drive\n",
        "drive.mount('/content/drive')"
      ],
      "metadata": {
        "colab": {
          "base_uri": "https://localhost:8080/"
        },
        "id": "lZ__3_m5Xz8c",
        "outputId": "c05b2a3e-7936-4db3-9ac2-cdd324c76204"
      },
      "execution_count": null,
      "outputs": [
        {
          "output_type": "stream",
          "name": "stdout",
          "text": [
            "Mounted at /content/drive\n"
          ]
        }
      ]
    },
    {
      "cell_type": "code",
      "source": [
        "#Load Semua Dataset\n",
        "# Dictionary path dataset\n",
        "dataset_paths = {\n",
        "    \"dataset_a\": {\n",
        "        \"train\": \"/content/drive/MyDrive/Colab Notebooks/Skripsi/Dataset Publik/dataset_a/train.tsv\",\n",
        "        \"valid\": \"/content/drive/MyDrive/Colab Notebooks/Skripsi/Dataset Publik/dataset_a/valid.tsv\",\n",
        "        \"test\": \"/content/drive/MyDrive/Colab Notebooks/Skripsi/Dataset Publik/dataset_a/test.tsv\",\n",
        "    },\n",
        "    \"dataset_b\": {\n",
        "        \"train\": \"/content/drive/MyDrive/Colab Notebooks/Skripsi/Dataset Publik/dataset_b/train.tsv\",\n",
        "        \"valid\": \"/content/drive/MyDrive/Colab Notebooks/Skripsi/Dataset Publik/dataset_b/valid.tsv\",\n",
        "        \"test\": \"/content/drive/MyDrive/Colab Notebooks/Skripsi/Dataset Publik/dataset_b/test.tsv\",\n",
        "    },\n",
        "    \"dataset_c\": {\n",
        "        \"train\": \"/content/drive/MyDrive/Colab Notebooks/Skripsi/Dataset Publik/dataset_c/train.tsv\",\n",
        "        \"valid\": \"/content/drive/MyDrive/Colab Notebooks/Skripsi/Dataset Publik/dataset_c/valid.tsv\",\n",
        "        \"test\": \"/content/drive/MyDrive/Colab Notebooks/Skripsi/Dataset Publik/dataset_c/test.tsv\",\n",
        "    },\n",
        "}\n"
      ],
      "metadata": {
        "id": "oOYhKVTLrq_q"
      },
      "execution_count": null,
      "outputs": []
    },
    {
      "cell_type": "code",
      "source": [
        "# Load semua dataset pakai looping\n",
        "loaded_datasets = {}\n",
        "for dataset_name, paths in dataset_paths.items():\n",
        "    loaded_datasets[dataset_name] = {\n",
        "        'train': DocumentSentimentDataset(paths['train'], tokenizer, lowercase=True),\n",
        "        'valid': DocumentSentimentDataset(paths['valid'], tokenizer, lowercase=True),\n",
        "        'test': DocumentSentimentDataset(paths['test'], tokenizer, lowercase=True)\n",
        "    }"
      ],
      "metadata": {
        "id": "ooQSJpbsubub"
      },
      "execution_count": null,
      "outputs": []
    },
    {
      "cell_type": "code",
      "source": [
        "# Load semua DataLoader\n",
        "loaded_dataloaders = {}\n",
        "for dataset_name, datasets in loaded_datasets.items():\n",
        "    loaded_dataloaders[dataset_name] = {\n",
        "        'train': DocumentSentimentDataLoader(dataset=datasets['train'], max_seq_len=512, batch_size=32, num_workers=16, shuffle=True),\n",
        "        'valid': DocumentSentimentDataLoader(dataset=datasets['valid'], max_seq_len=512, batch_size=32, num_workers=16, shuffle=False),\n",
        "        'test': DocumentSentimentDataLoader(dataset=datasets['test'], max_seq_len=512, batch_size=32, num_workers=16, shuffle=False),\n",
        "    }"
      ],
      "metadata": {
        "colab": {
          "base_uri": "https://localhost:8080/"
        },
        "id": "_4epROPzrtF5",
        "outputId": "7abbaffc-3e24-4ae0-854f-e1d930179968"
      },
      "execution_count": null,
      "outputs": [
        {
          "output_type": "stream",
          "name": "stderr",
          "text": [
            "/usr/local/lib/python3.11/dist-packages/torch/utils/data/dataloader.py:624: UserWarning: This DataLoader will create 16 worker processes in total. Our suggested max number of worker in current system is 2, which is smaller than what this DataLoader is going to create. Please be aware that excessive worker creation might get DataLoader running slow or even freeze, lower the worker number to avoid potential slowness/freeze if necessary.\n",
            "  warnings.warn(\n"
          ]
        }
      ]
    },
    {
      "cell_type": "markdown",
      "source": [
        "##Load Model IndoBERT"
      ],
      "metadata": {
        "id": "Yob2wDx6Z-Uh"
      }
    },
    {
      "cell_type": "code",
      "source": [
        "#Load Model IndoBERT\n",
        "# Update config\n",
        "config.num_labels = DocumentSentimentDataset.NUM_LABELS\n",
        "\n",
        "# Load model\n",
        "model = BertForSequenceClassification.from_pretrained('indobenchmark/indobert-base-p1', config=config)\n",
        "\n",
        "# Device\n",
        "device = torch.device('cuda' if torch.cuda.is_available() else 'cpu')\n",
        "model.to(device)\n",
        "\n",
        "# Optimizer\n",
        "optimizer = torch.optim.AdamW(model.parameters(), lr=2e-5)\n"
      ],
      "metadata": {
        "colab": {
          "base_uri": "https://localhost:8080/",
          "height": 137,
          "referenced_widgets": [
            "c2146effda2544938562c1b50dc270c7",
            "1d149d500daa4ba59600baf9850b57e9",
            "a25b214f2d644cbfae78bf07ce3b8088",
            "5aab75582cca4f89a8cd44b856299d19",
            "7ecd054531954ec1bed37e46aa985d12",
            "3f329ec0bec148ebbe7d366e8f33dbfc",
            "950476bf03ae4ff4908f996348474dca",
            "8f436c75c4eb4283be0e15a8231a3f76",
            "a633f8c67ee34032b7e1b57780f75fc5",
            "1c57bd6bd16048b1a1663acac3fd2d16",
            "1ea81eeb217e4b048ddfb1274ac979fc",
            "03235af5e8e644b08afbfecf64a3be72",
            "2c28586895f945caa9bfc5946801bd4a",
            "432110f6707e4934bb44b792d61e409c",
            "10f0ebf0fbec4747869217e38789bacf",
            "d7d96bf4ed754c8792b535b46ae98af5",
            "6278fb27c1b048aeaa6da30cf29fbffb",
            "defc0b68799c4bf4b710d1708dfa0259",
            "721e9eaab02242c79f438496257010a6",
            "2ac42ecf20f547759d89bf86c5ade3b2",
            "0dc400bef056434cb98c43e702180106",
            "4864b091923c4d29b3b90ed5514b74c3"
          ]
        },
        "id": "j3sNQd6dr19e",
        "outputId": "09f8039b-c26c-4619-d981-b3bcd84ad9a6"
      },
      "execution_count": null,
      "outputs": [
        {
          "output_type": "display_data",
          "data": {
            "text/plain": [
              "pytorch_model.bin:   0%|          | 0.00/498M [00:00<?, ?B/s]"
            ],
            "application/vnd.jupyter.widget-view+json": {
              "version_major": 2,
              "version_minor": 0,
              "model_id": "c2146effda2544938562c1b50dc270c7"
            }
          },
          "metadata": {}
        },
        {
          "output_type": "stream",
          "name": "stderr",
          "text": [
            "Some weights of BertForSequenceClassification were not initialized from the model checkpoint at indobenchmark/indobert-base-p1 and are newly initialized: ['classifier.bias', 'classifier.weight']\n",
            "You should probably TRAIN this model on a down-stream task to be able to use it for predictions and inference.\n"
          ]
        },
        {
          "output_type": "display_data",
          "data": {
            "text/plain": [
              "model.safetensors:   0%|          | 0.00/498M [00:00<?, ?B/s]"
            ],
            "application/vnd.jupyter.widget-view+json": {
              "version_major": 2,
              "version_minor": 0,
              "model_id": "03235af5e8e644b08afbfecf64a3be72"
            }
          },
          "metadata": {}
        }
      ]
    },
    {
      "cell_type": "markdown",
      "source": [
        "##Training dan Evaluasi Model"
      ],
      "metadata": {
        "id": "DJzTERp0aDJF"
      }
    },
    {
      "cell_type": "code",
      "source": [
        "# Training dan Evaluasi\n",
        "n_epochs = 5\n",
        "\n",
        "for dataset_name, dataloaders in loaded_dataloaders.items():\n",
        "    print(f\"\\n=== Mulai Training untuk {dataset_name} ===\")\n",
        "\n",
        "    train_loader = dataloaders['train']\n",
        "    valid_loader = dataloaders['valid']\n",
        "    test_loader = dataloaders['test']\n",
        "\n",
        "    # Reset model dan optimizer\n",
        "    model = BertForSequenceClassification.from_pretrained('indobenchmark/indobert-base-p1', config=config)\n",
        "    model.to(device)\n",
        "    optimizer = torch.optim.AdamW(model.parameters(), lr=2e-5)\n",
        "\n",
        "    for epoch in range(n_epochs):\n",
        "        # Training\n",
        "        model.train()\n",
        "        total_train_loss = 0\n",
        "        list_train_hyp, list_train_label = [], []\n",
        "\n",
        "        train_pbar = tqdm(train_loader, desc=f\"[{dataset_name}] Epoch {epoch+1} - Training\")\n",
        "        for input_ids, attention_mask, labels in train_pbar:\n",
        "            input_ids, attention_mask, labels = input_ids.to(device), attention_mask.to(device), labels.to(device)\n",
        "\n",
        "            optimizer.zero_grad()\n",
        "            outputs = model(input_ids, attention_mask=attention_mask, labels=labels)\n",
        "            loss = outputs.loss\n",
        "            total_train_loss += loss.item()\n",
        "            loss.backward()\n",
        "            optimizer.step()\n",
        "\n",
        "            _, preds = torch.max(outputs.logits, dim=1)\n",
        "            list_train_hyp += preds.cpu().numpy().tolist()\n",
        "            list_train_label += labels.cpu().numpy().tolist()\n",
        "\n",
        "        print(f\"[{dataset_name}] Epoch {epoch+1} - Train Loss: {total_train_loss/len(train_loader):.4f}\")\n",
        "        print(classification_report(list_train_label, list_train_hyp, target_names=['negative', 'neutral', 'positive'], digits=4))\n",
        "\n",
        "        # Validation\n",
        "        model.eval()\n",
        "        list_val_hyp, list_val_label = [], []\n",
        "        total_val_loss = 0\n",
        "\n",
        "        with torch.no_grad():\n",
        "            for input_ids, attention_mask, labels in valid_loader:\n",
        "                input_ids, attention_mask, labels = input_ids.to(device), attention_mask.to(device), labels.to(device)\n",
        "\n",
        "                outputs = model(input_ids, attention_mask=attention_mask, labels=labels)\n",
        "                loss = outputs.loss\n",
        "                total_val_loss += loss.item()\n",
        "\n",
        "                _, preds = torch.max(outputs.logits, dim=1)\n",
        "                list_val_hyp += preds.cpu().numpy().tolist()\n",
        "                list_val_label += labels.cpu().numpy().tolist()\n",
        "\n",
        "        print(f\"[{dataset_name}] Epoch {epoch+1} - Validation Loss: {total_val_loss/len(valid_loader):.4f}\")\n",
        "        print(classification_report(list_val_label, list_val_hyp, target_names=['negative', 'neutral', 'positive'], digits=4))\n",
        "\n",
        "        # Confusion Matrix\n",
        "        cm = confusion_matrix(list_val_label, list_val_hyp, labels=[0,1,2])\n",
        "        disp = ConfusionMatrixDisplay(confusion_matrix=cm, display_labels=['negative', 'neutral', 'positive'])\n",
        "        disp.plot(cmap='Blues', values_format='d')\n",
        "        plt.title(f\"Confusion Matrix ({dataset_name} - Epoch {epoch+1})\")\n",
        "        plt.show()\n",
        "\n",
        "        # Test Set\n",
        "    model.eval()\n",
        "    list_test_preds = []\n",
        "\n",
        "    with torch.no_grad():\n",
        "        for input_ids, attention_mask, _ in test_loader:\n",
        "            input_ids, attention_mask = input_ids.to(device), attention_mask.to(device)\n",
        "            outputs = model(input_ids, attention_mask=attention_mask)\n",
        "            _, preds = torch.max(outputs.logits, dim=1)\n",
        "            list_test_preds += preds.cpu().numpy().tolist()\n",
        "\n",
        "    print(f\"[{dataset_name}] Test Prediction Labels:\", list_test_preds)\n",
        "\n",
        "    # ================== SIMPAN MODEL (hanya satu versi, hasil akhir) ==================\n",
        "    model_save_path = f\"/content/drive/MyDrive/Colab Notebooks/Skripsi/Model/saved_model_{dataset_name.lower()}.pt\"\n",
        "    torch.save(model.state_dict(), model_save_path)\n",
        "    print(f\"✅ Model {dataset_name} disimpan di: {model_save_path}\")\n"
      ],
      "metadata": {
        "colab": {
          "base_uri": "https://localhost:8080/",
          "height": 1000
        },
        "id": "yn1dNWvWr5QD",
        "outputId": "292f2085-450e-41a2-ba2b-924bc657ee41"
      },
      "execution_count": null,
      "outputs": [
        {
          "output_type": "stream",
          "name": "stdout",
          "text": [
            "\n",
            "=== Mulai Training untuk dataset_a ===\n"
          ]
        },
        {
          "output_type": "stream",
          "name": "stderr",
          "text": [
            "Some weights of BertForSequenceClassification were not initialized from the model checkpoint at indobenchmark/indobert-base-p1 and are newly initialized: ['classifier.bias', 'classifier.weight']\n",
            "You should probably TRAIN this model on a down-stream task to be able to use it for predictions and inference.\n",
            "\n",
            "[dataset_a] Epoch 1 - Training:   0%|          | 0/350 [00:00<?, ?it/s]\u001b[A\n",
            "[dataset_a] Epoch 1 - Training:   0%|          | 1/350 [00:03<22:33,  3.88s/it]\u001b[A\n",
            "[dataset_a] Epoch 1 - Training:   1%|          | 2/350 [00:04<10:36,  1.83s/it]\u001b[A\n",
            "[dataset_a] Epoch 1 - Training:   1%|          | 3/350 [00:04<06:47,  1.17s/it]\u001b[A\n",
            "[dataset_a] Epoch 1 - Training:   1%|          | 4/350 [00:05<04:59,  1.16it/s]\u001b[A\n",
            "[dataset_a] Epoch 1 - Training:   1%|▏         | 5/350 [00:05<04:01,  1.43it/s]\u001b[A\n",
            "[dataset_a] Epoch 1 - Training:   2%|▏         | 6/350 [00:05<03:30,  1.63it/s]\u001b[A\n",
            "[dataset_a] Epoch 1 - Training:   2%|▏         | 7/350 [00:06<03:10,  1.80it/s]\u001b[A\n",
            "[dataset_a] Epoch 1 - Training:   2%|▏         | 8/350 [00:06<02:53,  1.98it/s]\u001b[A\n",
            "[dataset_a] Epoch 1 - Training:   3%|▎         | 9/350 [00:07<02:44,  2.08it/s]\u001b[A\n",
            "[dataset_a] Epoch 1 - Training:   3%|▎         | 10/350 [00:07<02:40,  2.12it/s]\u001b[A\n",
            "[dataset_a] Epoch 1 - Training:   3%|▎         | 11/350 [00:08<02:31,  2.23it/s]\u001b[A\n",
            "[dataset_a] Epoch 1 - Training:   3%|▎         | 12/350 [00:08<02:24,  2.34it/s]\u001b[A\n",
            "[dataset_a] Epoch 1 - Training:   4%|▎         | 13/350 [00:08<02:17,  2.45it/s]\u001b[A\n",
            "[dataset_a] Epoch 1 - Training:   4%|▍         | 14/350 [00:09<02:21,  2.37it/s]\u001b[A\n",
            "[dataset_a] Epoch 1 - Training:   4%|▍         | 15/350 [00:09<02:16,  2.46it/s]\u001b[A\n",
            "[dataset_a] Epoch 1 - Training:   5%|▍         | 16/350 [00:09<02:15,  2.46it/s]\u001b[A\n",
            "[dataset_a] Epoch 1 - Training:   5%|▍         | 17/350 [00:10<02:27,  2.26it/s]\u001b[A\n",
            "[dataset_a] Epoch 1 - Training:   5%|▌         | 18/350 [00:10<02:27,  2.25it/s]\u001b[A\n",
            "[dataset_a] Epoch 1 - Training:   5%|▌         | 19/350 [00:11<02:22,  2.32it/s]\u001b[A\n",
            "[dataset_a] Epoch 1 - Training:   6%|▌         | 20/350 [00:11<02:16,  2.42it/s]\u001b[A\n",
            "[dataset_a] Epoch 1 - Training:   6%|▌         | 21/350 [00:12<02:11,  2.50it/s]\u001b[A\n",
            "[dataset_a] Epoch 1 - Training:   6%|▋         | 22/350 [00:12<02:09,  2.53it/s]\u001b[A\n",
            "[dataset_a] Epoch 1 - Training:   7%|▋         | 23/350 [00:12<02:15,  2.41it/s]\u001b[A\n",
            "[dataset_a] Epoch 1 - Training:   7%|▋         | 24/350 [00:13<02:09,  2.52it/s]\u001b[A\n",
            "[dataset_a] Epoch 1 - Training:   7%|▋         | 25/350 [00:13<02:07,  2.54it/s]\u001b[A\n",
            "[dataset_a] Epoch 1 - Training:   7%|▋         | 26/350 [00:14<02:11,  2.47it/s]\u001b[A\n",
            "[dataset_a] Epoch 1 - Training:   8%|▊         | 27/350 [00:14<02:12,  2.43it/s]\u001b[A\n",
            "[dataset_a] Epoch 1 - Training:   8%|▊         | 28/350 [00:14<02:08,  2.50it/s]\u001b[A\n",
            "[dataset_a] Epoch 1 - Training:   8%|▊         | 29/350 [00:15<02:14,  2.38it/s]\u001b[A\n",
            "[dataset_a] Epoch 1 - Training:   9%|▊         | 30/350 [00:15<02:15,  2.36it/s]\u001b[A\n",
            "[dataset_a] Epoch 1 - Training:   9%|▉         | 31/350 [00:16<02:13,  2.40it/s]\u001b[A\n",
            "[dataset_a] Epoch 1 - Training:   9%|▉         | 32/350 [00:16<02:13,  2.38it/s]\u001b[A\n",
            "[dataset_a] Epoch 1 - Training:   9%|▉         | 33/350 [00:17<02:13,  2.38it/s]\u001b[A\n",
            "[dataset_a] Epoch 1 - Training:  10%|▉         | 34/350 [00:17<02:15,  2.33it/s]\u001b[A\n",
            "[dataset_a] Epoch 1 - Training:  10%|█         | 35/350 [00:18<02:54,  1.80it/s]\u001b[A\n",
            "[dataset_a] Epoch 1 - Training:  10%|█         | 36/350 [00:18<02:43,  1.92it/s]\u001b[A\n",
            "[dataset_a] Epoch 1 - Training:  11%|█         | 37/350 [00:19<02:33,  2.03it/s]\u001b[A\n",
            "[dataset_a] Epoch 1 - Training:  11%|█         | 38/350 [00:20<03:25,  1.52it/s]\u001b[A\n",
            "[dataset_a] Epoch 1 - Training:  11%|█         | 39/350 [00:20<03:05,  1.68it/s]\u001b[A\n",
            "[dataset_a] Epoch 1 - Training:  11%|█▏        | 40/350 [00:21<02:44,  1.89it/s]\u001b[A\n",
            "[dataset_a] Epoch 1 - Training:  12%|█▏        | 41/350 [00:21<02:38,  1.95it/s]\u001b[A\n",
            "[dataset_a] Epoch 1 - Training:  12%|█▏        | 42/350 [00:22<02:55,  1.76it/s]\u001b[A\n",
            "[dataset_a] Epoch 1 - Training:  12%|█▏        | 43/350 [00:22<02:41,  1.90it/s]\u001b[A\n",
            "[dataset_a] Epoch 1 - Training:  13%|█▎        | 44/350 [00:23<02:30,  2.03it/s]\u001b[A\n",
            "[dataset_a] Epoch 1 - Training:  13%|█▎        | 45/350 [00:23<02:23,  2.12it/s]\u001b[A\n",
            "[dataset_a] Epoch 1 - Training:  13%|█▎        | 46/350 [00:23<02:14,  2.26it/s]\u001b[A\n",
            "[dataset_a] Epoch 1 - Training:  13%|█▎        | 47/350 [00:24<02:11,  2.30it/s]\u001b[A\n",
            "[dataset_a] Epoch 1 - Training:  14%|█▎        | 48/350 [00:24<02:14,  2.24it/s]\u001b[A\n",
            "[dataset_a] Epoch 1 - Training:  14%|█▍        | 49/350 [00:25<02:07,  2.36it/s]\u001b[A\n",
            "[dataset_a] Epoch 1 - Training:  14%|█▍        | 50/350 [00:25<02:10,  2.30it/s]\u001b[A\n",
            "[dataset_a] Epoch 1 - Training:  15%|█▍        | 51/350 [00:26<02:05,  2.39it/s]\u001b[A\n",
            "[dataset_a] Epoch 1 - Training:  15%|█▍        | 52/350 [00:26<02:03,  2.40it/s]\u001b[A\n",
            "[dataset_a] Epoch 1 - Training:  15%|█▌        | 53/350 [00:26<01:59,  2.48it/s]\u001b[A\n",
            "[dataset_a] Epoch 1 - Training:  15%|█▌        | 54/350 [00:27<02:03,  2.40it/s]\u001b[A\n",
            "[dataset_a] Epoch 1 - Training:  16%|█▌        | 55/350 [00:27<02:02,  2.40it/s]\u001b[A\n",
            "[dataset_a] Epoch 1 - Training:  16%|█▌        | 56/350 [00:28<01:58,  2.48it/s]\u001b[A\n",
            "[dataset_a] Epoch 1 - Training:  16%|█▋        | 57/350 [00:28<01:56,  2.51it/s]\u001b[A\n",
            "[dataset_a] Epoch 1 - Training:  17%|█▋        | 58/350 [00:28<02:02,  2.39it/s]\u001b[A\n",
            "[dataset_a] Epoch 1 - Training:  17%|█▋        | 59/350 [00:29<02:02,  2.37it/s]\u001b[A\n",
            "[dataset_a] Epoch 1 - Training:  17%|█▋        | 60/350 [00:29<02:04,  2.34it/s]\u001b[A\n",
            "[dataset_a] Epoch 1 - Training:  17%|█▋        | 61/350 [00:30<01:59,  2.43it/s]\u001b[A\n",
            "[dataset_a] Epoch 1 - Training:  18%|█▊        | 62/350 [00:30<01:59,  2.41it/s]\u001b[A\n",
            "[dataset_a] Epoch 1 - Training:  18%|█▊        | 63/350 [00:30<01:59,  2.40it/s]\u001b[A\n",
            "[dataset_a] Epoch 1 - Training:  18%|█▊        | 64/350 [00:31<01:59,  2.40it/s]\u001b[A\n",
            "[dataset_a] Epoch 1 - Training:  19%|█▊        | 65/350 [00:31<02:06,  2.25it/s]\u001b[A\n",
            "[dataset_a] Epoch 1 - Training:  19%|█▉        | 66/350 [00:32<02:07,  2.24it/s]\u001b[A\n",
            "[dataset_a] Epoch 1 - Training:  19%|█▉        | 67/350 [00:32<02:08,  2.20it/s]\u001b[A\n",
            "[dataset_a] Epoch 1 - Training:  19%|█▉        | 68/350 [00:33<02:07,  2.21it/s]\u001b[A\n",
            "[dataset_a] Epoch 1 - Training:  20%|█▉        | 69/350 [00:33<02:01,  2.32it/s]\u001b[A\n",
            "[dataset_a] Epoch 1 - Training:  20%|██        | 70/350 [00:34<01:55,  2.41it/s]\u001b[A\n",
            "[dataset_a] Epoch 1 - Training:  20%|██        | 71/350 [00:34<01:57,  2.37it/s]\u001b[A\n",
            "[dataset_a] Epoch 1 - Training:  21%|██        | 72/350 [00:34<01:59,  2.32it/s]\u001b[A\n",
            "[dataset_a] Epoch 1 - Training:  21%|██        | 73/350 [00:35<02:01,  2.29it/s]\u001b[A\n",
            "[dataset_a] Epoch 1 - Training:  21%|██        | 74/350 [00:35<01:59,  2.32it/s]\u001b[A\n",
            "[dataset_a] Epoch 1 - Training:  21%|██▏       | 75/350 [00:36<01:59,  2.29it/s]\u001b[A\n",
            "[dataset_a] Epoch 1 - Training:  22%|██▏       | 76/350 [00:37<02:50,  1.61it/s]\u001b[A\n",
            "[dataset_a] Epoch 1 - Training:  22%|██▏       | 77/350 [00:37<02:33,  1.78it/s]\u001b[A\n",
            "[dataset_a] Epoch 1 - Training:  22%|██▏       | 78/350 [00:38<02:20,  1.93it/s]\u001b[A\n",
            "[dataset_a] Epoch 1 - Training:  23%|██▎       | 79/350 [00:38<02:13,  2.03it/s]\u001b[A\n",
            "[dataset_a] Epoch 1 - Training:  23%|██▎       | 80/350 [00:38<02:04,  2.17it/s]\u001b[A\n",
            "[dataset_a] Epoch 1 - Training:  23%|██▎       | 81/350 [00:39<01:58,  2.27it/s]\u001b[A\n",
            "[dataset_a] Epoch 1 - Training:  23%|██▎       | 82/350 [00:39<01:52,  2.37it/s]\u001b[A\n",
            "[dataset_a] Epoch 1 - Training:  24%|██▎       | 83/350 [00:40<01:57,  2.27it/s]\u001b[A\n",
            "[dataset_a] Epoch 1 - Training:  24%|██▍       | 84/350 [00:42<04:41,  1.06s/it]\u001b[A\n",
            "[dataset_a] Epoch 1 - Training:  24%|██▍       | 85/350 [00:43<03:53,  1.13it/s]\u001b[A\n",
            "[dataset_a] Epoch 1 - Training:  25%|██▍       | 86/350 [00:43<03:16,  1.34it/s]\u001b[A\n",
            "[dataset_a] Epoch 1 - Training:  25%|██▍       | 87/350 [00:44<02:51,  1.54it/s]\u001b[A\n",
            "[dataset_a] Epoch 1 - Training:  25%|██▌       | 88/350 [00:44<02:34,  1.69it/s]\u001b[A\n",
            "[dataset_a] Epoch 1 - Training:  25%|██▌       | 89/350 [00:44<02:18,  1.89it/s]\u001b[A\n",
            "[dataset_a] Epoch 1 - Training:  26%|██▌       | 90/350 [00:45<02:10,  1.99it/s]\u001b[A\n",
            "[dataset_a] Epoch 1 - Training:  26%|██▌       | 91/350 [00:45<02:05,  2.06it/s]\u001b[A\n",
            "[dataset_a] Epoch 1 - Training:  26%|██▋       | 92/350 [00:46<02:02,  2.11it/s]\u001b[A\n",
            "[dataset_a] Epoch 1 - Training:  27%|██▋       | 93/350 [00:46<01:55,  2.23it/s]\u001b[A\n",
            "[dataset_a] Epoch 1 - Training:  27%|██▋       | 94/350 [00:47<01:55,  2.22it/s]\u001b[A\n",
            "[dataset_a] Epoch 1 - Training:  27%|██▋       | 95/350 [00:47<01:48,  2.35it/s]\u001b[A\n",
            "[dataset_a] Epoch 1 - Training:  27%|██▋       | 96/350 [00:47<01:49,  2.32it/s]\u001b[A\n",
            "[dataset_a] Epoch 1 - Training:  28%|██▊       | 97/350 [00:48<01:49,  2.32it/s]\u001b[A\n",
            "[dataset_a] Epoch 1 - Training:  28%|██▊       | 98/350 [00:48<01:50,  2.27it/s]\u001b[A\n",
            "[dataset_a] Epoch 1 - Training:  28%|██▊       | 99/350 [00:49<01:50,  2.28it/s]\u001b[A\n",
            "[dataset_a] Epoch 1 - Training:  29%|██▊       | 100/350 [00:49<01:45,  2.37it/s]\u001b[A\n",
            "[dataset_a] Epoch 1 - Training:  29%|██▉       | 101/350 [00:50<01:45,  2.37it/s]\u001b[A\n",
            "[dataset_a] Epoch 1 - Training:  29%|██▉       | 102/350 [00:50<01:45,  2.35it/s]\u001b[A\n",
            "[dataset_a] Epoch 1 - Training:  29%|██▉       | 103/350 [00:50<01:44,  2.35it/s]\u001b[A\n",
            "[dataset_a] Epoch 1 - Training:  30%|██▉       | 104/350 [00:51<01:44,  2.36it/s]\u001b[A\n",
            "[dataset_a] Epoch 1 - Training:  30%|███       | 105/350 [00:51<01:40,  2.43it/s]\u001b[A\n",
            "[dataset_a] Epoch 1 - Training:  30%|███       | 106/350 [00:52<01:38,  2.47it/s]\u001b[A\n",
            "[dataset_a] Epoch 1 - Training:  31%|███       | 107/350 [00:52<01:39,  2.44it/s]\u001b[A\n",
            "[dataset_a] Epoch 1 - Training:  31%|███       | 108/350 [00:52<01:36,  2.52it/s]\u001b[A\n",
            "[dataset_a] Epoch 1 - Training:  31%|███       | 109/350 [00:53<01:37,  2.47it/s]\u001b[A\n",
            "[dataset_a] Epoch 1 - Training:  31%|███▏      | 110/350 [00:53<01:35,  2.51it/s]\u001b[A\n",
            "[dataset_a] Epoch 1 - Training:  32%|███▏      | 111/350 [00:54<01:37,  2.44it/s]\u001b[A\n",
            "[dataset_a] Epoch 1 - Training:  32%|███▏      | 112/350 [00:54<01:39,  2.40it/s]\u001b[A\n",
            "[dataset_a] Epoch 1 - Training:  32%|███▏      | 113/350 [00:54<01:42,  2.31it/s]\u001b[A\n",
            "[dataset_a] Epoch 1 - Training:  33%|███▎      | 114/350 [00:55<01:44,  2.25it/s]\u001b[A\n",
            "[dataset_a] Epoch 1 - Training:  33%|███▎      | 115/350 [00:55<01:44,  2.25it/s]\u001b[A\n",
            "[dataset_a] Epoch 1 - Training:  33%|███▎      | 116/350 [00:56<01:39,  2.34it/s]\u001b[A\n",
            "[dataset_a] Epoch 1 - Training:  33%|███▎      | 117/350 [00:56<01:39,  2.34it/s]\u001b[A\n",
            "[dataset_a] Epoch 1 - Training:  34%|███▎      | 118/350 [00:58<03:22,  1.14it/s]\u001b[A\n",
            "[dataset_a] Epoch 1 - Training:  34%|███▍      | 119/350 [00:59<02:48,  1.37it/s]\u001b[A\n",
            "[dataset_a] Epoch 1 - Training:  34%|███▍      | 120/350 [00:59<02:24,  1.59it/s]\u001b[A\n",
            "[dataset_a] Epoch 1 - Training:  35%|███▍      | 121/350 [00:59<02:08,  1.79it/s]\u001b[A\n",
            "[dataset_a] Epoch 1 - Training:  35%|███▍      | 122/350 [01:00<01:56,  1.96it/s]\u001b[A\n",
            "[dataset_a] Epoch 1 - Training:  35%|███▌      | 123/350 [01:00<01:51,  2.04it/s]\u001b[A\n",
            "[dataset_a] Epoch 1 - Training:  35%|███▌      | 124/350 [01:01<01:48,  2.08it/s]\u001b[A\n",
            "[dataset_a] Epoch 1 - Training:  36%|███▌      | 125/350 [01:01<01:48,  2.07it/s]\u001b[A\n",
            "[dataset_a] Epoch 1 - Training:  36%|███▌      | 126/350 [01:02<01:45,  2.13it/s]\u001b[A\n",
            "[dataset_a] Epoch 1 - Training:  36%|███▋      | 127/350 [01:02<01:41,  2.19it/s]\u001b[A\n",
            "[dataset_a] Epoch 1 - Training:  37%|███▋      | 128/350 [01:02<01:40,  2.20it/s]\u001b[A\n",
            "[dataset_a] Epoch 1 - Training:  37%|███▋      | 129/350 [01:03<01:39,  2.22it/s]\u001b[A\n",
            "[dataset_a] Epoch 1 - Training:  37%|███▋      | 130/350 [01:03<01:39,  2.22it/s]\u001b[A\n",
            "[dataset_a] Epoch 1 - Training:  37%|███▋      | 131/350 [01:04<01:41,  2.17it/s]\u001b[A\n",
            "[dataset_a] Epoch 1 - Training:  38%|███▊      | 132/350 [01:04<01:36,  2.27it/s]\u001b[A\n",
            "[dataset_a] Epoch 1 - Training:  38%|███▊      | 133/350 [01:05<01:35,  2.27it/s]\u001b[A\n",
            "[dataset_a] Epoch 1 - Training:  38%|███▊      | 134/350 [01:05<01:32,  2.34it/s]\u001b[A\n",
            "[dataset_a] Epoch 1 - Training:  39%|███▊      | 135/350 [01:05<01:33,  2.30it/s]\u001b[A\n",
            "[dataset_a] Epoch 1 - Training:  39%|███▉      | 136/350 [01:06<01:33,  2.29it/s]\u001b[A\n",
            "[dataset_a] Epoch 1 - Training:  39%|███▉      | 137/350 [01:06<01:33,  2.28it/s]\u001b[A\n",
            "[dataset_a] Epoch 1 - Training:  39%|███▉      | 138/350 [01:07<01:36,  2.20it/s]\u001b[A\n",
            "[dataset_a] Epoch 1 - Training:  40%|███▉      | 139/350 [01:07<01:33,  2.25it/s]\u001b[A\n",
            "[dataset_a] Epoch 1 - Training:  40%|████      | 140/350 [01:08<01:32,  2.28it/s]\u001b[A\n",
            "[dataset_a] Epoch 1 - Training:  40%|████      | 141/350 [01:08<01:33,  2.23it/s]\u001b[A\n",
            "[dataset_a] Epoch 1 - Training:  41%|████      | 142/350 [01:09<01:29,  2.32it/s]\u001b[A\n",
            "[dataset_a] Epoch 1 - Training:  41%|████      | 143/350 [01:09<01:30,  2.28it/s]\u001b[A\n",
            "[dataset_a] Epoch 1 - Training:  41%|████      | 144/350 [01:09<01:31,  2.26it/s]\u001b[A\n",
            "[dataset_a] Epoch 1 - Training:  41%|████▏     | 145/350 [01:10<01:30,  2.26it/s]\u001b[A\n",
            "[dataset_a] Epoch 1 - Training:  42%|████▏     | 146/350 [01:10<01:31,  2.23it/s]\u001b[A\n",
            "[dataset_a] Epoch 1 - Training:  42%|████▏     | 147/350 [01:11<01:30,  2.24it/s]\u001b[A\n",
            "[dataset_a] Epoch 1 - Training:  42%|████▏     | 148/350 [01:11<01:27,  2.31it/s]\u001b[A\n",
            "[dataset_a] Epoch 1 - Training:  43%|████▎     | 149/350 [01:12<01:24,  2.37it/s]\u001b[A\n",
            "[dataset_a] Epoch 1 - Training:  43%|████▎     | 150/350 [01:12<01:26,  2.32it/s]\u001b[A\n",
            "[dataset_a] Epoch 1 - Training:  43%|████▎     | 151/350 [01:13<01:27,  2.28it/s]\u001b[A\n",
            "[dataset_a] Epoch 1 - Training:  43%|████▎     | 152/350 [01:13<01:27,  2.25it/s]\u001b[A\n",
            "[dataset_a] Epoch 1 - Training:  44%|████▎     | 153/350 [01:13<01:25,  2.31it/s]\u001b[A\n",
            "[dataset_a] Epoch 1 - Training:  44%|████▍     | 154/350 [01:14<01:28,  2.22it/s]\u001b[A\n",
            "[dataset_a] Epoch 1 - Training:  44%|████▍     | 155/350 [01:14<01:27,  2.24it/s]\u001b[A\n",
            "[dataset_a] Epoch 1 - Training:  45%|████▍     | 156/350 [01:15<01:27,  2.22it/s]\u001b[A\n",
            "[dataset_a] Epoch 1 - Training:  45%|████▍     | 157/350 [01:15<01:26,  2.24it/s]\u001b[A\n",
            "[dataset_a] Epoch 1 - Training:  45%|████▌     | 158/350 [01:16<01:23,  2.29it/s]\u001b[A\n",
            "[dataset_a] Epoch 1 - Training:  45%|████▌     | 159/350 [01:16<01:26,  2.20it/s]\u001b[A\n",
            "[dataset_a] Epoch 1 - Training:  46%|████▌     | 160/350 [01:17<01:23,  2.26it/s]\u001b[A\n",
            "[dataset_a] Epoch 1 - Training:  46%|████▌     | 161/350 [01:17<01:22,  2.28it/s]\u001b[A\n",
            "[dataset_a] Epoch 1 - Training:  46%|████▋     | 162/350 [01:17<01:22,  2.27it/s]\u001b[A\n",
            "[dataset_a] Epoch 1 - Training:  47%|████▋     | 163/350 [01:18<01:23,  2.24it/s]\u001b[A\n",
            "[dataset_a] Epoch 1 - Training:  47%|████▋     | 164/350 [01:18<01:19,  2.33it/s]\u001b[A\n",
            "[dataset_a] Epoch 1 - Training:  47%|████▋     | 165/350 [01:19<01:20,  2.29it/s]\u001b[A\n",
            "[dataset_a] Epoch 1 - Training:  47%|████▋     | 166/350 [01:19<01:20,  2.29it/s]\u001b[A\n",
            "[dataset_a] Epoch 1 - Training:  48%|████▊     | 167/350 [01:20<01:20,  2.28it/s]\u001b[A\n",
            "[dataset_a] Epoch 1 - Training:  48%|████▊     | 168/350 [01:20<01:19,  2.29it/s]\u001b[A\n",
            "[dataset_a] Epoch 1 - Training:  48%|████▊     | 169/350 [01:20<01:16,  2.37it/s]\u001b[A\n",
            "[dataset_a] Epoch 1 - Training:  49%|████▊     | 170/350 [01:21<01:17,  2.32it/s]\u001b[A\n",
            "[dataset_a] Epoch 1 - Training:  49%|████▉     | 171/350 [01:21<01:18,  2.28it/s]\u001b[A\n",
            "[dataset_a] Epoch 1 - Training:  49%|████▉     | 172/350 [01:22<01:21,  2.18it/s]\u001b[A\n",
            "[dataset_a] Epoch 1 - Training:  49%|████▉     | 173/350 [01:22<01:21,  2.18it/s]\u001b[A\n",
            "[dataset_a] Epoch 1 - Training:  50%|████▉     | 174/350 [01:23<01:21,  2.16it/s]\u001b[A\n",
            "[dataset_a] Epoch 1 - Training:  50%|█████     | 175/350 [01:23<01:17,  2.26it/s]\u001b[A\n",
            "[dataset_a] Epoch 1 - Training:  50%|█████     | 176/350 [01:24<01:18,  2.21it/s]\u001b[A\n",
            "[dataset_a] Epoch 1 - Training:  51%|█████     | 177/350 [01:24<01:19,  2.18it/s]\u001b[A\n",
            "[dataset_a] Epoch 1 - Training:  51%|█████     | 178/350 [01:25<01:18,  2.18it/s]\u001b[A\n",
            "[dataset_a] Epoch 1 - Training:  51%|█████     | 179/350 [01:25<01:18,  2.17it/s]\u001b[A\n",
            "[dataset_a] Epoch 1 - Training:  51%|█████▏    | 180/350 [01:25<01:17,  2.18it/s]\u001b[A\n",
            "[dataset_a] Epoch 1 - Training:  52%|█████▏    | 181/350 [01:26<01:16,  2.20it/s]\u001b[A\n",
            "[dataset_a] Epoch 1 - Training:  52%|█████▏    | 182/350 [01:26<01:14,  2.27it/s]\u001b[A\n",
            "[dataset_a] Epoch 1 - Training:  52%|█████▏    | 183/350 [01:27<01:12,  2.31it/s]\u001b[A\n",
            "[dataset_a] Epoch 1 - Training:  53%|█████▎    | 184/350 [01:27<01:10,  2.34it/s]\u001b[A\n",
            "[dataset_a] Epoch 1 - Training:  53%|█████▎    | 185/350 [01:28<01:11,  2.29it/s]\u001b[A\n",
            "[dataset_a] Epoch 1 - Training:  53%|█████▎    | 186/350 [01:28<01:13,  2.24it/s]\u001b[A\n",
            "[dataset_a] Epoch 1 - Training:  53%|█████▎    | 187/350 [01:29<01:13,  2.22it/s]\u001b[A\n",
            "[dataset_a] Epoch 1 - Training:  54%|█████▎    | 188/350 [01:29<01:11,  2.27it/s]\u001b[A\n",
            "[dataset_a] Epoch 1 - Training:  54%|█████▍    | 189/350 [01:29<01:12,  2.23it/s]\u001b[A\n",
            "[dataset_a] Epoch 1 - Training:  54%|█████▍    | 190/350 [01:30<01:09,  2.30it/s]\u001b[A\n",
            "[dataset_a] Epoch 1 - Training:  55%|█████▍    | 191/350 [01:30<01:10,  2.25it/s]\u001b[A\n",
            "[dataset_a] Epoch 1 - Training:  55%|█████▍    | 192/350 [01:31<01:11,  2.21it/s]\u001b[A\n",
            "[dataset_a] Epoch 1 - Training:  55%|█████▌    | 193/350 [01:31<01:11,  2.18it/s]\u001b[A\n",
            "[dataset_a] Epoch 1 - Training:  55%|█████▌    | 194/350 [01:32<01:13,  2.11it/s]\u001b[A\n",
            "[dataset_a] Epoch 1 - Training:  56%|█████▌    | 195/350 [01:32<01:14,  2.07it/s]\u001b[A\n",
            "[dataset_a] Epoch 1 - Training:  56%|█████▌    | 196/350 [01:33<01:13,  2.10it/s]\u001b[A\n",
            "[dataset_a] Epoch 1 - Training:  56%|█████▋    | 197/350 [01:33<01:11,  2.15it/s]\u001b[A\n",
            "[dataset_a] Epoch 1 - Training:  57%|█████▋    | 198/350 [01:34<01:13,  2.07it/s]\u001b[A\n",
            "[dataset_a] Epoch 1 - Training:  57%|█████▋    | 199/350 [01:34<01:09,  2.17it/s]\u001b[A\n",
            "[dataset_a] Epoch 1 - Training:  57%|█████▋    | 200/350 [01:35<01:08,  2.19it/s]\u001b[A\n",
            "[dataset_a] Epoch 1 - Training:  57%|█████▋    | 201/350 [01:36<01:38,  1.51it/s]\u001b[A\n",
            "[dataset_a] Epoch 1 - Training:  58%|█████▊    | 202/350 [01:36<01:30,  1.64it/s]\u001b[A\n",
            "[dataset_a] Epoch 1 - Training:  58%|█████▊    | 203/350 [01:37<01:25,  1.72it/s]\u001b[A\n",
            "[dataset_a] Epoch 1 - Training:  58%|█████▊    | 204/350 [01:37<01:21,  1.79it/s]\u001b[A\n",
            "[dataset_a] Epoch 1 - Training:  59%|█████▊    | 205/350 [01:38<01:16,  1.90it/s]\u001b[A\n",
            "[dataset_a] Epoch 1 - Training:  59%|█████▉    | 206/350 [01:38<01:12,  1.98it/s]\u001b[A\n",
            "[dataset_a] Epoch 1 - Training:  59%|█████▉    | 207/350 [01:39<01:10,  2.04it/s]\u001b[A\n",
            "[dataset_a] Epoch 1 - Training:  59%|█████▉    | 208/350 [01:39<01:09,  2.05it/s]\u001b[A\n",
            "[dataset_a] Epoch 1 - Training:  60%|█████▉    | 209/350 [01:39<01:07,  2.10it/s]\u001b[A\n",
            "[dataset_a] Epoch 1 - Training:  60%|██████    | 210/350 [01:40<01:06,  2.09it/s]\u001b[A\n",
            "[dataset_a] Epoch 1 - Training:  60%|██████    | 211/350 [01:40<01:03,  2.18it/s]\u001b[A\n",
            "[dataset_a] Epoch 1 - Training:  61%|██████    | 212/350 [01:41<01:04,  2.15it/s]\u001b[A\n",
            "[dataset_a] Epoch 1 - Training:  61%|██████    | 213/350 [01:41<01:03,  2.14it/s]\u001b[A\n",
            "[dataset_a] Epoch 1 - Training:  61%|██████    | 214/350 [01:42<01:01,  2.21it/s]\u001b[A\n",
            "[dataset_a] Epoch 1 - Training:  61%|██████▏   | 215/350 [01:42<01:01,  2.19it/s]\u001b[A\n",
            "[dataset_a] Epoch 1 - Training:  62%|██████▏   | 216/350 [01:43<00:59,  2.24it/s]\u001b[A\n",
            "[dataset_a] Epoch 1 - Training:  62%|██████▏   | 217/350 [01:43<01:00,  2.19it/s]\u001b[A\n",
            "[dataset_a] Epoch 1 - Training:  62%|██████▏   | 218/350 [01:44<00:58,  2.27it/s]\u001b[A\n",
            "[dataset_a] Epoch 1 - Training:  63%|██████▎   | 219/350 [01:44<00:55,  2.35it/s]\u001b[A\n",
            "[dataset_a] Epoch 1 - Training:  63%|██████▎   | 220/350 [01:44<00:59,  2.19it/s]\u001b[A\n",
            "[dataset_a] Epoch 1 - Training:  63%|██████▎   | 221/350 [01:45<01:00,  2.14it/s]\u001b[A\n",
            "[dataset_a] Epoch 1 - Training:  63%|██████▎   | 222/350 [01:45<00:59,  2.15it/s]\u001b[A\n",
            "[dataset_a] Epoch 1 - Training:  64%|██████▎   | 223/350 [01:46<00:58,  2.16it/s]\u001b[A\n",
            "[dataset_a] Epoch 1 - Training:  64%|██████▍   | 224/350 [01:46<00:56,  2.21it/s]\u001b[A\n",
            "[dataset_a] Epoch 1 - Training:  64%|██████▍   | 225/350 [01:47<01:04,  1.94it/s]\u001b[A\n",
            "[dataset_a] Epoch 1 - Training:  65%|██████▍   | 226/350 [01:47<00:59,  2.09it/s]\u001b[A\n",
            "[dataset_a] Epoch 1 - Training:  65%|██████▍   | 227/350 [01:48<00:56,  2.17it/s]\u001b[A\n",
            "[dataset_a] Epoch 1 - Training:  65%|██████▌   | 228/350 [01:48<01:02,  1.94it/s]\u001b[A\n",
            "[dataset_a] Epoch 1 - Training:  65%|██████▌   | 229/350 [01:49<01:01,  1.98it/s]\u001b[A\n",
            "[dataset_a] Epoch 1 - Training:  66%|██████▌   | 230/350 [01:49<00:59,  2.00it/s]\u001b[A\n",
            "[dataset_a] Epoch 1 - Training:  66%|██████▌   | 231/350 [01:50<00:59,  1.98it/s]\u001b[A\n",
            "[dataset_a] Epoch 1 - Training:  66%|██████▋   | 232/350 [01:50<00:56,  2.08it/s]\u001b[A\n",
            "[dataset_a] Epoch 1 - Training:  67%|██████▋   | 233/350 [01:51<00:55,  2.11it/s]\u001b[A\n",
            "[dataset_a] Epoch 1 - Training:  67%|██████▋   | 234/350 [01:51<00:55,  2.09it/s]\u001b[A\n",
            "[dataset_a] Epoch 1 - Training:  67%|██████▋   | 235/350 [01:52<00:58,  1.97it/s]\u001b[A\n",
            "[dataset_a] Epoch 1 - Training:  67%|██████▋   | 236/350 [01:52<00:54,  2.07it/s]\u001b[A\n",
            "[dataset_a] Epoch 1 - Training:  68%|██████▊   | 237/350 [01:53<00:55,  2.02it/s]\u001b[A\n",
            "[dataset_a] Epoch 1 - Training:  68%|██████▊   | 238/350 [01:53<00:53,  2.11it/s]\u001b[A\n",
            "[dataset_a] Epoch 1 - Training:  68%|██████▊   | 239/350 [01:54<00:51,  2.14it/s]\u001b[A\n",
            "[dataset_a] Epoch 1 - Training:  69%|██████▊   | 240/350 [01:54<00:49,  2.21it/s]\u001b[A\n",
            "[dataset_a] Epoch 1 - Training:  69%|██████▉   | 241/350 [01:54<00:47,  2.29it/s]\u001b[A\n",
            "[dataset_a] Epoch 1 - Training:  69%|██████▉   | 242/350 [01:55<00:48,  2.22it/s]\u001b[A\n",
            "[dataset_a] Epoch 1 - Training:  69%|██████▉   | 243/350 [01:55<00:47,  2.27it/s]\u001b[A\n",
            "[dataset_a] Epoch 1 - Training:  70%|██████▉   | 244/350 [01:56<00:47,  2.22it/s]\u001b[A\n",
            "[dataset_a] Epoch 1 - Training:  70%|███████   | 245/350 [01:56<00:46,  2.25it/s]\u001b[A\n",
            "[dataset_a] Epoch 1 - Training:  70%|███████   | 246/350 [01:57<00:50,  2.07it/s]\u001b[A\n",
            "[dataset_a] Epoch 1 - Training:  71%|███████   | 247/350 [01:57<00:49,  2.07it/s]\u001b[A\n",
            "[dataset_a] Epoch 1 - Training:  71%|███████   | 248/350 [01:58<00:47,  2.14it/s]\u001b[A\n",
            "[dataset_a] Epoch 1 - Training:  71%|███████   | 249/350 [01:58<00:47,  2.11it/s]\u001b[A\n",
            "[dataset_a] Epoch 1 - Training:  71%|███████▏  | 250/350 [01:59<00:45,  2.19it/s]\u001b[A\n",
            "[dataset_a] Epoch 1 - Training:  72%|███████▏  | 251/350 [01:59<00:46,  2.14it/s]\u001b[A\n",
            "[dataset_a] Epoch 1 - Training:  72%|███████▏  | 252/350 [02:00<00:46,  2.10it/s]\u001b[A\n",
            "[dataset_a] Epoch 1 - Training:  72%|███████▏  | 253/350 [02:00<00:46,  2.11it/s]\u001b[A\n",
            "[dataset_a] Epoch 1 - Training:  73%|███████▎  | 254/350 [02:01<00:45,  2.12it/s]\u001b[A\n",
            "[dataset_a] Epoch 1 - Training:  73%|███████▎  | 255/350 [02:01<00:41,  2.30it/s]\u001b[A\n",
            "[dataset_a] Epoch 1 - Training:  73%|███████▎  | 256/350 [02:01<00:42,  2.19it/s]\u001b[A\n",
            "[dataset_a] Epoch 1 - Training:  73%|███████▎  | 257/350 [02:02<00:44,  2.09it/s]\u001b[A\n",
            "[dataset_a] Epoch 1 - Training:  74%|███████▎  | 258/350 [02:02<00:43,  2.11it/s]\u001b[A\n",
            "[dataset_a] Epoch 1 - Training:  74%|███████▍  | 259/350 [02:03<00:42,  2.13it/s]\u001b[A\n",
            "[dataset_a] Epoch 1 - Training:  74%|███████▍  | 260/350 [02:03<00:43,  2.06it/s]\u001b[A\n",
            "[dataset_a] Epoch 1 - Training:  75%|███████▍  | 261/350 [02:04<00:43,  2.05it/s]\u001b[A\n",
            "[dataset_a] Epoch 1 - Training:  75%|███████▍  | 262/350 [02:04<00:43,  2.03it/s]\u001b[A\n",
            "[dataset_a] Epoch 1 - Training:  75%|███████▌  | 263/350 [02:05<00:43,  2.01it/s]\u001b[A\n",
            "[dataset_a] Epoch 1 - Training:  75%|███████▌  | 264/350 [02:05<00:41,  2.05it/s]\u001b[A\n",
            "[dataset_a] Epoch 1 - Training:  76%|███████▌  | 265/350 [02:06<00:39,  2.14it/s]\u001b[A\n",
            "[dataset_a] Epoch 1 - Training:  76%|███████▌  | 266/350 [02:06<00:39,  2.14it/s]\u001b[A\n",
            "[dataset_a] Epoch 1 - Training:  76%|███████▋  | 267/350 [02:07<00:38,  2.14it/s]\u001b[A\n",
            "[dataset_a] Epoch 1 - Training:  77%|███████▋  | 268/350 [02:07<00:39,  2.08it/s]\u001b[A\n",
            "[dataset_a] Epoch 1 - Training:  77%|███████▋  | 269/350 [02:08<00:38,  2.08it/s]\u001b[A\n",
            "[dataset_a] Epoch 1 - Training:  77%|███████▋  | 270/350 [02:08<00:36,  2.16it/s]\u001b[A\n",
            "[dataset_a] Epoch 1 - Training:  77%|███████▋  | 271/350 [02:09<00:38,  2.07it/s]\u001b[A\n",
            "[dataset_a] Epoch 1 - Training:  78%|███████▊  | 272/350 [02:09<00:38,  2.04it/s]\u001b[A\n",
            "[dataset_a] Epoch 1 - Training:  78%|███████▊  | 273/350 [02:10<00:38,  2.01it/s]\u001b[A\n",
            "[dataset_a] Epoch 1 - Training:  78%|███████▊  | 274/350 [02:10<00:37,  2.03it/s]\u001b[A\n",
            "[dataset_a] Epoch 1 - Training:  79%|███████▊  | 275/350 [02:11<00:36,  2.07it/s]\u001b[A\n",
            "[dataset_a] Epoch 1 - Training:  79%|███████▉  | 276/350 [02:11<00:36,  2.02it/s]\u001b[A\n",
            "[dataset_a] Epoch 1 - Training:  79%|███████▉  | 277/350 [02:12<00:34,  2.12it/s]\u001b[A\n",
            "[dataset_a] Epoch 1 - Training:  79%|███████▉  | 278/350 [02:12<00:36,  1.96it/s]\u001b[A\n",
            "[dataset_a] Epoch 1 - Training:  80%|███████▉  | 279/350 [02:13<00:35,  1.98it/s]\u001b[A\n",
            "[dataset_a] Epoch 1 - Training:  80%|████████  | 280/350 [02:13<00:35,  1.95it/s]\u001b[A\n",
            "[dataset_a] Epoch 1 - Training:  80%|████████  | 281/350 [02:14<00:34,  1.97it/s]\u001b[A\n",
            "[dataset_a] Epoch 1 - Training:  81%|████████  | 282/350 [02:14<00:34,  2.00it/s]\u001b[A\n",
            "[dataset_a] Epoch 1 - Training:  81%|████████  | 283/350 [02:15<00:32,  2.09it/s]\u001b[A\n",
            "[dataset_a] Epoch 1 - Training:  81%|████████  | 284/350 [02:15<00:31,  2.09it/s]\u001b[A\n",
            "[dataset_a] Epoch 1 - Training:  81%|████████▏ | 285/350 [02:16<00:31,  2.08it/s]\u001b[A\n",
            "[dataset_a] Epoch 1 - Training:  82%|████████▏ | 286/350 [02:16<00:30,  2.10it/s]\u001b[A\n",
            "[dataset_a] Epoch 1 - Training:  82%|████████▏ | 287/350 [02:17<00:34,  1.82it/s]\u001b[A\n",
            "[dataset_a] Epoch 1 - Training:  82%|████████▏ | 288/350 [02:17<00:33,  1.88it/s]\u001b[A\n",
            "[dataset_a] Epoch 1 - Training:  83%|████████▎ | 289/350 [02:18<00:31,  1.95it/s]\u001b[A\n",
            "[dataset_a] Epoch 1 - Training:  83%|████████▎ | 290/350 [02:18<00:28,  2.07it/s]\u001b[A\n",
            "[dataset_a] Epoch 1 - Training:  83%|████████▎ | 291/350 [02:19<00:27,  2.11it/s]\u001b[A\n",
            "[dataset_a] Epoch 1 - Training:  83%|████████▎ | 292/350 [02:19<00:26,  2.15it/s]\u001b[A\n",
            "[dataset_a] Epoch 1 - Training:  84%|████████▎ | 293/350 [02:20<00:26,  2.15it/s]\u001b[A\n",
            "[dataset_a] Epoch 1 - Training:  84%|████████▍ | 294/350 [02:20<00:26,  2.11it/s]\u001b[A\n",
            "[dataset_a] Epoch 1 - Training:  84%|████████▍ | 295/350 [02:20<00:24,  2.22it/s]\u001b[A\n",
            "[dataset_a] Epoch 1 - Training:  85%|████████▍ | 296/350 [02:21<00:24,  2.23it/s]\u001b[A\n",
            "[dataset_a] Epoch 1 - Training:  85%|████████▍ | 297/350 [02:21<00:23,  2.27it/s]\u001b[A\n",
            "[dataset_a] Epoch 1 - Training:  85%|████████▌ | 298/350 [02:22<00:23,  2.22it/s]\u001b[A\n",
            "[dataset_a] Epoch 1 - Training:  85%|████████▌ | 299/350 [02:22<00:22,  2.26it/s]\u001b[A\n",
            "[dataset_a] Epoch 1 - Training:  86%|████████▌ | 300/350 [02:23<00:22,  2.20it/s]\u001b[A\n",
            "[dataset_a] Epoch 1 - Training:  86%|████████▌ | 301/350 [02:23<00:22,  2.18it/s]\u001b[A\n",
            "[dataset_a] Epoch 1 - Training:  86%|████████▋ | 302/350 [02:24<00:21,  2.18it/s]\u001b[A\n",
            "[dataset_a] Epoch 1 - Training:  87%|████████▋ | 303/350 [02:24<00:20,  2.25it/s]\u001b[A\n",
            "[dataset_a] Epoch 1 - Training:  87%|████████▋ | 304/350 [02:24<00:20,  2.30it/s]\u001b[A\n",
            "[dataset_a] Epoch 1 - Training:  87%|████████▋ | 305/350 [02:25<00:20,  2.17it/s]\u001b[A\n",
            "[dataset_a] Epoch 1 - Training:  87%|████████▋ | 306/350 [02:25<00:19,  2.23it/s]\u001b[A\n",
            "[dataset_a] Epoch 1 - Training:  88%|████████▊ | 307/350 [02:26<00:20,  2.12it/s]\u001b[A\n",
            "[dataset_a] Epoch 1 - Training:  88%|████████▊ | 308/350 [02:26<00:19,  2.14it/s]\u001b[A\n",
            "[dataset_a] Epoch 1 - Training:  88%|████████▊ | 309/350 [02:27<00:18,  2.21it/s]\u001b[A\n",
            "[dataset_a] Epoch 1 - Training:  89%|████████▊ | 310/350 [02:27<00:18,  2.17it/s]\u001b[A\n",
            "[dataset_a] Epoch 1 - Training:  89%|████████▉ | 311/350 [02:28<00:17,  2.24it/s]\u001b[A\n",
            "[dataset_a] Epoch 1 - Training:  89%|████████▉ | 312/350 [02:28<00:17,  2.20it/s]\u001b[A\n",
            "[dataset_a] Epoch 1 - Training:  89%|████████▉ | 313/350 [02:29<00:17,  2.18it/s]\u001b[A\n",
            "[dataset_a] Epoch 1 - Training:  90%|████████▉ | 314/350 [02:29<00:16,  2.17it/s]\u001b[A\n",
            "[dataset_a] Epoch 1 - Training:  90%|█████████ | 315/350 [02:30<00:17,  2.02it/s]\u001b[A\n",
            "[dataset_a] Epoch 1 - Training:  90%|█████████ | 316/350 [02:30<00:16,  2.04it/s]\u001b[A\n",
            "[dataset_a] Epoch 1 - Training:  91%|█████████ | 317/350 [02:31<00:16,  2.04it/s]\u001b[A\n",
            "[dataset_a] Epoch 1 - Training:  91%|█████████ | 318/350 [02:31<00:14,  2.15it/s]\u001b[A\n",
            "[dataset_a] Epoch 1 - Training:  91%|█████████ | 319/350 [02:31<00:14,  2.13it/s]\u001b[A\n",
            "[dataset_a] Epoch 1 - Training:  91%|█████████▏| 320/350 [02:32<00:14,  2.08it/s]\u001b[A\n",
            "[dataset_a] Epoch 1 - Training:  92%|█████████▏| 321/350 [02:32<00:13,  2.21it/s]\u001b[A\n",
            "[dataset_a] Epoch 1 - Training:  92%|█████████▏| 322/350 [02:33<00:12,  2.21it/s]\u001b[A\n",
            "[dataset_a] Epoch 1 - Training:  92%|█████████▏| 323/350 [02:33<00:12,  2.22it/s]\u001b[A\n",
            "[dataset_a] Epoch 1 - Training:  93%|█████████▎| 324/350 [02:34<00:15,  1.71it/s]\u001b[A\n",
            "[dataset_a] Epoch 1 - Training:  93%|█████████▎| 325/350 [02:35<00:13,  1.81it/s]\u001b[A\n",
            "[dataset_a] Epoch 1 - Training:  93%|█████████▎| 326/350 [02:35<00:12,  1.96it/s]\u001b[A\n",
            "[dataset_a] Epoch 1 - Training:  93%|█████████▎| 327/350 [02:36<00:11,  2.04it/s]\u001b[A\n",
            "[dataset_a] Epoch 1 - Training:  94%|█████████▎| 328/350 [02:36<00:10,  2.02it/s]\u001b[A\n",
            "[dataset_a] Epoch 1 - Training:  94%|█████████▍| 329/350 [02:36<00:10,  2.07it/s]\u001b[A\n",
            "[dataset_a] Epoch 1 - Training:  94%|█████████▍| 330/350 [02:37<00:09,  2.06it/s]\u001b[A\n",
            "[dataset_a] Epoch 1 - Training:  95%|█████████▍| 331/350 [02:37<00:09,  2.06it/s]\u001b[A\n",
            "[dataset_a] Epoch 1 - Training:  95%|█████████▍| 332/350 [02:38<00:08,  2.16it/s]\u001b[A\n",
            "[dataset_a] Epoch 1 - Training:  95%|█████████▌| 333/350 [02:38<00:07,  2.14it/s]\u001b[A\n",
            "[dataset_a] Epoch 1 - Training:  95%|█████████▌| 334/350 [02:39<00:07,  2.09it/s]\u001b[A\n",
            "[dataset_a] Epoch 1 - Training:  96%|█████████▌| 335/350 [02:39<00:07,  2.09it/s]\u001b[A\n",
            "[dataset_a] Epoch 1 - Training:  96%|█████████▌| 336/350 [02:40<00:06,  2.09it/s]\u001b[A\n",
            "[dataset_a] Epoch 1 - Training:  96%|█████████▋| 337/350 [02:40<00:06,  2.05it/s]\u001b[A\n",
            "[dataset_a] Epoch 1 - Training:  97%|█████████▋| 338/350 [02:41<00:05,  2.14it/s]\u001b[A\n",
            "[dataset_a] Epoch 1 - Training:  97%|█████████▋| 339/350 [02:41<00:05,  2.14it/s]\u001b[A\n",
            "[dataset_a] Epoch 1 - Training:  97%|█████████▋| 340/350 [02:42<00:04,  2.17it/s]\u001b[A\n",
            "[dataset_a] Epoch 1 - Training:  97%|█████████▋| 341/350 [02:42<00:04,  2.18it/s]\u001b[A\n",
            "[dataset_a] Epoch 1 - Training:  98%|█████████▊| 342/350 [02:42<00:03,  2.28it/s]\u001b[A\n",
            "[dataset_a] Epoch 1 - Training:  98%|█████████▊| 343/350 [02:43<00:03,  2.33it/s]\u001b[A\n",
            "[dataset_a] Epoch 1 - Training:  98%|█████████▊| 344/350 [02:43<00:02,  2.20it/s]\u001b[A\n",
            "[dataset_a] Epoch 1 - Training:  99%|█████████▊| 345/350 [02:44<00:02,  2.18it/s]\u001b[A\n",
            "[dataset_a] Epoch 1 - Training:  99%|█████████▉| 346/350 [02:44<00:01,  2.25it/s]\u001b[A\n",
            "[dataset_a] Epoch 1 - Training:  99%|█████████▉| 347/350 [02:45<00:01,  1.86it/s]\u001b[A\n",
            "[dataset_a] Epoch 1 - Training:  99%|█████████▉| 348/350 [02:46<00:01,  1.89it/s]\u001b[A\n",
            "[dataset_a] Epoch 1 - Training: 100%|█████████▉| 349/350 [02:46<00:00,  1.91it/s]\u001b[A\n",
            "[dataset_a] Epoch 1 - Training: 100%|██████████| 350/350 [02:47<00:00,  2.09it/s]"
          ]
        },
        {
          "output_type": "stream",
          "name": "stdout",
          "text": [
            "[dataset_a] Epoch 1 - Train Loss: 0.2701\n",
            "              precision    recall  f1-score   support\n",
            "\n",
            "    negative     0.8730    0.8651    0.8690      3559\n",
            "     neutral     0.8536    0.7746    0.8122      1167\n",
            "    positive     0.9247    0.9447    0.9346      6472\n",
            "\n",
            "    accuracy                         0.9017     11198\n",
            "   macro avg     0.8838    0.8615    0.8719     11198\n",
            "weighted avg     0.9008    0.9017    0.9010     11198\n",
            "\n"
          ]
        },
        {
          "output_type": "stream",
          "name": "stderr",
          "text": [
            "\n",
            "/usr/local/lib/python3.11/dist-packages/torch/utils/data/dataloader.py:624: UserWarning: This DataLoader will create 16 worker processes in total. Our suggested max number of worker in current system is 2, which is smaller than what this DataLoader is going to create. Please be aware that excessive worker creation might get DataLoader running slow or even freeze, lower the worker number to avoid potential slowness/freeze if necessary.\n",
            "  warnings.warn(\n"
          ]
        },
        {
          "output_type": "stream",
          "name": "stdout",
          "text": [
            "[dataset_a] Epoch 1 - Validation Loss: 0.2034\n",
            "              precision    recall  f1-score   support\n",
            "\n",
            "    negative     0.8900    0.9442    0.9163       394\n",
            "     neutral     0.9174    0.7634    0.8333       131\n",
            "    positive     0.9577    0.9551    0.9564       735\n",
            "\n",
            "    accuracy                         0.9317      1260\n",
            "   macro avg     0.9217    0.8875    0.9020      1260\n",
            "weighted avg     0.9323    0.9317    0.9311      1260\n",
            "\n"
          ]
        },
        {
          "output_type": "display_data",
          "data": {
            "text/plain": [
              "<Figure size 640x480 with 2 Axes>"
            ],
            "image/png": "[encoded data removed]"
          },
          "metadata": {}
        },
        {
          "output_type": "stream",
          "name": "stderr",
          "text": [
            "\r[dataset_a] Epoch 2 - Training:   0%|          | 0/350 [00:00<?, ?it/s]/usr/local/lib/python3.11/dist-packages/torch/utils/data/dataloader.py:624: UserWarning: This DataLoader will create 16 worker processes in total. Our suggested max number of worker in current system is 2, which is smaller than what this DataLoader is going to create. Please be aware that excessive worker creation might get DataLoader running slow or even freeze, lower the worker number to avoid potential slowness/freeze if necessary.\n",
            "  warnings.warn(\n",
            "[dataset_a] Epoch 2 - Training: 100%|██████████| 350/350 [02:50<00:00,  2.05it/s]"
          ]
        },
        {
          "output_type": "stream",
          "name": "stdout",
          "text": [
            "[dataset_a] Epoch 2 - Train Loss: 0.1319\n",
            "              precision    recall  f1-score   support\n",
            "\n",
            "    negative     0.9352    0.9365    0.9358      3559\n",
            "     neutral     0.9539    0.9220    0.9377      1167\n",
            "    positive     0.9633    0.9683    0.9658      6472\n",
            "\n",
            "    accuracy                         0.9534     11198\n",
            "   macro avg     0.9508    0.9423    0.9464     11198\n",
            "weighted avg     0.9534    0.9534    0.9533     11198\n",
            "\n"
          ]
        },
        {
          "output_type": "stream",
          "name": "stderr",
          "text": [
            "\n",
            "/usr/local/lib/python3.11/dist-packages/torch/utils/data/dataloader.py:624: UserWarning: This DataLoader will create 16 worker processes in total. Our suggested max number of worker in current system is 2, which is smaller than what this DataLoader is going to create. Please be aware that excessive worker creation might get DataLoader running slow or even freeze, lower the worker number to avoid potential slowness/freeze if necessary.\n",
            "  warnings.warn(\n"
          ]
        },
        {
          "output_type": "stream",
          "name": "stdout",
          "text": [
            "[dataset_a] Epoch 2 - Validation Loss: 0.2128\n",
            "              precision    recall  f1-score   support\n",
            "\n",
            "    negative     0.8785    0.9543    0.9148       394\n",
            "     neutral     0.8909    0.7481    0.8133       131\n",
            "    positive     0.9640    0.9469    0.9554       735\n",
            "\n",
            "    accuracy                         0.9286      1260\n",
            "   macro avg     0.9111    0.8831    0.8945      1260\n",
            "weighted avg     0.9297    0.9286    0.9279      1260\n",
            "\n"
          ]
        },
        {
          "output_type": "display_data",
          "data": {
            "text/plain": [
              "<Figure size 640x480 with 2 Axes>"
            ],
            "image/png": "[encoded data removed]"
          },
          "metadata": {}
        },
        {
          "output_type": "stream",
          "name": "stderr",
          "text": [
            "\r[dataset_a] Epoch 3 - Training:   0%|          | 0/350 [00:00<?, ?it/s]/usr/local/lib/python3.11/dist-packages/torch/utils/data/dataloader.py:624: UserWarning: This DataLoader will create 16 worker processes in total. Our suggested max number of worker in current system is 2, which is smaller than what this DataLoader is going to create. Please be aware that excessive worker creation might get DataLoader running slow or even freeze, lower the worker number to avoid potential slowness/freeze if necessary.\n",
            "  warnings.warn(\n",
            "[dataset_a] Epoch 3 - Training: 100%|██████████| 350/350 [02:50<00:00,  2.05it/s]"
          ]
        },
        {
          "output_type": "stream",
          "name": "stdout",
          "text": [
            "[dataset_a] Epoch 3 - Train Loss: 0.0726\n",
            "              precision    recall  f1-score   support\n",
            "\n",
            "    negative     0.9655    0.9677    0.9666      3559\n",
            "     neutral     0.9702    0.9494    0.9597      1167\n",
            "    positive     0.9806    0.9832    0.9819      6472\n",
            "\n",
            "    accuracy                         0.9747     11198\n",
            "   macro avg     0.9721    0.9668    0.9694     11198\n",
            "weighted avg     0.9747    0.9747    0.9747     11198\n",
            "\n"
          ]
        },
        {
          "output_type": "stream",
          "name": "stderr",
          "text": [
            "\n",
            "/usr/local/lib/python3.11/dist-packages/torch/utils/data/dataloader.py:624: UserWarning: This DataLoader will create 16 worker processes in total. Our suggested max number of worker in current system is 2, which is smaller than what this DataLoader is going to create. Please be aware that excessive worker creation might get DataLoader running slow or even freeze, lower the worker number to avoid potential slowness/freeze if necessary.\n",
            "  warnings.warn(\n"
          ]
        },
        {
          "output_type": "stream",
          "name": "stdout",
          "text": [
            "[dataset_a] Epoch 3 - Validation Loss: 0.2292\n",
            "              precision    recall  f1-score   support\n",
            "\n",
            "    negative     0.8765    0.9543    0.9137       394\n",
            "     neutral     0.8814    0.7939    0.8353       131\n",
            "    positive     0.9677    0.9388    0.9530       735\n",
            "\n",
            "    accuracy                         0.9286      1260\n",
            "   macro avg     0.9085    0.8957    0.9007      1260\n",
            "weighted avg     0.9302    0.9286    0.9285      1260\n",
            "\n"
          ]
        },
        {
          "output_type": "display_data",
          "data": {
            "text/plain": [
              "<Figure size 640x480 with 2 Axes>"
            ],
            "image/png": "[encoded data removed]"
          },
          "metadata": {}
        },
        {
          "output_type": "stream",
          "name": "stderr",
          "text": [
            "\r[dataset_a] Epoch 4 - Training:   0%|          | 0/350 [00:00<?, ?it/s]/usr/local/lib/python3.11/dist-packages/torch/utils/data/dataloader.py:624: UserWarning: This DataLoader will create 16 worker processes in total. Our suggested max number of worker in current system is 2, which is smaller than what this DataLoader is going to create. Please be aware that excessive worker creation might get DataLoader running slow or even freeze, lower the worker number to avoid potential slowness/freeze if necessary.\n",
            "  warnings.warn(\n",
            "[dataset_a] Epoch 4 - Training: 100%|██████████| 350/350 [02:51<00:00,  2.04it/s]"
          ]
        },
        {
          "output_type": "stream",
          "name": "stdout",
          "text": [
            "[dataset_a] Epoch 4 - Train Loss: 0.0419\n",
            "              precision    recall  f1-score   support\n",
            "\n",
            "    negative     0.9807    0.9831    0.9819      3559\n",
            "     neutral     0.9835    0.9717    0.9776      1167\n",
            "    positive     0.9903    0.9910    0.9907      6472\n",
            "\n",
            "    accuracy                         0.9865     11198\n",
            "   macro avg     0.9848    0.9820    0.9834     11198\n",
            "weighted avg     0.9865    0.9865    0.9865     11198\n",
            "\n"
          ]
        },
        {
          "output_type": "stream",
          "name": "stderr",
          "text": [
            "\n",
            "/usr/local/lib/python3.11/dist-packages/torch/utils/data/dataloader.py:624: UserWarning: This DataLoader will create 16 worker processes in total. Our suggested max number of worker in current system is 2, which is smaller than what this DataLoader is going to create. Please be aware that excessive worker creation might get DataLoader running slow or even freeze, lower the worker number to avoid potential slowness/freeze if necessary.\n",
            "  warnings.warn(\n"
          ]
        },
        {
          "output_type": "stream",
          "name": "stdout",
          "text": [
            "[dataset_a] Epoch 4 - Validation Loss: 0.2662\n",
            "              precision    recall  f1-score   support\n",
            "\n",
            "    negative     0.9052    0.9213    0.9132       394\n",
            "     neutral     0.9320    0.7328    0.8205       131\n",
            "    positive     0.9418    0.9687    0.9551       735\n",
            "\n",
            "    accuracy                         0.9294      1260\n",
            "   macro avg     0.9264    0.8743    0.8963      1260\n",
            "weighted avg     0.9294    0.9294    0.9280      1260\n",
            "\n"
          ]
        },
        {
          "output_type": "display_data",
          "data": {
            "text/plain": [
              "<Figure size 640x480 with 2 Axes>"
            ],
            "image/png": "[encoded data removed]"
          },
          "metadata": {}
        },
        {
          "output_type": "stream",
          "name": "stderr",
          "text": [
            "\r[dataset_a] Epoch 5 - Training:   0%|          | 0/350 [00:00<?, ?it/s]/usr/local/lib/python3.11/dist-packages/torch/utils/data/dataloader.py:624: UserWarning: This DataLoader will create 16 worker processes in total. Our suggested max number of worker in current system is 2, which is smaller than what this DataLoader is going to create. Please be aware that excessive worker creation might get DataLoader running slow or even freeze, lower the worker number to avoid potential slowness/freeze if necessary.\n",
            "  warnings.warn(\n",
            "[dataset_a] Epoch 5 - Training: 100%|██████████| 350/350 [02:51<00:00,  2.05it/s]"
          ]
        },
        {
          "output_type": "stream",
          "name": "stdout",
          "text": [
            "[dataset_a] Epoch 5 - Train Loss: 0.0364\n",
            "              precision    recall  f1-score   support\n",
            "\n",
            "    negative     0.9837    0.9843    0.9840      3559\n",
            "     neutral     0.9853    0.9786    0.9819      1167\n",
            "    positive     0.9907    0.9917    0.9912      6472\n",
            "\n",
            "    accuracy                         0.9879     11198\n",
            "   macro avg     0.9866    0.9848    0.9857     11198\n",
            "weighted avg     0.9879    0.9879    0.9879     11198\n",
            "\n"
          ]
        },
        {
          "output_type": "stream",
          "name": "stderr",
          "text": [
            "\n",
            "/usr/local/lib/python3.11/dist-packages/torch/utils/data/dataloader.py:624: UserWarning: This DataLoader will create 16 worker processes in total. Our suggested max number of worker in current system is 2, which is smaller than what this DataLoader is going to create. Please be aware that excessive worker creation might get DataLoader running slow or even freeze, lower the worker number to avoid potential slowness/freeze if necessary.\n",
            "  warnings.warn(\n"
          ]
        },
        {
          "output_type": "stream",
          "name": "stdout",
          "text": [
            "[dataset_a] Epoch 5 - Validation Loss: 0.2516\n",
            "              precision    recall  f1-score   support\n",
            "\n",
            "    negative     0.9012    0.9492    0.9246       394\n",
            "     neutral     0.8983    0.8092    0.8514       131\n",
            "    positive     0.9670    0.9565    0.9617       735\n",
            "\n",
            "    accuracy                         0.9389      1260\n",
            "   macro avg     0.9222    0.9050    0.9126      1260\n",
            "weighted avg     0.9393    0.9389    0.9386      1260\n",
            "\n"
          ]
        },
        {
          "output_type": "display_data",
          "data": {
            "text/plain": [
              "<Figure size 640x480 with 2 Axes>"
            ],
            "image/png": "[encoded data removed]"
          },
          "metadata": {}
        },
        {
          "output_type": "stream",
          "name": "stderr",
          "text": [
            "/usr/local/lib/python3.11/dist-packages/torch/utils/data/dataloader.py:624: UserWarning: This DataLoader will create 16 worker processes in total. Our suggested max number of worker in current system is 2, which is smaller than what this DataLoader is going to create. Please be aware that excessive worker creation might get DataLoader running slow or even freeze, lower the worker number to avoid potential slowness/freeze if necessary.\n",
            "  warnings.warn(\n"
          ]
        },
        {
          "output_type": "stream",
          "name": "stdout",
          "text": [
            "[dataset_a] Test Prediction Labels: [0, 0, 0, 0, 0, 0, 0, 0, 0, 0, 0, 0, 0, 0, 0, 0, 0, 0, 0, 0, 0, 0, 0, 0, 0, 0, 0, 0, 0, 0, 0, 0, 0, 0, 0, 0, 0, 0, 0, 0, 0, 0, 0, 0, 0, 0, 0, 0, 0, 0, 0, 0, 0, 0, 0, 0, 0, 0, 0, 0, 0, 0, 0, 0, 0, 0, 0, 0, 0, 0, 0, 0, 0, 0, 0, 0, 0, 0, 0, 0, 0, 0, 0, 0, 0, 0, 0, 0, 0, 0, 0, 0, 0, 0, 0, 0, 0, 0, 0, 0, 0, 0, 0, 0, 0, 0, 0, 0, 2, 0, 0, 0, 0, 0, 0, 0, 0, 0, 0, 0, 0, 0, 0, 0, 0, 2, 2, 2, 2, 2, 2, 2, 2, 2, 2, 2, 2, 2, 2, 2, 2, 2, 2, 2, 2, 2, 2, 2, 2, 2, 0, 2, 2, 2, 2, 2, 0, 2, 2, 2, 2, 2, 2, 2, 2, 2, 2, 2, 2, 2, 2, 2, 2, 2, 2, 0, 2, 2, 2, 2, 2, 2, 2, 2, 2, 2, 2, 2, 2, 2, 2, 2, 2, 2, 2, 2, 2, 2, 2, 2, 2, 2, 2, 2, 2, 2, 2, 1, 2, 2, 2, 2, 2, 2, 2, 2, 2, 0, 0, 2, 2, 2, 2, 2, 2, 2, 2, 2, 2, 2, 2, 2, 2, 2, 2, 2, 2, 2, 2, 2, 2, 2, 2, 2, 2, 2, 2, 2, 2, 2, 1, 2, 1, 1, 0, 0, 0, 2, 1, 0, 0, 0, 2, 1, 1, 1, 1, 1, 1, 1, 1, 2, 2, 1, 1, 1, 1, 1, 1, 1, 1, 1, 1, 1, 1, 1, 1, 1, 1, 1, 1, 1, 1, 1, 1, 1, 1, 1, 1, 1, 0, 2, 0, 0, 0, 0, 0, 0, 0, 0, 0, 0, 0, 0, 0, 0, 0, 0, 0, 0, 0, 0, 0, 0, 0, 2, 0, 0, 0, 0, 0, 0, 0, 0, 0, 0, 0, 0, 0, 0, 0, 0, 0, 0, 0, 0, 0, 0, 0, 0, 0, 0, 0, 0, 0, 0, 0, 0, 2, 0, 0, 0, 0, 0, 0, 0, 0, 0, 0, 0, 0, 0, 0, 0, 0, 2, 2, 2, 2, 2, 2, 2, 2, 2, 2, 2, 2, 2, 2, 2, 2, 2, 2, 2, 2, 2, 2, 2, 2, 2, 2, 0, 2, 2, 2, 2, 2, 2, 2, 2, 2, 2, 2, 2, 2, 2, 2, 2, 2, 2, 2, 2, 2, 2, 2, 2, 2, 2, 0, 2, 2, 2, 2, 2, 2, 2, 2, 2, 2, 2, 2, 2, 2, 0, 2, 2, 2, 2, 2, 2, 2, 0, 1, 2, 1, 2, 2, 1, 1, 1, 0, 1, 1, 0, 2, 1, 1, 1, 1, 0, 1, 1, 0, 0, 1, 1, 1, 2, 1, 0, 0, 2, 2, 0, 0, 2, 2, 2, 2, 2, 2, 2, 1, 1, 1, 1, 1, 1, 2, 2]\n",
            "✅ Model dataset_a disimpan di: /content/drive/MyDrive/Colab Notebooks/Skripsi/Model/saved_model_dataset_a.pt\n",
            "\n",
            "=== Mulai Training untuk dataset_b ===\n"
          ]
        },
        {
          "output_type": "stream",
          "name": "stderr",
          "text": [
            "Some weights of BertForSequenceClassification were not initialized from the model checkpoint at indobenchmark/indobert-base-p1 and are newly initialized: ['classifier.bias', 'classifier.weight']\n",
            "You should probably TRAIN this model on a down-stream task to be able to use it for predictions and inference.\n",
            "[dataset_b] Epoch 1 - Training: 100%|██████████| 26/26 [00:07<00:00,  3.48it/s]"
          ]
        },
        {
          "output_type": "stream",
          "name": "stdout",
          "text": [
            "[dataset_b] Epoch 1 - Train Loss: 0.5612\n",
            "              precision    recall  f1-score   support\n",
            "\n",
            "    negative     0.0000    0.0000    0.0000        23\n",
            "     neutral     0.8414    0.9529    0.8936       679\n",
            "    positive     0.2286    0.0741    0.1119       108\n",
            "\n",
            "    accuracy                         0.8086       810\n",
            "   macro avg     0.3566    0.3423    0.3352       810\n",
            "weighted avg     0.7358    0.8086    0.7640       810\n",
            "\n"
          ]
        },
        {
          "output_type": "stream",
          "name": "stderr",
          "text": [
            "\n",
            "/usr/local/lib/python3.11/dist-packages/torch/utils/data/dataloader.py:624: UserWarning: This DataLoader will create 16 worker processes in total. Our suggested max number of worker in current system is 2, which is smaller than what this DataLoader is going to create. Please be aware that excessive worker creation might get DataLoader running slow or even freeze, lower the worker number to avoid potential slowness/freeze if necessary.\n",
            "  warnings.warn(\n"
          ]
        },
        {
          "output_type": "stream",
          "name": "stdout",
          "text": [
            "[dataset_b] Epoch 1 - Validation Loss: 0.2362\n",
            "              precision    recall  f1-score   support\n",
            "\n",
            "    negative     0.0000    0.0000    0.0000         1\n",
            "     neutral     0.9506    1.0000    0.9747        77\n",
            "    positive     1.0000    0.7500    0.8571        12\n",
            "\n",
            "    accuracy                         0.9556        90\n",
            "   macro avg     0.6502    0.5833    0.6106        90\n",
            "weighted avg     0.9466    0.9556    0.9482        90\n",
            "\n"
          ]
        },
        {
          "output_type": "stream",
          "name": "stderr",
          "text": [
            "/usr/local/lib/python3.11/dist-packages/sklearn/metrics/_classification.py:1565: UndefinedMetricWarning: Precision is ill-defined and being set to 0.0 in labels with no predicted samples. Use `zero_division` parameter to control this behavior.\n",
            "  _warn_prf(average, modifier, f\"{metric.capitalize()} is\", len(result))\n",
            "/usr/local/lib/python3.11/dist-packages/sklearn/metrics/_classification.py:1565: UndefinedMetricWarning: Precision is ill-defined and being set to 0.0 in labels with no predicted samples. Use `zero_division` parameter to control this behavior.\n",
            "  _warn_prf(average, modifier, f\"{metric.capitalize()} is\", len(result))\n",
            "/usr/local/lib/python3.11/dist-packages/sklearn/metrics/_classification.py:1565: UndefinedMetricWarning: Precision is ill-defined and being set to 0.0 in labels with no predicted samples. Use `zero_division` parameter to control this behavior.\n",
            "  _warn_prf(average, modifier, f\"{metric.capitalize()} is\", len(result))\n"
          ]
        },
        {
          "output_type": "display_data",
          "data": {
            "text/plain": [
              "<Figure size 640x480 with 2 Axes>"
            ],
            "image/png": "[encoded data removed]"
          },
          "metadata": {}
        },
        {
          "output_type": "stream",
          "name": "stderr",
          "text": [
            "\r[dataset_b] Epoch 2 - Training:   0%|          | 0/26 [00:00<?, ?it/s]/usr/local/lib/python3.11/dist-packages/torch/utils/data/dataloader.py:624: UserWarning: This DataLoader will create 16 worker processes in total. Our suggested max number of worker in current system is 2, which is smaller than what this DataLoader is going to create. Please be aware that excessive worker creation might get DataLoader running slow or even freeze, lower the worker number to avoid potential slowness/freeze if necessary.\n",
            "  warnings.warn(\n",
            "[dataset_b] Epoch 2 - Training: 100%|██████████| 26/26 [00:08<00:00,  3.04it/s]"
          ]
        },
        {
          "output_type": "stream",
          "name": "stdout",
          "text": [
            "[dataset_b] Epoch 2 - Train Loss: 0.1439\n",
            "              precision    recall  f1-score   support\n",
            "\n",
            "    negative     0.6000    0.1304    0.2143        23\n",
            "     neutral     0.9740    0.9926    0.9832       679\n",
            "    positive     0.8850    0.9259    0.9050       108\n",
            "\n",
            "    accuracy                         0.9593       810\n",
            "   macro avg     0.8196    0.6830    0.7008       810\n",
            "weighted avg     0.9515    0.9593    0.9510       810\n",
            "\n"
          ]
        },
        {
          "output_type": "stream",
          "name": "stderr",
          "text": [
            "\n",
            "/usr/local/lib/python3.11/dist-packages/torch/utils/data/dataloader.py:624: UserWarning: This DataLoader will create 16 worker processes in total. Our suggested max number of worker in current system is 2, which is smaller than what this DataLoader is going to create. Please be aware that excessive worker creation might get DataLoader running slow or even freeze, lower the worker number to avoid potential slowness/freeze if necessary.\n",
            "  warnings.warn(\n"
          ]
        },
        {
          "output_type": "stream",
          "name": "stdout",
          "text": [
            "[dataset_b] Epoch 2 - Validation Loss: 0.0743\n",
            "              precision    recall  f1-score   support\n",
            "\n",
            "    negative     1.0000    1.0000    1.0000         1\n",
            "     neutral     0.9872    1.0000    0.9935        77\n",
            "    positive     1.0000    0.9167    0.9565        12\n",
            "\n",
            "    accuracy                         0.9889        90\n",
            "   macro avg     0.9957    0.9722    0.9834        90\n",
            "weighted avg     0.9890    0.9889    0.9887        90\n",
            "\n"
          ]
        },
        {
          "output_type": "display_data",
          "data": {
            "text/plain": [
              "<Figure size 640x480 with 2 Axes>"
            ],
            "image/png": "[encoded data removed]"
          },
          "metadata": {}
        },
        {
          "output_type": "stream",
          "name": "stderr",
          "text": [
            "\r[dataset_b] Epoch 3 - Training:   0%|          | 0/26 [00:00<?, ?it/s]/usr/local/lib/python3.11/dist-packages/torch/utils/data/dataloader.py:624: UserWarning: This DataLoader will create 16 worker processes in total. Our suggested max number of worker in current system is 2, which is smaller than what this DataLoader is going to create. Please be aware that excessive worker creation might get DataLoader running slow or even freeze, lower the worker number to avoid potential slowness/freeze if necessary.\n",
            "  warnings.warn(\n",
            "[dataset_b] Epoch 3 - Training: 100%|██████████| 26/26 [00:07<00:00,  3.40it/s]"
          ]
        },
        {
          "output_type": "stream",
          "name": "stdout",
          "text": [
            "[dataset_b] Epoch 3 - Train Loss: 0.0687\n",
            "              precision    recall  f1-score   support\n",
            "\n",
            "    negative     0.8182    0.7826    0.8000        23\n",
            "     neutral     0.9970    0.9912    0.9941       679\n",
            "    positive     0.9292    0.9722    0.9502       108\n",
            "\n",
            "    accuracy                         0.9827       810\n",
            "   macro avg     0.9148    0.9153    0.9148       810\n",
            "weighted avg     0.9829    0.9827    0.9827       810\n",
            "\n"
          ]
        },
        {
          "output_type": "stream",
          "name": "stderr",
          "text": [
            "\n",
            "/usr/local/lib/python3.11/dist-packages/torch/utils/data/dataloader.py:624: UserWarning: This DataLoader will create 16 worker processes in total. Our suggested max number of worker in current system is 2, which is smaller than what this DataLoader is going to create. Please be aware that excessive worker creation might get DataLoader running slow or even freeze, lower the worker number to avoid potential slowness/freeze if necessary.\n",
            "  warnings.warn(\n"
          ]
        },
        {
          "output_type": "stream",
          "name": "stdout",
          "text": [
            "[dataset_b] Epoch 3 - Validation Loss: 0.0693\n",
            "              precision    recall  f1-score   support\n",
            "\n",
            "    negative     1.0000    1.0000    1.0000         1\n",
            "     neutral     0.9872    1.0000    0.9935        77\n",
            "    positive     1.0000    0.9167    0.9565        12\n",
            "\n",
            "    accuracy                         0.9889        90\n",
            "   macro avg     0.9957    0.9722    0.9834        90\n",
            "weighted avg     0.9890    0.9889    0.9887        90\n",
            "\n"
          ]
        },
        {
          "output_type": "display_data",
          "data": {
            "text/plain": [
              "<Figure size 640x480 with 2 Axes>"
            ],
            "image/png": "[encoded data removed]"
          },
          "metadata": {}
        },
        {
          "output_type": "stream",
          "name": "stderr",
          "text": [
            "\r[dataset_b] Epoch 4 - Training:   0%|          | 0/26 [00:00<?, ?it/s]/usr/local/lib/python3.11/dist-packages/torch/utils/data/dataloader.py:624: UserWarning: This DataLoader will create 16 worker processes in total. Our suggested max number of worker in current system is 2, which is smaller than what this DataLoader is going to create. Please be aware that excessive worker creation might get DataLoader running slow or even freeze, lower the worker number to avoid potential slowness/freeze if necessary.\n",
            "  warnings.warn(\n",
            "[dataset_b] Epoch 4 - Training: 100%|██████████| 26/26 [00:07<00:00,  3.54it/s]"
          ]
        },
        {
          "output_type": "stream",
          "name": "stdout",
          "text": [
            "[dataset_b] Epoch 4 - Train Loss: 0.0634\n",
            "              precision    recall  f1-score   support\n",
            "\n",
            "    negative     0.8947    0.7391    0.8095        23\n",
            "     neutral     0.9970    0.9941    0.9956       679\n",
            "    positive     0.9211    0.9722    0.9459       108\n",
            "\n",
            "    accuracy                         0.9840       810\n",
            "   macro avg     0.9376    0.9018    0.9170       810\n",
            "weighted avg     0.9840    0.9840    0.9837       810\n",
            "\n"
          ]
        },
        {
          "output_type": "stream",
          "name": "stderr",
          "text": [
            "\n",
            "/usr/local/lib/python3.11/dist-packages/torch/utils/data/dataloader.py:624: UserWarning: This DataLoader will create 16 worker processes in total. Our suggested max number of worker in current system is 2, which is smaller than what this DataLoader is going to create. Please be aware that excessive worker creation might get DataLoader running slow or even freeze, lower the worker number to avoid potential slowness/freeze if necessary.\n",
            "  warnings.warn(\n"
          ]
        },
        {
          "output_type": "stream",
          "name": "stdout",
          "text": [
            "[dataset_b] Epoch 4 - Validation Loss: 0.0379\n",
            "              precision    recall  f1-score   support\n",
            "\n",
            "    negative     0.5000    1.0000    0.6667         1\n",
            "     neutral     1.0000    1.0000    1.0000        77\n",
            "    positive     1.0000    0.9167    0.9565        12\n",
            "\n",
            "    accuracy                         0.9889        90\n",
            "   macro avg     0.8333    0.9722    0.8744        90\n",
            "weighted avg     0.9944    0.9889    0.9905        90\n",
            "\n"
          ]
        },
        {
          "output_type": "display_data",
          "data": {
            "text/plain": [
              "<Figure size 640x480 with 2 Axes>"
            ],
            "image/png": "[encoded data removed]"
          },
          "metadata": {}
        },
        {
          "output_type": "stream",
          "name": "stderr",
          "text": [
            "\r[dataset_b] Epoch 5 - Training:   0%|          | 0/26 [00:00<?, ?it/s]/usr/local/lib/python3.11/dist-packages/torch/utils/data/dataloader.py:624: UserWarning: This DataLoader will create 16 worker processes in total. Our suggested max number of worker in current system is 2, which is smaller than what this DataLoader is going to create. Please be aware that excessive worker creation might get DataLoader running slow or even freeze, lower the worker number to avoid potential slowness/freeze if necessary.\n",
            "  warnings.warn(\n",
            "[dataset_b] Epoch 5 - Training: 100%|██████████| 26/26 [00:07<00:00,  3.29it/s]"
          ]
        },
        {
          "output_type": "stream",
          "name": "stdout",
          "text": [
            "[dataset_b] Epoch 5 - Train Loss: 0.0470\n",
            "              precision    recall  f1-score   support\n",
            "\n",
            "    negative     0.8750    0.9130    0.8936        23\n",
            "     neutral     0.9985    0.9941    0.9963       679\n",
            "    positive     0.9545    0.9722    0.9633       108\n",
            "\n",
            "    accuracy                         0.9889       810\n",
            "   macro avg     0.9427    0.9598    0.9511       810\n",
            "weighted avg     0.9891    0.9889    0.9890       810\n",
            "\n"
          ]
        },
        {
          "output_type": "stream",
          "name": "stderr",
          "text": [
            "\n",
            "/usr/local/lib/python3.11/dist-packages/torch/utils/data/dataloader.py:624: UserWarning: This DataLoader will create 16 worker processes in total. Our suggested max number of worker in current system is 2, which is smaller than what this DataLoader is going to create. Please be aware that excessive worker creation might get DataLoader running slow or even freeze, lower the worker number to avoid potential slowness/freeze if necessary.\n",
            "  warnings.warn(\n"
          ]
        },
        {
          "output_type": "stream",
          "name": "stdout",
          "text": [
            "[dataset_b] Epoch 5 - Validation Loss: 0.0246\n",
            "              precision    recall  f1-score   support\n",
            "\n",
            "    negative     1.0000    1.0000    1.0000         1\n",
            "     neutral     0.9872    1.0000    0.9935        77\n",
            "    positive     1.0000    0.9167    0.9565        12\n",
            "\n",
            "    accuracy                         0.9889        90\n",
            "   macro avg     0.9957    0.9722    0.9834        90\n",
            "weighted avg     0.9890    0.9889    0.9887        90\n",
            "\n"
          ]
        },
        {
          "output_type": "display_data",
          "data": {
            "text/plain": [
              "<Figure size 640x480 with 2 Axes>"
            ],
            "image/png": "[encoded data removed]"
          },
          "metadata": {}
        },
        {
          "output_type": "stream",
          "name": "stderr",
          "text": [
            "/usr/local/lib/python3.11/dist-packages/torch/utils/data/dataloader.py:624: UserWarning: This DataLoader will create 16 worker processes in total. Our suggested max number of worker in current system is 2, which is smaller than what this DataLoader is going to create. Please be aware that excessive worker creation might get DataLoader running slow or even freeze, lower the worker number to avoid potential slowness/freeze if necessary.\n",
            "  warnings.warn(\n"
          ]
        },
        {
          "output_type": "stream",
          "name": "stdout",
          "text": [
            "[dataset_b] Test Prediction Labels: [1, 1, 1, 1, 1, 1, 1, 1, 1, 1, 1, 1, 1, 1, 1, 1, 1, 1, 1, 1, 1, 1, 1, 1, 2, 2, 2, 1, 2, 2, 2, 1, 1, 1, 1, 1, 1, 1, 1, 1, 1, 1, 1, 1, 1, 1, 1, 1, 1, 1, 1, 1, 1, 1, 1, 1, 1, 1, 1, 1, 1, 1, 1, 1, 1, 1, 1, 1, 1, 1, 0, 1, 1, 1, 1, 1, 1, 1, 1, 1, 2, 2, 0, 2, 2, 2, 2, 2, 2, 2, 0, 2, 0, 2, 0, 0, 2, 0, 0, 0, 1, 1, 1, 1, 1, 1, 1, 1, 1, 1, 1, 1, 1, 1, 1, 1, 1, 1, 1, 1, 1, 1, 1, 1, 1, 1, 1, 2, 1, 1, 1, 1, 1, 1, 1, 1, 1, 1, 1, 1, 1, 1, 1, 1, 1, 1, 1, 1, 0, 1, 1, 1, 1, 1, 1, 1, 1, 1, 1, 1, 1, 1, 1, 1, 1, 1, 1, 1, 1, 1, 1, 1, 1, 1, 1, 1, 1, 1, 1, 2]\n",
            "✅ Model dataset_b disimpan di: /content/drive/MyDrive/Colab Notebooks/Skripsi/Model/saved_model_dataset_b.pt\n",
            "\n",
            "=== Mulai Training untuk dataset_c ===\n"
          ]
        },
        {
          "output_type": "stream",
          "name": "stderr",
          "text": [
            "Some weights of BertForSequenceClassification were not initialized from the model checkpoint at indobenchmark/indobert-base-p1 and are newly initialized: ['classifier.bias', 'classifier.weight']\n",
            "You should probably TRAIN this model on a down-stream task to be able to use it for predictions and inference.\n",
            "[dataset_c] Epoch 1 - Training: 100%|██████████| 72/72 [00:34<00:00,  2.06it/s]"
          ]
        },
        {
          "output_type": "stream",
          "name": "stdout",
          "text": [
            "[dataset_c] Epoch 1 - Train Loss: 0.3131\n",
            "              precision    recall  f1-score   support\n",
            "\n",
            "    negative     0.0000    0.0000    0.0000        30\n",
            "     neutral     0.9150    0.9743    0.9437      2023\n",
            "    positive     0.5984    0.3174    0.4148       230\n",
            "\n",
            "    accuracy                         0.8953      2283\n",
            "   macro avg     0.5045    0.4306    0.4528      2283\n",
            "weighted avg     0.8711    0.8953    0.8780      2283\n",
            "\n"
          ]
        },
        {
          "output_type": "stream",
          "name": "stderr",
          "text": [
            "\n",
            "/usr/local/lib/python3.11/dist-packages/torch/utils/data/dataloader.py:624: UserWarning: This DataLoader will create 16 worker processes in total. Our suggested max number of worker in current system is 2, which is smaller than what this DataLoader is going to create. Please be aware that excessive worker creation might get DataLoader running slow or even freeze, lower the worker number to avoid potential slowness/freeze if necessary.\n",
            "  warnings.warn(\n"
          ]
        },
        {
          "output_type": "stream",
          "name": "stdout",
          "text": [
            "[dataset_c] Epoch 1 - Validation Loss: 0.1692\n",
            "              precision    recall  f1-score   support\n",
            "\n",
            "    negative     0.0000    0.0000    0.0000         2\n",
            "     neutral     0.9837    0.9565    0.9699       253\n",
            "    positive     0.7179    0.9333    0.8116        30\n",
            "\n",
            "    accuracy                         0.9474       285\n",
            "   macro avg     0.5672    0.6300    0.5938       285\n",
            "weighted avg     0.9489    0.9474    0.9465       285\n",
            "\n"
          ]
        },
        {
          "output_type": "stream",
          "name": "stderr",
          "text": [
            "/usr/local/lib/python3.11/dist-packages/sklearn/metrics/_classification.py:1565: UndefinedMetricWarning: Precision is ill-defined and being set to 0.0 in labels with no predicted samples. Use `zero_division` parameter to control this behavior.\n",
            "  _warn_prf(average, modifier, f\"{metric.capitalize()} is\", len(result))\n",
            "/usr/local/lib/python3.11/dist-packages/sklearn/metrics/_classification.py:1565: UndefinedMetricWarning: Precision is ill-defined and being set to 0.0 in labels with no predicted samples. Use `zero_division` parameter to control this behavior.\n",
            "  _warn_prf(average, modifier, f\"{metric.capitalize()} is\", len(result))\n",
            "/usr/local/lib/python3.11/dist-packages/sklearn/metrics/_classification.py:1565: UndefinedMetricWarning: Precision is ill-defined and being set to 0.0 in labels with no predicted samples. Use `zero_division` parameter to control this behavior.\n",
            "  _warn_prf(average, modifier, f\"{metric.capitalize()} is\", len(result))\n"
          ]
        },
        {
          "output_type": "display_data",
          "data": {
            "text/plain": [
              "<Figure size 640x480 with 2 Axes>"
            ],
            "image/png": "[encoded data removed]"
          },
          "metadata": {}
        },
        {
          "output_type": "stream",
          "name": "stderr",
          "text": [
            "\r[dataset_c] Epoch 2 - Training:   0%|          | 0/72 [00:00<?, ?it/s]/usr/local/lib/python3.11/dist-packages/torch/utils/data/dataloader.py:624: UserWarning: This DataLoader will create 16 worker processes in total. Our suggested max number of worker in current system is 2, which is smaller than what this DataLoader is going to create. Please be aware that excessive worker creation might get DataLoader running slow or even freeze, lower the worker number to avoid potential slowness/freeze if necessary.\n",
            "  warnings.warn(\n",
            "[dataset_c] Epoch 2 - Training: 100%|██████████| 72/72 [00:33<00:00,  2.15it/s]"
          ]
        },
        {
          "output_type": "stream",
          "name": "stdout",
          "text": [
            "[dataset_c] Epoch 2 - Train Loss: 0.1628\n",
            "              precision    recall  f1-score   support\n",
            "\n",
            "    negative     0.0000    0.0000    0.0000        30\n",
            "     neutral     0.9668    0.9802    0.9735      2023\n",
            "    positive     0.8147    0.8217    0.8182       230\n",
            "\n",
            "    accuracy                         0.9514      2283\n",
            "   macro avg     0.5938    0.6007    0.5972      2283\n",
            "weighted avg     0.9388    0.9514    0.9451      2283\n",
            "\n"
          ]
        },
        {
          "output_type": "stream",
          "name": "stderr",
          "text": [
            "\n",
            "/usr/local/lib/python3.11/dist-packages/sklearn/metrics/_classification.py:1565: UndefinedMetricWarning: Precision is ill-defined and being set to 0.0 in labels with no predicted samples. Use `zero_division` parameter to control this behavior.\n",
            "  _warn_prf(average, modifier, f\"{metric.capitalize()} is\", len(result))\n",
            "/usr/local/lib/python3.11/dist-packages/sklearn/metrics/_classification.py:1565: UndefinedMetricWarning: Precision is ill-defined and being set to 0.0 in labels with no predicted samples. Use `zero_division` parameter to control this behavior.\n",
            "  _warn_prf(average, modifier, f\"{metric.capitalize()} is\", len(result))\n",
            "/usr/local/lib/python3.11/dist-packages/sklearn/metrics/_classification.py:1565: UndefinedMetricWarning: Precision is ill-defined and being set to 0.0 in labels with no predicted samples. Use `zero_division` parameter to control this behavior.\n",
            "  _warn_prf(average, modifier, f\"{metric.capitalize()} is\", len(result))\n",
            "/usr/local/lib/python3.11/dist-packages/torch/utils/data/dataloader.py:624: UserWarning: This DataLoader will create 16 worker processes in total. Our suggested max number of worker in current system is 2, which is smaller than what this DataLoader is going to create. Please be aware that excessive worker creation might get DataLoader running slow or even freeze, lower the worker number to avoid potential slowness/freeze if necessary.\n",
            "  warnings.warn(\n"
          ]
        },
        {
          "output_type": "stream",
          "name": "stdout",
          "text": [
            "[dataset_c] Epoch 2 - Validation Loss: 0.1459\n",
            "              precision    recall  f1-score   support\n",
            "\n",
            "    negative     0.0000    0.0000    0.0000         2\n",
            "     neutral     0.9797    0.9526    0.9659       253\n",
            "    positive     0.6923    0.9000    0.7826        30\n",
            "\n",
            "    accuracy                         0.9404       285\n",
            "   macro avg     0.5573    0.6175    0.5828       285\n",
            "weighted avg     0.9426    0.9404    0.9399       285\n",
            "\n"
          ]
        },
        {
          "output_type": "stream",
          "name": "stderr",
          "text": [
            "/usr/local/lib/python3.11/dist-packages/sklearn/metrics/_classification.py:1565: UndefinedMetricWarning: Precision is ill-defined and being set to 0.0 in labels with no predicted samples. Use `zero_division` parameter to control this behavior.\n",
            "  _warn_prf(average, modifier, f\"{metric.capitalize()} is\", len(result))\n",
            "/usr/local/lib/python3.11/dist-packages/sklearn/metrics/_classification.py:1565: UndefinedMetricWarning: Precision is ill-defined and being set to 0.0 in labels with no predicted samples. Use `zero_division` parameter to control this behavior.\n",
            "  _warn_prf(average, modifier, f\"{metric.capitalize()} is\", len(result))\n",
            "/usr/local/lib/python3.11/dist-packages/sklearn/metrics/_classification.py:1565: UndefinedMetricWarning: Precision is ill-defined and being set to 0.0 in labels with no predicted samples. Use `zero_division` parameter to control this behavior.\n",
            "  _warn_prf(average, modifier, f\"{metric.capitalize()} is\", len(result))\n"
          ]
        },
        {
          "output_type": "display_data",
          "data": {
            "text/plain": [
              "<Figure size 640x480 with 2 Axes>"
            ],
            "image/png": "[encoded data removed]"
          },
          "metadata": {}
        },
        {
          "output_type": "stream",
          "name": "stderr",
          "text": [
            "\r[dataset_c] Epoch 3 - Training:   0%|          | 0/72 [00:00<?, ?it/s]/usr/local/lib/python3.11/dist-packages/torch/utils/data/dataloader.py:624: UserWarning: This DataLoader will create 16 worker processes in total. Our suggested max number of worker in current system is 2, which is smaller than what this DataLoader is going to create. Please be aware that excessive worker creation might get DataLoader running slow or even freeze, lower the worker number to avoid potential slowness/freeze if necessary.\n",
            "  warnings.warn(\n",
            "[dataset_c] Epoch 3 - Training: 100%|██████████| 72/72 [00:33<00:00,  2.14it/s]"
          ]
        },
        {
          "output_type": "stream",
          "name": "stdout",
          "text": [
            "[dataset_c] Epoch 3 - Train Loss: 0.1113\n",
            "              precision    recall  f1-score   support\n",
            "\n",
            "    negative     0.6667    0.2667    0.3810        30\n",
            "     neutral     0.9765    0.9857    0.9811      2023\n",
            "    positive     0.8603    0.8565    0.8584       230\n",
            "\n",
            "    accuracy                         0.9632      2283\n",
            "   macro avg     0.8345    0.7030    0.7401      2283\n",
            "weighted avg     0.9607    0.9632    0.9608      2283\n",
            "\n"
          ]
        },
        {
          "output_type": "stream",
          "name": "stderr",
          "text": [
            "\n",
            "/usr/local/lib/python3.11/dist-packages/torch/utils/data/dataloader.py:624: UserWarning: This DataLoader will create 16 worker processes in total. Our suggested max number of worker in current system is 2, which is smaller than what this DataLoader is going to create. Please be aware that excessive worker creation might get DataLoader running slow or even freeze, lower the worker number to avoid potential slowness/freeze if necessary.\n",
            "  warnings.warn(\n"
          ]
        },
        {
          "output_type": "stream",
          "name": "stdout",
          "text": [
            "[dataset_c] Epoch 3 - Validation Loss: 0.1176\n",
            "              precision    recall  f1-score   support\n",
            "\n",
            "    negative     0.0000    0.0000    0.0000         2\n",
            "     neutral     0.9760    0.9644    0.9702       253\n",
            "    positive     0.7647    0.8667    0.8125        30\n",
            "\n",
            "    accuracy                         0.9474       285\n",
            "   macro avg     0.5802    0.6104    0.5942       285\n",
            "weighted avg     0.9469    0.9474    0.9468       285\n",
            "\n"
          ]
        },
        {
          "output_type": "display_data",
          "data": {
            "text/plain": [
              "<Figure size 640x480 with 2 Axes>"
            ],
            "image/png": "[encoded data removed]"
          },
          "metadata": {}
        },
        {
          "output_type": "stream",
          "name": "stderr",
          "text": [
            "\r[dataset_c] Epoch 4 - Training:   0%|          | 0/72 [00:00<?, ?it/s]/usr/local/lib/python3.11/dist-packages/torch/utils/data/dataloader.py:624: UserWarning: This DataLoader will create 16 worker processes in total. Our suggested max number of worker in current system is 2, which is smaller than what this DataLoader is going to create. Please be aware that excessive worker creation might get DataLoader running slow or even freeze, lower the worker number to avoid potential slowness/freeze if necessary.\n",
            "  warnings.warn(\n",
            "[dataset_c] Epoch 4 - Training: 100%|██████████| 72/72 [00:33<00:00,  2.16it/s]"
          ]
        },
        {
          "output_type": "stream",
          "name": "stdout",
          "text": [
            "[dataset_c] Epoch 4 - Train Loss: 0.0504\n",
            "              precision    recall  f1-score   support\n",
            "\n",
            "    negative     0.9583    0.7667    0.8519        30\n",
            "     neutral     0.9901    0.9936    0.9919      2023\n",
            "    positive     0.9476    0.9435    0.9455       230\n",
            "\n",
            "    accuracy                         0.9855      2283\n",
            "   macro avg     0.9654    0.9012    0.9297      2283\n",
            "weighted avg     0.9854    0.9855    0.9854      2283\n",
            "\n"
          ]
        },
        {
          "output_type": "stream",
          "name": "stderr",
          "text": [
            "\n",
            "/usr/local/lib/python3.11/dist-packages/torch/utils/data/dataloader.py:624: UserWarning: This DataLoader will create 16 worker processes in total. Our suggested max number of worker in current system is 2, which is smaller than what this DataLoader is going to create. Please be aware that excessive worker creation might get DataLoader running slow or even freeze, lower the worker number to avoid potential slowness/freeze if necessary.\n",
            "  warnings.warn(\n"
          ]
        },
        {
          "output_type": "stream",
          "name": "stdout",
          "text": [
            "[dataset_c] Epoch 4 - Validation Loss: 0.1396\n",
            "              precision    recall  f1-score   support\n",
            "\n",
            "    negative     0.5000    0.5000    0.5000         2\n",
            "     neutral     0.9878    0.9605    0.9739       253\n",
            "    positive     0.7568    0.9333    0.8358        30\n",
            "\n",
            "    accuracy                         0.9544       285\n",
            "   macro avg     0.7482    0.7979    0.7699       285\n",
            "weighted avg     0.9601    0.9544    0.9561       285\n",
            "\n"
          ]
        },
        {
          "output_type": "display_data",
          "data": {
            "text/plain": [
              "<Figure size 640x480 with 2 Axes>"
            ],
            "image/png": "[encoded data removed]"
          },
          "metadata": {}
        },
        {
          "output_type": "stream",
          "name": "stderr",
          "text": [
            "\r[dataset_c] Epoch 5 - Training:   0%|          | 0/72 [00:00<?, ?it/s]/usr/local/lib/python3.11/dist-packages/torch/utils/data/dataloader.py:624: UserWarning: This DataLoader will create 16 worker processes in total. Our suggested max number of worker in current system is 2, which is smaller than what this DataLoader is going to create. Please be aware that excessive worker creation might get DataLoader running slow or even freeze, lower the worker number to avoid potential slowness/freeze if necessary.\n",
            "  warnings.warn(\n",
            "[dataset_c] Epoch 5 - Training: 100%|██████████| 72/72 [00:34<00:00,  2.12it/s]"
          ]
        },
        {
          "output_type": "stream",
          "name": "stdout",
          "text": [
            "[dataset_c] Epoch 5 - Train Loss: 0.0292\n",
            "              precision    recall  f1-score   support\n",
            "\n",
            "    negative     1.0000    0.9667    0.9831        30\n",
            "     neutral     0.9946    0.9970    0.9958      2023\n",
            "    positive     0.9735    0.9565    0.9649       230\n",
            "\n",
            "    accuracy                         0.9926      2283\n",
            "   macro avg     0.9893    0.9734    0.9813      2283\n",
            "weighted avg     0.9925    0.9926    0.9925      2283\n",
            "\n"
          ]
        },
        {
          "output_type": "stream",
          "name": "stderr",
          "text": [
            "\n",
            "/usr/local/lib/python3.11/dist-packages/torch/utils/data/dataloader.py:624: UserWarning: This DataLoader will create 16 worker processes in total. Our suggested max number of worker in current system is 2, which is smaller than what this DataLoader is going to create. Please be aware that excessive worker creation might get DataLoader running slow or even freeze, lower the worker number to avoid potential slowness/freeze if necessary.\n",
            "  warnings.warn(\n"
          ]
        },
        {
          "output_type": "stream",
          "name": "stdout",
          "text": [
            "[dataset_c] Epoch 5 - Validation Loss: 0.1794\n",
            "              precision    recall  f1-score   support\n",
            "\n",
            "    negative     0.5000    0.5000    0.5000         2\n",
            "     neutral     0.9799    0.9644    0.9721       253\n",
            "    positive     0.7647    0.8667    0.8125        30\n",
            "\n",
            "    accuracy                         0.9509       285\n",
            "   macro avg     0.7482    0.7770    0.7615       285\n",
            "weighted avg     0.9539    0.9509    0.9520       285\n",
            "\n"
          ]
        },
        {
          "output_type": "display_data",
          "data": {
            "text/plain": [
              "<Figure size 640x480 with 2 Axes>"
            ],
            "image/png": "[encoded data removed]"
          },
          "metadata": {}
        },
        {
          "output_type": "stream",
          "name": "stderr",
          "text": [
            "/usr/local/lib/python3.11/dist-packages/torch/utils/data/dataloader.py:624: UserWarning: This DataLoader will create 16 worker processes in total. Our suggested max number of worker in current system is 2, which is smaller than what this DataLoader is going to create. Please be aware that excessive worker creation might get DataLoader running slow or even freeze, lower the worker number to avoid potential slowness/freeze if necessary.\n",
            "  warnings.warn(\n"
          ]
        },
        {
          "output_type": "stream",
          "name": "stdout",
          "text": [
            "[dataset_c] Test Prediction Labels: [1, 1, 2, 1, 2, 1, 1, 1, 1, 1, 1, 1, 1, 1, 1, 1, 1, 2, 1, 1, 1, 1, 1, 1, 1, 1, 1, 1, 1, 1, 1, 1, 1, 1, 1, 1, 2, 1, 1, 1, 1, 1, 1, 1, 1, 2, 1, 1, 1, 1, 1, 1, 1, 1, 1, 2, 1, 1, 2, 1, 2, 1, 1, 1, 1, 1, 1, 1, 1, 2, 1, 1, 1, 1, 1, 1, 1, 1, 1, 1, 1, 1, 1, 1, 1, 1, 1, 1, 2, 1, 2, 1, 1, 1, 1, 1, 1, 2, 1, 1, 1, 1, 1, 1, 2, 1, 2, 1, 2, 1, 1, 1, 1, 1, 1, 1, 2, 1, 1, 1, 1, 1, 1, 1, 1, 1, 2, 1, 1, 1, 1, 1, 1, 1, 1, 1, 1, 1, 2, 1, 1, 1, 1, 1, 1, 1, 1, 1, 1, 1, 0, 1, 1, 1, 1, 1, 1, 1, 1, 1, 1, 2, 2, 1, 1, 1, 1, 1, 1, 1, 1, 1, 1, 1, 1, 1, 1, 2, 2, 1, 2, 2, 1, 2, 1, 1, 1, 1, 1, 2, 2, 1, 2, 1, 2, 1, 1, 1, 1, 1, 1, 1, 1, 1, 1, 1, 2, 2, 1, 1, 2, 1, 1, 1, 1, 1, 1, 2, 1, 1, 1, 1, 2, 2, 1, 1, 1, 1, 1, 2, 1, 1, 1, 1, 2, 1, 1, 1, 1, 1, 1, 1, 1, 1, 1, 1, 2, 1, 1, 1, 1, 1, 1, 1, 1, 0, 1, 1, 1, 2, 1, 1, 1, 1, 1, 1, 0, 1, 1, 1, 1, 1, 2, 1, 1, 1, 1, 1, 1, 1, 1, 1, 1, 1, 1, 1]\n",
            "✅ Model dataset_c disimpan di: /content/drive/MyDrive/Colab Notebooks/Skripsi/Model/saved_model_dataset_c.pt\n"
          ]
        }
      ]
    }
  ],
  "metadata": {
    "accelerator": "GPU",
    "colab": {
      "gpuType": "T4",
      "provenance": [],
      "include_colab_link": true
    },
    "kernelspec": {
      "display_name": "Python 3",
      "name": "python3"
    },
    "language_info": {
      "name": "python"
    },
    "widgets": {
      "application/vnd.jupyter.widget-state+json": {
        "fd30baa291974297890f3107a063cbec": {
          "model_module": "@jupyter-widgets/controls",
          "model_name": "HBoxModel",
          "model_module_version": "1.5.0",
          "state": {
            "_dom_classes": [],
            "_model_module": "@jupyter-widgets/controls",
            "_model_module_version": "1.5.0",
            "_model_name": "HBoxModel",
            "_view_count": null,
            "_view_module": "@jupyter-widgets/controls",
            "_view_module_version": "1.5.0",
            "_view_name": "HBoxView",
            "box_style": "",
            "children": [
              "IPY_MODEL_e7b1c10df96744c2b06ae218140c0beb",
              "IPY_MODEL_63a12c198d0c47e78fac9195d0e2d7a5",
              "IPY_MODEL_98389dc2a418431c8dd705794f3d0c08"
            ],
            "layout": "IPY_MODEL_8755a6bbf22b403f9ccb45c0b2640422"
          }
        },
        "e7b1c10df96744c2b06ae218140c0beb": {
          "model_module": "@jupyter-widgets/controls",
          "model_name": "HTMLModel",
          "model_module_version": "1.5.0",
          "state": {
            "_dom_classes": [],
            "_model_module": "@jupyter-widgets/controls",
            "_model_module_version": "1.5.0",
            "_model_name": "HTMLModel",
            "_view_count": null,
            "_view_module": "@jupyter-widgets/controls",
            "_view_module_version": "1.5.0",
            "_view_name": "HTMLView",
            "description": "",
            "description_tooltip": null,
            "layout": "IPY_MODEL_23d8036169cd4622aa9da85a628102ad",
            "placeholder": "​",
            "style": "IPY_MODEL_bcd55c3cc4544e029730cbad5f94c5b6",
            "value": "tokenizer_config.json: 100%"
          }
        },
        "63a12c198d0c47e78fac9195d0e2d7a5": {
          "model_module": "@jupyter-widgets/controls",
          "model_name": "FloatProgressModel",
          "model_module_version": "1.5.0",
          "state": {
            "_dom_classes": [],
            "_model_module": "@jupyter-widgets/controls",
            "_model_module_version": "1.5.0",
            "_model_name": "FloatProgressModel",
            "_view_count": null,
            "_view_module": "@jupyter-widgets/controls",
            "_view_module_version": "1.5.0",
            "_view_name": "ProgressView",
            "bar_style": "success",
            "description": "",
            "description_tooltip": null,
            "layout": "IPY_MODEL_39a9418af3d64a4db01b0fd377c30988",
            "max": 2,
            "min": 0,
            "orientation": "horizontal",
            "style": "IPY_MODEL_443f93ebe84b47b1b4d3c6f875e0ecb5",
            "value": 2
          }
        },
        "98389dc2a418431c8dd705794f3d0c08": {
          "model_module": "@jupyter-widgets/controls",
          "model_name": "HTMLModel",
          "model_module_version": "1.5.0",
          "state": {
            "_dom_classes": [],
            "_model_module": "@jupyter-widgets/controls",
            "_model_module_version": "1.5.0",
            "_model_name": "HTMLModel",
            "_view_count": null,
            "_view_module": "@jupyter-widgets/controls",
            "_view_module_version": "1.5.0",
            "_view_name": "HTMLView",
            "description": "",
            "description_tooltip": null,
            "layout": "IPY_MODEL_4a8d8ca837424447b5f1b5ced089d945",
            "placeholder": "​",
            "style": "IPY_MODEL_180aa6b950cd4289a383107066ca6b73",
            "value": " 2.00/2.00 [00:00&lt;00:00, 131B/s]"
          }
        },
        "8755a6bbf22b403f9ccb45c0b2640422": {
          "model_module": "@jupyter-widgets/base",
          "model_name": "LayoutModel",
          "model_module_version": "1.2.0",
          "state": {
            "_model_module": "@jupyter-widgets/base",
            "_model_module_version": "1.2.0",
            "_model_name": "LayoutModel",
            "_view_count": null,
            "_view_module": "@jupyter-widgets/base",
            "_view_module_version": "1.2.0",
            "_view_name": "LayoutView",
            "align_content": null,
            "align_items": null,
            "align_self": null,
            "border": null,
            "bottom": null,
            "display": null,
            "flex": null,
            "flex_flow": null,
            "grid_area": null,
            "grid_auto_columns": null,
            "grid_auto_flow": null,
            "grid_auto_rows": null,
            "grid_column": null,
            "grid_gap": null,
            "grid_row": null,
            "grid_template_areas": null,
            "grid_template_columns": null,
            "grid_template_rows": null,
            "height": null,
            "justify_content": null,
            "justify_items": null,
            "left": null,
            "margin": null,
            "max_height": null,
            "max_width": null,
            "min_height": null,
            "min_width": null,
            "object_fit": null,
            "object_position": null,
            "order": null,
            "overflow": null,
            "overflow_x": null,
            "overflow_y": null,
            "padding": null,
            "right": null,
            "top": null,
            "visibility": null,
            "width": null
          }
        },
        "23d8036169cd4622aa9da85a628102ad": {
          "model_module": "@jupyter-widgets/base",
          "model_name": "LayoutModel",
          "model_module_version": "1.2.0",
          "state": {
            "_model_module": "@jupyter-widgets/base",
            "_model_module_version": "1.2.0",
            "_model_name": "LayoutModel",
            "_view_count": null,
            "_view_module": "@jupyter-widgets/base",
            "_view_module_version": "1.2.0",
            "_view_name": "LayoutView",
            "align_content": null,
            "align_items": null,
            "align_self": null,
            "border": null,
            "bottom": null,
            "display": null,
            "flex": null,
            "flex_flow": null,
            "grid_area": null,
            "grid_auto_columns": null,
            "grid_auto_flow": null,
            "grid_auto_rows": null,
            "grid_column": null,
            "grid_gap": null,
            "grid_row": null,
            "grid_template_areas": null,
            "grid_template_columns": null,
            "grid_template_rows": null,
            "height": null,
            "justify_content": null,
            "justify_items": null,
            "left": null,
            "margin": null,
            "max_height": null,
            "max_width": null,
            "min_height": null,
            "min_width": null,
            "object_fit": null,
            "object_position": null,
            "order": null,
            "overflow": null,
            "overflow_x": null,
            "overflow_y": null,
            "padding": null,
            "right": null,
            "top": null,
            "visibility": null,
            "width": null
          }
        },
        "bcd55c3cc4544e029730cbad5f94c5b6": {
          "model_module": "@jupyter-widgets/controls",
          "model_name": "DescriptionStyleModel",
          "model_module_version": "1.5.0",
          "state": {
            "_model_module": "@jupyter-widgets/controls",
            "_model_module_version": "1.5.0",
            "_model_name": "DescriptionStyleModel",
            "_view_count": null,
            "_view_module": "@jupyter-widgets/base",
            "_view_module_version": "1.2.0",
            "_view_name": "StyleView",
            "description_width": ""
          }
        },
        "39a9418af3d64a4db01b0fd377c30988": {
          "model_module": "@jupyter-widgets/base",
          "model_name": "LayoutModel",
          "model_module_version": "1.2.0",
          "state": {
            "_model_module": "@jupyter-widgets/base",
            "_model_module_version": "1.2.0",
            "_model_name": "LayoutModel",
            "_view_count": null,
            "_view_module": "@jupyter-widgets/base",
            "_view_module_version": "1.2.0",
            "_view_name": "LayoutView",
            "align_content": null,
            "align_items": null,
            "align_self": null,
            "border": null,
            "bottom": null,
            "display": null,
            "flex": null,
            "flex_flow": null,
            "grid_area": null,
            "grid_auto_columns": null,
            "grid_auto_flow": null,
            "grid_auto_rows": null,
            "grid_column": null,
            "grid_gap": null,
            "grid_row": null,
            "grid_template_areas": null,
            "grid_template_columns": null,
            "grid_template_rows": null,
            "height": null,
            "justify_content": null,
            "justify_items": null,
            "left": null,
            "margin": null,
            "max_height": null,
            "max_width": null,
            "min_height": null,
            "min_width": null,
            "object_fit": null,
            "object_position": null,
            "order": null,
            "overflow": null,
            "overflow_x": null,
            "overflow_y": null,
            "padding": null,
            "right": null,
            "top": null,
            "visibility": null,
            "width": null
          }
        },
        "443f93ebe84b47b1b4d3c6f875e0ecb5": {
          "model_module": "@jupyter-widgets/controls",
          "model_name": "ProgressStyleModel",
          "model_module_version": "1.5.0",
          "state": {
            "_model_module": "@jupyter-widgets/controls",
            "_model_module_version": "1.5.0",
            "_model_name": "ProgressStyleModel",
            "_view_count": null,
            "_view_module": "@jupyter-widgets/base",
            "_view_module_version": "1.2.0",
            "_view_name": "StyleView",
            "bar_color": null,
            "description_width": ""
          }
        },
        "4a8d8ca837424447b5f1b5ced089d945": {
          "model_module": "@jupyter-widgets/base",
          "model_name": "LayoutModel",
          "model_module_version": "1.2.0",
          "state": {
            "_model_module": "@jupyter-widgets/base",
            "_model_module_version": "1.2.0",
            "_model_name": "LayoutModel",
            "_view_count": null,
            "_view_module": "@jupyter-widgets/base",
            "_view_module_version": "1.2.0",
            "_view_name": "LayoutView",
            "align_content": null,
            "align_items": null,
            "align_self": null,
            "border": null,
            "bottom": null,
            "display": null,
            "flex": null,
            "flex_flow": null,
            "grid_area": null,
            "grid_auto_columns": null,
            "grid_auto_flow": null,
            "grid_auto_rows": null,
            "grid_column": null,
            "grid_gap": null,
            "grid_row": null,
            "grid_template_areas": null,
            "grid_template_columns": null,
            "grid_template_rows": null,
            "height": null,
            "justify_content": null,
            "justify_items": null,
            "left": null,
            "margin": null,
            "max_height": null,
            "max_width": null,
            "min_height": null,
            "min_width": null,
            "object_fit": null,
            "object_position": null,
            "order": null,
            "overflow": null,
            "overflow_x": null,
            "overflow_y": null,
            "padding": null,
            "right": null,
            "top": null,
            "visibility": null,
            "width": null
          }
        },
        "180aa6b950cd4289a383107066ca6b73": {
          "model_module": "@jupyter-widgets/controls",
          "model_name": "DescriptionStyleModel",
          "model_module_version": "1.5.0",
          "state": {
            "_model_module": "@jupyter-widgets/controls",
            "_model_module_version": "1.5.0",
            "_model_name": "DescriptionStyleModel",
            "_view_count": null,
            "_view_module": "@jupyter-widgets/base",
            "_view_module_version": "1.2.0",
            "_view_name": "StyleView",
            "description_width": ""
          }
        },
        "1812daaf45b34fa89e4987572f2ef9b9": {
          "model_module": "@jupyter-widgets/controls",
          "model_name": "HBoxModel",
          "model_module_version": "1.5.0",
          "state": {
            "_dom_classes": [],
            "_model_module": "@jupyter-widgets/controls",
            "_model_module_version": "1.5.0",
            "_model_name": "HBoxModel",
            "_view_count": null,
            "_view_module": "@jupyter-widgets/controls",
            "_view_module_version": "1.5.0",
            "_view_name": "HBoxView",
            "box_style": "",
            "children": [
              "IPY_MODEL_d18ca3e268aa4b139b4da93118ef3032",
              "IPY_MODEL_a22a85a6ac484134af52151acc9e198f",
              "IPY_MODEL_9181dccf24d24274af654f0f0094792e"
            ],
            "layout": "IPY_MODEL_00ac3c40d468420bb2b05a0a5eae4b81"
          }
        },
        "d18ca3e268aa4b139b4da93118ef3032": {
          "model_module": "@jupyter-widgets/controls",
          "model_name": "HTMLModel",
          "model_module_version": "1.5.0",
          "state": {
            "_dom_classes": [],
            "_model_module": "@jupyter-widgets/controls",
            "_model_module_version": "1.5.0",
            "_model_name": "HTMLModel",
            "_view_count": null,
            "_view_module": "@jupyter-widgets/controls",
            "_view_module_version": "1.5.0",
            "_view_name": "HTMLView",
            "description": "",
            "description_tooltip": null,
            "layout": "IPY_MODEL_3df8086ecf474aadb6ae2dbdd825b330",
            "placeholder": "​",
            "style": "IPY_MODEL_382d6c8ca21a4b3e9ce09927cc67ac9e",
            "value": "vocab.txt: 100%"
          }
        },
        "a22a85a6ac484134af52151acc9e198f": {
          "model_module": "@jupyter-widgets/controls",
          "model_name": "FloatProgressModel",
          "model_module_version": "1.5.0",
          "state": {
            "_dom_classes": [],
            "_model_module": "@jupyter-widgets/controls",
            "_model_module_version": "1.5.0",
            "_model_name": "FloatProgressModel",
            "_view_count": null,
            "_view_module": "@jupyter-widgets/controls",
            "_view_module_version": "1.5.0",
            "_view_name": "ProgressView",
            "bar_style": "success",
            "description": "",
            "description_tooltip": null,
            "layout": "IPY_MODEL_430f14936f8b4c1da3fd8ae21ed65977",
            "max": 229167,
            "min": 0,
            "orientation": "horizontal",
            "style": "IPY_MODEL_75206bb5a6b24f368babbbc88621b895",
            "value": 229167
          }
        },
        "9181dccf24d24274af654f0f0094792e": {
          "model_module": "@jupyter-widgets/controls",
          "model_name": "HTMLModel",
          "model_module_version": "1.5.0",
          "state": {
            "_dom_classes": [],
            "_model_module": "@jupyter-widgets/controls",
            "_model_module_version": "1.5.0",
            "_model_name": "HTMLModel",
            "_view_count": null,
            "_view_module": "@jupyter-widgets/controls",
            "_view_module_version": "1.5.0",
            "_view_name": "HTMLView",
            "description": "",
            "description_tooltip": null,
            "layout": "IPY_MODEL_a2e6e11c92434620928008927ea87d5c",
            "placeholder": "​",
            "style": "IPY_MODEL_0e812352ff5d4800be03c5230b224d25",
            "value": " 229k/229k [00:00&lt;00:00, 2.78MB/s]"
          }
        },
        "00ac3c40d468420bb2b05a0a5eae4b81": {
          "model_module": "@jupyter-widgets/base",
          "model_name": "LayoutModel",
          "model_module_version": "1.2.0",
          "state": {
            "_model_module": "@jupyter-widgets/base",
            "_model_module_version": "1.2.0",
            "_model_name": "LayoutModel",
            "_view_count": null,
            "_view_module": "@jupyter-widgets/base",
            "_view_module_version": "1.2.0",
            "_view_name": "LayoutView",
            "align_content": null,
            "align_items": null,
            "align_self": null,
            "border": null,
            "bottom": null,
            "display": null,
            "flex": null,
            "flex_flow": null,
            "grid_area": null,
            "grid_auto_columns": null,
            "grid_auto_flow": null,
            "grid_auto_rows": null,
            "grid_column": null,
            "grid_gap": null,
            "grid_row": null,
            "grid_template_areas": null,
            "grid_template_columns": null,
            "grid_template_rows": null,
            "height": null,
            "justify_content": null,
            "justify_items": null,
            "left": null,
            "margin": null,
            "max_height": null,
            "max_width": null,
            "min_height": null,
            "min_width": null,
            "object_fit": null,
            "object_position": null,
            "order": null,
            "overflow": null,
            "overflow_x": null,
            "overflow_y": null,
            "padding": null,
            "right": null,
            "top": null,
            "visibility": null,
            "width": null
          }
        },
        "3df8086ecf474aadb6ae2dbdd825b330": {
          "model_module": "@jupyter-widgets/base",
          "model_name": "LayoutModel",
          "model_module_version": "1.2.0",
          "state": {
            "_model_module": "@jupyter-widgets/base",
            "_model_module_version": "1.2.0",
            "_model_name": "LayoutModel",
            "_view_count": null,
            "_view_module": "@jupyter-widgets/base",
            "_view_module_version": "1.2.0",
            "_view_name": "LayoutView",
            "align_content": null,
            "align_items": null,
            "align_self": null,
            "border": null,
            "bottom": null,
            "display": null,
            "flex": null,
            "flex_flow": null,
            "grid_area": null,
            "grid_auto_columns": null,
            "grid_auto_flow": null,
            "grid_auto_rows": null,
            "grid_column": null,
            "grid_gap": null,
            "grid_row": null,
            "grid_template_areas": null,
            "grid_template_columns": null,
            "grid_template_rows": null,
            "height": null,
            "justify_content": null,
            "justify_items": null,
            "left": null,
            "margin": null,
            "max_height": null,
            "max_width": null,
            "min_height": null,
            "min_width": null,
            "object_fit": null,
            "object_position": null,
            "order": null,
            "overflow": null,
            "overflow_x": null,
            "overflow_y": null,
            "padding": null,
            "right": null,
            "top": null,
            "visibility": null,
            "width": null
          }
        },
        "382d6c8ca21a4b3e9ce09927cc67ac9e": {
          "model_module": "@jupyter-widgets/controls",
          "model_name": "DescriptionStyleModel",
          "model_module_version": "1.5.0",
          "state": {
            "_model_module": "@jupyter-widgets/controls",
            "_model_module_version": "1.5.0",
            "_model_name": "DescriptionStyleModel",
            "_view_count": null,
            "_view_module": "@jupyter-widgets/base",
            "_view_module_version": "1.2.0",
            "_view_name": "StyleView",
            "description_width": ""
          }
        },
        "430f14936f8b4c1da3fd8ae21ed65977": {
          "model_module": "@jupyter-widgets/base",
          "model_name": "LayoutModel",
          "model_module_version": "1.2.0",
          "state": {
            "_model_module": "@jupyter-widgets/base",
            "_model_module_version": "1.2.0",
            "_model_name": "LayoutModel",
            "_view_count": null,
            "_view_module": "@jupyter-widgets/base",
            "_view_module_version": "1.2.0",
            "_view_name": "LayoutView",
            "align_content": null,
            "align_items": null,
            "align_self": null,
            "border": null,
            "bottom": null,
            "display": null,
            "flex": null,
            "flex_flow": null,
            "grid_area": null,
            "grid_auto_columns": null,
            "grid_auto_flow": null,
            "grid_auto_rows": null,
            "grid_column": null,
            "grid_gap": null,
            "grid_row": null,
            "grid_template_areas": null,
            "grid_template_columns": null,
            "grid_template_rows": null,
            "height": null,
            "justify_content": null,
            "justify_items": null,
            "left": null,
            "margin": null,
            "max_height": null,
            "max_width": null,
            "min_height": null,
            "min_width": null,
            "object_fit": null,
            "object_position": null,
            "order": null,
            "overflow": null,
            "overflow_x": null,
            "overflow_y": null,
            "padding": null,
            "right": null,
            "top": null,
            "visibility": null,
            "width": null
          }
        },
        "75206bb5a6b24f368babbbc88621b895": {
          "model_module": "@jupyter-widgets/controls",
          "model_name": "ProgressStyleModel",
          "model_module_version": "1.5.0",
          "state": {
            "_model_module": "@jupyter-widgets/controls",
            "_model_module_version": "1.5.0",
            "_model_name": "ProgressStyleModel",
            "_view_count": null,
            "_view_module": "@jupyter-widgets/base",
            "_view_module_version": "1.2.0",
            "_view_name": "StyleView",
            "bar_color": null,
            "description_width": ""
          }
        },
        "a2e6e11c92434620928008927ea87d5c": {
          "model_module": "@jupyter-widgets/base",
          "model_name": "LayoutModel",
          "model_module_version": "1.2.0",
          "state": {
            "_model_module": "@jupyter-widgets/base",
            "_model_module_version": "1.2.0",
            "_model_name": "LayoutModel",
            "_view_count": null,
            "_view_module": "@jupyter-widgets/base",
            "_view_module_version": "1.2.0",
            "_view_name": "LayoutView",
            "align_content": null,
            "align_items": null,
            "align_self": null,
            "border": null,
            "bottom": null,
            "display": null,
            "flex": null,
            "flex_flow": null,
            "grid_area": null,
            "grid_auto_columns": null,
            "grid_auto_flow": null,
            "grid_auto_rows": null,
            "grid_column": null,
            "grid_gap": null,
            "grid_row": null,
            "grid_template_areas": null,
            "grid_template_columns": null,
            "grid_template_rows": null,
            "height": null,
            "justify_content": null,
            "justify_items": null,
            "left": null,
            "margin": null,
            "max_height": null,
            "max_width": null,
            "min_height": null,
            "min_width": null,
            "object_fit": null,
            "object_position": null,
            "order": null,
            "overflow": null,
            "overflow_x": null,
            "overflow_y": null,
            "padding": null,
            "right": null,
            "top": null,
            "visibility": null,
            "width": null
          }
        },
        "0e812352ff5d4800be03c5230b224d25": {
          "model_module": "@jupyter-widgets/controls",
          "model_name": "DescriptionStyleModel",
          "model_module_version": "1.5.0",
          "state": {
            "_model_module": "@jupyter-widgets/controls",
            "_model_module_version": "1.5.0",
            "_model_name": "DescriptionStyleModel",
            "_view_count": null,
            "_view_module": "@jupyter-widgets/base",
            "_view_module_version": "1.2.0",
            "_view_name": "StyleView",
            "description_width": ""
          }
        },
        "b65de84836f048aab9cbe00165f4a471": {
          "model_module": "@jupyter-widgets/controls",
          "model_name": "HBoxModel",
          "model_module_version": "1.5.0",
          "state": {
            "_dom_classes": [],
            "_model_module": "@jupyter-widgets/controls",
            "_model_module_version": "1.5.0",
            "_model_name": "HBoxModel",
            "_view_count": null,
            "_view_module": "@jupyter-widgets/controls",
            "_view_module_version": "1.5.0",
            "_view_name": "HBoxView",
            "box_style": "",
            "children": [
              "IPY_MODEL_1377153b1a2c4e7e8b7fb3153f2d2ca3",
              "IPY_MODEL_4d998b356bf34caca670655bcf3dae6d",
              "IPY_MODEL_c22a79cd83e44d799e077eb51851a452"
            ],
            "layout": "IPY_MODEL_342e03dab85e4310931dc8a686204c1f"
          }
        },
        "1377153b1a2c4e7e8b7fb3153f2d2ca3": {
          "model_module": "@jupyter-widgets/controls",
          "model_name": "HTMLModel",
          "model_module_version": "1.5.0",
          "state": {
            "_dom_classes": [],
            "_model_module": "@jupyter-widgets/controls",
            "_model_module_version": "1.5.0",
            "_model_name": "HTMLModel",
            "_view_count": null,
            "_view_module": "@jupyter-widgets/controls",
            "_view_module_version": "1.5.0",
            "_view_name": "HTMLView",
            "description": "",
            "description_tooltip": null,
            "layout": "IPY_MODEL_93bdd582c9004bdeb3225f2015ca83c7",
            "placeholder": "​",
            "style": "IPY_MODEL_324187d1ae6d47c0aecf19c887b54db4",
            "value": "special_tokens_map.json: 100%"
          }
        },
        "4d998b356bf34caca670655bcf3dae6d": {
          "model_module": "@jupyter-widgets/controls",
          "model_name": "FloatProgressModel",
          "model_module_version": "1.5.0",
          "state": {
            "_dom_classes": [],
            "_model_module": "@jupyter-widgets/controls",
            "_model_module_version": "1.5.0",
            "_model_name": "FloatProgressModel",
            "_view_count": null,
            "_view_module": "@jupyter-widgets/controls",
            "_view_module_version": "1.5.0",
            "_view_name": "ProgressView",
            "bar_style": "success",
            "description": "",
            "description_tooltip": null,
            "layout": "IPY_MODEL_49fc65c1aa594d75a37b1b984eea03d5",
            "max": 112,
            "min": 0,
            "orientation": "horizontal",
            "style": "IPY_MODEL_be54c87d51224284a9711ff699885ddc",
            "value": 112
          }
        },
        "c22a79cd83e44d799e077eb51851a452": {
          "model_module": "@jupyter-widgets/controls",
          "model_name": "HTMLModel",
          "model_module_version": "1.5.0",
          "state": {
            "_dom_classes": [],
            "_model_module": "@jupyter-widgets/controls",
            "_model_module_version": "1.5.0",
            "_model_name": "HTMLModel",
            "_view_count": null,
            "_view_module": "@jupyter-widgets/controls",
            "_view_module_version": "1.5.0",
            "_view_name": "HTMLView",
            "description": "",
            "description_tooltip": null,
            "layout": "IPY_MODEL_999f8f9fe85040f2b2e9ea34d3f8cdbd",
            "placeholder": "​",
            "style": "IPY_MODEL_f4cfc3ace2a64435a8f703667151dab5",
            "value": " 112/112 [00:00&lt;00:00, 2.03kB/s]"
          }
        },
        "342e03dab85e4310931dc8a686204c1f": {
          "model_module": "@jupyter-widgets/base",
          "model_name": "LayoutModel",
          "model_module_version": "1.2.0",
          "state": {
            "_model_module": "@jupyter-widgets/base",
            "_model_module_version": "1.2.0",
            "_model_name": "LayoutModel",
            "_view_count": null,
            "_view_module": "@jupyter-widgets/base",
            "_view_module_version": "1.2.0",
            "_view_name": "LayoutView",
            "align_content": null,
            "align_items": null,
            "align_self": null,
            "border": null,
            "bottom": null,
            "display": null,
            "flex": null,
            "flex_flow": null,
            "grid_area": null,
            "grid_auto_columns": null,
            "grid_auto_flow": null,
            "grid_auto_rows": null,
            "grid_column": null,
            "grid_gap": null,
            "grid_row": null,
            "grid_template_areas": null,
            "grid_template_columns": null,
            "grid_template_rows": null,
            "height": null,
            "justify_content": null,
            "justify_items": null,
            "left": null,
            "margin": null,
            "max_height": null,
            "max_width": null,
            "min_height": null,
            "min_width": null,
            "object_fit": null,
            "object_position": null,
            "order": null,
            "overflow": null,
            "overflow_x": null,
            "overflow_y": null,
            "padding": null,
            "right": null,
            "top": null,
            "visibility": null,
            "width": null
          }
        },
        "93bdd582c9004bdeb3225f2015ca83c7": {
          "model_module": "@jupyter-widgets/base",
          "model_name": "LayoutModel",
          "model_module_version": "1.2.0",
          "state": {
            "_model_module": "@jupyter-widgets/base",
            "_model_module_version": "1.2.0",
            "_model_name": "LayoutModel",
            "_view_count": null,
            "_view_module": "@jupyter-widgets/base",
            "_view_module_version": "1.2.0",
            "_view_name": "LayoutView",
            "align_content": null,
            "align_items": null,
            "align_self": null,
            "border": null,
            "bottom": null,
            "display": null,
            "flex": null,
            "flex_flow": null,
            "grid_area": null,
            "grid_auto_columns": null,
            "grid_auto_flow": null,
            "grid_auto_rows": null,
            "grid_column": null,
            "grid_gap": null,
            "grid_row": null,
            "grid_template_areas": null,
            "grid_template_columns": null,
            "grid_template_rows": null,
            "height": null,
            "justify_content": null,
            "justify_items": null,
            "left": null,
            "margin": null,
            "max_height": null,
            "max_width": null,
            "min_height": null,
            "min_width": null,
            "object_fit": null,
            "object_position": null,
            "order": null,
            "overflow": null,
            "overflow_x": null,
            "overflow_y": null,
            "padding": null,
            "right": null,
            "top": null,
            "visibility": null,
            "width": null
          }
        },
        "324187d1ae6d47c0aecf19c887b54db4": {
          "model_module": "@jupyter-widgets/controls",
          "model_name": "DescriptionStyleModel",
          "model_module_version": "1.5.0",
          "state": {
            "_model_module": "@jupyter-widgets/controls",
            "_model_module_version": "1.5.0",
            "_model_name": "DescriptionStyleModel",
            "_view_count": null,
            "_view_module": "@jupyter-widgets/base",
            "_view_module_version": "1.2.0",
            "_view_name": "StyleView",
            "description_width": ""
          }
        },
        "49fc65c1aa594d75a37b1b984eea03d5": {
          "model_module": "@jupyter-widgets/base",
          "model_name": "LayoutModel",
          "model_module_version": "1.2.0",
          "state": {
            "_model_module": "@jupyter-widgets/base",
            "_model_module_version": "1.2.0",
            "_model_name": "LayoutModel",
            "_view_count": null,
            "_view_module": "@jupyter-widgets/base",
            "_view_module_version": "1.2.0",
            "_view_name": "LayoutView",
            "align_content": null,
            "align_items": null,
            "align_self": null,
            "border": null,
            "bottom": null,
            "display": null,
            "flex": null,
            "flex_flow": null,
            "grid_area": null,
            "grid_auto_columns": null,
            "grid_auto_flow": null,
            "grid_auto_rows": null,
            "grid_column": null,
            "grid_gap": null,
            "grid_row": null,
            "grid_template_areas": null,
            "grid_template_columns": null,
            "grid_template_rows": null,
            "height": null,
            "justify_content": null,
            "justify_items": null,
            "left": null,
            "margin": null,
            "max_height": null,
            "max_width": null,
            "min_height": null,
            "min_width": null,
            "object_fit": null,
            "object_position": null,
            "order": null,
            "overflow": null,
            "overflow_x": null,
            "overflow_y": null,
            "padding": null,
            "right": null,
            "top": null,
            "visibility": null,
            "width": null
          }
        },
        "be54c87d51224284a9711ff699885ddc": {
          "model_module": "@jupyter-widgets/controls",
          "model_name": "ProgressStyleModel",
          "model_module_version": "1.5.0",
          "state": {
            "_model_module": "@jupyter-widgets/controls",
            "_model_module_version": "1.5.0",
            "_model_name": "ProgressStyleModel",
            "_view_count": null,
            "_view_module": "@jupyter-widgets/base",
            "_view_module_version": "1.2.0",
            "_view_name": "StyleView",
            "bar_color": null,
            "description_width": ""
          }
        },
        "999f8f9fe85040f2b2e9ea34d3f8cdbd": {
          "model_module": "@jupyter-widgets/base",
          "model_name": "LayoutModel",
          "model_module_version": "1.2.0",
          "state": {
            "_model_module": "@jupyter-widgets/base",
            "_model_module_version": "1.2.0",
            "_model_name": "LayoutModel",
            "_view_count": null,
            "_view_module": "@jupyter-widgets/base",
            "_view_module_version": "1.2.0",
            "_view_name": "LayoutView",
            "align_content": null,
            "align_items": null,
            "align_self": null,
            "border": null,
            "bottom": null,
            "display": null,
            "flex": null,
            "flex_flow": null,
            "grid_area": null,
            "grid_auto_columns": null,
            "grid_auto_flow": null,
            "grid_auto_rows": null,
            "grid_column": null,
            "grid_gap": null,
            "grid_row": null,
            "grid_template_areas": null,
            "grid_template_columns": null,
            "grid_template_rows": null,
            "height": null,
            "justify_content": null,
            "justify_items": null,
            "left": null,
            "margin": null,
            "max_height": null,
            "max_width": null,
            "min_height": null,
            "min_width": null,
            "object_fit": null,
            "object_position": null,
            "order": null,
            "overflow": null,
            "overflow_x": null,
            "overflow_y": null,
            "padding": null,
            "right": null,
            "top": null,
            "visibility": null,
            "width": null
          }
        },
        "f4cfc3ace2a64435a8f703667151dab5": {
          "model_module": "@jupyter-widgets/controls",
          "model_name": "DescriptionStyleModel",
          "model_module_version": "1.5.0",
          "state": {
            "_model_module": "@jupyter-widgets/controls",
            "_model_module_version": "1.5.0",
            "_model_name": "DescriptionStyleModel",
            "_view_count": null,
            "_view_module": "@jupyter-widgets/base",
            "_view_module_version": "1.2.0",
            "_view_name": "StyleView",
            "description_width": ""
          }
        },
        "5ab6cf2f667c4d229cbbbfd01df4a14b": {
          "model_module": "@jupyter-widgets/controls",
          "model_name": "HBoxModel",
          "model_module_version": "1.5.0",
          "state": {
            "_dom_classes": [],
            "_model_module": "@jupyter-widgets/controls",
            "_model_module_version": "1.5.0",
            "_model_name": "HBoxModel",
            "_view_count": null,
            "_view_module": "@jupyter-widgets/controls",
            "_view_module_version": "1.5.0",
            "_view_name": "HBoxView",
            "box_style": "",
            "children": [
              "IPY_MODEL_b93109d9d223455c913861058b7d2042",
              "IPY_MODEL_0da07479f060458181eda2e6d258f1b1",
              "IPY_MODEL_14720a636ed54faaac5cdb8ade079be4"
            ],
            "layout": "IPY_MODEL_71d21f5b8b3e4da88dee43bc67a8a9c0"
          }
        },
        "b93109d9d223455c913861058b7d2042": {
          "model_module": "@jupyter-widgets/controls",
          "model_name": "HTMLModel",
          "model_module_version": "1.5.0",
          "state": {
            "_dom_classes": [],
            "_model_module": "@jupyter-widgets/controls",
            "_model_module_version": "1.5.0",
            "_model_name": "HTMLModel",
            "_view_count": null,
            "_view_module": "@jupyter-widgets/controls",
            "_view_module_version": "1.5.0",
            "_view_name": "HTMLView",
            "description": "",
            "description_tooltip": null,
            "layout": "IPY_MODEL_771f14d7a08f478ab85b0a987f8fda15",
            "placeholder": "​",
            "style": "IPY_MODEL_592424b3db5e4144be57a31124e608fe",
            "value": "config.json: 100%"
          }
        },
        "0da07479f060458181eda2e6d258f1b1": {
          "model_module": "@jupyter-widgets/controls",
          "model_name": "FloatProgressModel",
          "model_module_version": "1.5.0",
          "state": {
            "_dom_classes": [],
            "_model_module": "@jupyter-widgets/controls",
            "_model_module_version": "1.5.0",
            "_model_name": "FloatProgressModel",
            "_view_count": null,
            "_view_module": "@jupyter-widgets/controls",
            "_view_module_version": "1.5.0",
            "_view_name": "ProgressView",
            "bar_style": "success",
            "description": "",
            "description_tooltip": null,
            "layout": "IPY_MODEL_57b88fe79d9441d3a7d5fe40ed7d26de",
            "max": 1534,
            "min": 0,
            "orientation": "horizontal",
            "style": "IPY_MODEL_316b3ba3e0c14045a03a02a9a7814f99",
            "value": 1534
          }
        },
        "14720a636ed54faaac5cdb8ade079be4": {
          "model_module": "@jupyter-widgets/controls",
          "model_name": "HTMLModel",
          "model_module_version": "1.5.0",
          "state": {
            "_dom_classes": [],
            "_model_module": "@jupyter-widgets/controls",
            "_model_module_version": "1.5.0",
            "_model_name": "HTMLModel",
            "_view_count": null,
            "_view_module": "@jupyter-widgets/controls",
            "_view_module_version": "1.5.0",
            "_view_name": "HTMLView",
            "description": "",
            "description_tooltip": null,
            "layout": "IPY_MODEL_2ab59bbf10544be09ece997dcfd6dacb",
            "placeholder": "​",
            "style": "IPY_MODEL_50c6273a37074c75ac32ba782ea41256",
            "value": " 1.53k/1.53k [00:00&lt;00:00, 48.8kB/s]"
          }
        },
        "71d21f5b8b3e4da88dee43bc67a8a9c0": {
          "model_module": "@jupyter-widgets/base",
          "model_name": "LayoutModel",
          "model_module_version": "1.2.0",
          "state": {
            "_model_module": "@jupyter-widgets/base",
            "_model_module_version": "1.2.0",
            "_model_name": "LayoutModel",
            "_view_count": null,
            "_view_module": "@jupyter-widgets/base",
            "_view_module_version": "1.2.0",
            "_view_name": "LayoutView",
            "align_content": null,
            "align_items": null,
            "align_self": null,
            "border": null,
            "bottom": null,
            "display": null,
            "flex": null,
            "flex_flow": null,
            "grid_area": null,
            "grid_auto_columns": null,
            "grid_auto_flow": null,
            "grid_auto_rows": null,
            "grid_column": null,
            "grid_gap": null,
            "grid_row": null,
            "grid_template_areas": null,
            "grid_template_columns": null,
            "grid_template_rows": null,
            "height": null,
            "justify_content": null,
            "justify_items": null,
            "left": null,
            "margin": null,
            "max_height": null,
            "max_width": null,
            "min_height": null,
            "min_width": null,
            "object_fit": null,
            "object_position": null,
            "order": null,
            "overflow": null,
            "overflow_x": null,
            "overflow_y": null,
            "padding": null,
            "right": null,
            "top": null,
            "visibility": null,
            "width": null
          }
        },
        "771f14d7a08f478ab85b0a987f8fda15": {
          "model_module": "@jupyter-widgets/base",
          "model_name": "LayoutModel",
          "model_module_version": "1.2.0",
          "state": {
            "_model_module": "@jupyter-widgets/base",
            "_model_module_version": "1.2.0",
            "_model_name": "LayoutModel",
            "_view_count": null,
            "_view_module": "@jupyter-widgets/base",
            "_view_module_version": "1.2.0",
            "_view_name": "LayoutView",
            "align_content": null,
            "align_items": null,
            "align_self": null,
            "border": null,
            "bottom": null,
            "display": null,
            "flex": null,
            "flex_flow": null,
            "grid_area": null,
            "grid_auto_columns": null,
            "grid_auto_flow": null,
            "grid_auto_rows": null,
            "grid_column": null,
            "grid_gap": null,
            "grid_row": null,
            "grid_template_areas": null,
            "grid_template_columns": null,
            "grid_template_rows": null,
            "height": null,
            "justify_content": null,
            "justify_items": null,
            "left": null,
            "margin": null,
            "max_height": null,
            "max_width": null,
            "min_height": null,
            "min_width": null,
            "object_fit": null,
            "object_position": null,
            "order": null,
            "overflow": null,
            "overflow_x": null,
            "overflow_y": null,
            "padding": null,
            "right": null,
            "top": null,
            "visibility": null,
            "width": null
          }
        },
        "592424b3db5e4144be57a31124e608fe": {
          "model_module": "@jupyter-widgets/controls",
          "model_name": "DescriptionStyleModel",
          "model_module_version": "1.5.0",
          "state": {
            "_model_module": "@jupyter-widgets/controls",
            "_model_module_version": "1.5.0",
            "_model_name": "DescriptionStyleModel",
            "_view_count": null,
            "_view_module": "@jupyter-widgets/base",
            "_view_module_version": "1.2.0",
            "_view_name": "StyleView",
            "description_width": ""
          }
        },
        "57b88fe79d9441d3a7d5fe40ed7d26de": {
          "model_module": "@jupyter-widgets/base",
          "model_name": "LayoutModel",
          "model_module_version": "1.2.0",
          "state": {
            "_model_module": "@jupyter-widgets/base",
            "_model_module_version": "1.2.0",
            "_model_name": "LayoutModel",
            "_view_count": null,
            "_view_module": "@jupyter-widgets/base",
            "_view_module_version": "1.2.0",
            "_view_name": "LayoutView",
            "align_content": null,
            "align_items": null,
            "align_self": null,
            "border": null,
            "bottom": null,
            "display": null,
            "flex": null,
            "flex_flow": null,
            "grid_area": null,
            "grid_auto_columns": null,
            "grid_auto_flow": null,
            "grid_auto_rows": null,
            "grid_column": null,
            "grid_gap": null,
            "grid_row": null,
            "grid_template_areas": null,
            "grid_template_columns": null,
            "grid_template_rows": null,
            "height": null,
            "justify_content": null,
            "justify_items": null,
            "left": null,
            "margin": null,
            "max_height": null,
            "max_width": null,
            "min_height": null,
            "min_width": null,
            "object_fit": null,
            "object_position": null,
            "order": null,
            "overflow": null,
            "overflow_x": null,
            "overflow_y": null,
            "padding": null,
            "right": null,
            "top": null,
            "visibility": null,
            "width": null
          }
        },
        "316b3ba3e0c14045a03a02a9a7814f99": {
          "model_module": "@jupyter-widgets/controls",
          "model_name": "ProgressStyleModel",
          "model_module_version": "1.5.0",
          "state": {
            "_model_module": "@jupyter-widgets/controls",
            "_model_module_version": "1.5.0",
            "_model_name": "ProgressStyleModel",
            "_view_count": null,
            "_view_module": "@jupyter-widgets/base",
            "_view_module_version": "1.2.0",
            "_view_name": "StyleView",
            "bar_color": null,
            "description_width": ""
          }
        },
        "2ab59bbf10544be09ece997dcfd6dacb": {
          "model_module": "@jupyter-widgets/base",
          "model_name": "LayoutModel",
          "model_module_version": "1.2.0",
          "state": {
            "_model_module": "@jupyter-widgets/base",
            "_model_module_version": "1.2.0",
            "_model_name": "LayoutModel",
            "_view_count": null,
            "_view_module": "@jupyter-widgets/base",
            "_view_module_version": "1.2.0",
            "_view_name": "LayoutView",
            "align_content": null,
            "align_items": null,
            "align_self": null,
            "border": null,
            "bottom": null,
            "display": null,
            "flex": null,
            "flex_flow": null,
            "grid_area": null,
            "grid_auto_columns": null,
            "grid_auto_flow": null,
            "grid_auto_rows": null,
            "grid_column": null,
            "grid_gap": null,
            "grid_row": null,
            "grid_template_areas": null,
            "grid_template_columns": null,
            "grid_template_rows": null,
            "height": null,
            "justify_content": null,
            "justify_items": null,
            "left": null,
            "margin": null,
            "max_height": null,
            "max_width": null,
            "min_height": null,
            "min_width": null,
            "object_fit": null,
            "object_position": null,
            "order": null,
            "overflow": null,
            "overflow_x": null,
            "overflow_y": null,
            "padding": null,
            "right": null,
            "top": null,
            "visibility": null,
            "width": null
          }
        },
        "50c6273a37074c75ac32ba782ea41256": {
          "model_module": "@jupyter-widgets/controls",
          "model_name": "DescriptionStyleModel",
          "model_module_version": "1.5.0",
          "state": {
            "_model_module": "@jupyter-widgets/controls",
            "_model_module_version": "1.5.0",
            "_model_name": "DescriptionStyleModel",
            "_view_count": null,
            "_view_module": "@jupyter-widgets/base",
            "_view_module_version": "1.2.0",
            "_view_name": "StyleView",
            "description_width": ""
          }
        },
        "c2146effda2544938562c1b50dc270c7": {
          "model_module": "@jupyter-widgets/controls",
          "model_name": "HBoxModel",
          "model_module_version": "1.5.0",
          "state": {
            "_dom_classes": [],
            "_model_module": "@jupyter-widgets/controls",
            "_model_module_version": "1.5.0",
            "_model_name": "HBoxModel",
            "_view_count": null,
            "_view_module": "@jupyter-widgets/controls",
            "_view_module_version": "1.5.0",
            "_view_name": "HBoxView",
            "box_style": "",
            "children": [
              "IPY_MODEL_1d149d500daa4ba59600baf9850b57e9",
              "IPY_MODEL_a25b214f2d644cbfae78bf07ce3b8088",
              "IPY_MODEL_5aab75582cca4f89a8cd44b856299d19"
            ],
            "layout": "IPY_MODEL_7ecd054531954ec1bed37e46aa985d12"
          }
        },
        "1d149d500daa4ba59600baf9850b57e9": {
          "model_module": "@jupyter-widgets/controls",
          "model_name": "HTMLModel",
          "model_module_version": "1.5.0",
          "state": {
            "_dom_classes": [],
            "_model_module": "@jupyter-widgets/controls",
            "_model_module_version": "1.5.0",
            "_model_name": "HTMLModel",
            "_view_count": null,
            "_view_module": "@jupyter-widgets/controls",
            "_view_module_version": "1.5.0",
            "_view_name": "HTMLView",
            "description": "",
            "description_tooltip": null,
            "layout": "IPY_MODEL_3f329ec0bec148ebbe7d366e8f33dbfc",
            "placeholder": "​",
            "style": "IPY_MODEL_950476bf03ae4ff4908f996348474dca",
            "value": "pytorch_model.bin: 100%"
          }
        },
        "a25b214f2d644cbfae78bf07ce3b8088": {
          "model_module": "@jupyter-widgets/controls",
          "model_name": "FloatProgressModel",
          "model_module_version": "1.5.0",
          "state": {
            "_dom_classes": [],
            "_model_module": "@jupyter-widgets/controls",
            "_model_module_version": "1.5.0",
            "_model_name": "FloatProgressModel",
            "_view_count": null,
            "_view_module": "@jupyter-widgets/controls",
            "_view_module_version": "1.5.0",
            "_view_name": "ProgressView",
            "bar_style": "success",
            "description": "",
            "description_tooltip": null,
            "layout": "IPY_MODEL_8f436c75c4eb4283be0e15a8231a3f76",
            "max": 497810400,
            "min": 0,
            "orientation": "horizontal",
            "style": "IPY_MODEL_a633f8c67ee34032b7e1b57780f75fc5",
            "value": 497810400
          }
        },
        "5aab75582cca4f89a8cd44b856299d19": {
          "model_module": "@jupyter-widgets/controls",
          "model_name": "HTMLModel",
          "model_module_version": "1.5.0",
          "state": {
            "_dom_classes": [],
            "_model_module": "@jupyter-widgets/controls",
            "_model_module_version": "1.5.0",
            "_model_name": "HTMLModel",
            "_view_count": null,
            "_view_module": "@jupyter-widgets/controls",
            "_view_module_version": "1.5.0",
            "_view_name": "HTMLView",
            "description": "",
            "description_tooltip": null,
            "layout": "IPY_MODEL_1c57bd6bd16048b1a1663acac3fd2d16",
            "placeholder": "​",
            "style": "IPY_MODEL_1ea81eeb217e4b048ddfb1274ac979fc",
            "value": " 498M/498M [00:02&lt;00:00, 190MB/s]"
          }
        },
        "7ecd054531954ec1bed37e46aa985d12": {
          "model_module": "@jupyter-widgets/base",
          "model_name": "LayoutModel",
          "model_module_version": "1.2.0",
          "state": {
            "_model_module": "@jupyter-widgets/base",
            "_model_module_version": "1.2.0",
            "_model_name": "LayoutModel",
            "_view_count": null,
            "_view_module": "@jupyter-widgets/base",
            "_view_module_version": "1.2.0",
            "_view_name": "LayoutView",
            "align_content": null,
            "align_items": null,
            "align_self": null,
            "border": null,
            "bottom": null,
            "display": null,
            "flex": null,
            "flex_flow": null,
            "grid_area": null,
            "grid_auto_columns": null,
            "grid_auto_flow": null,
            "grid_auto_rows": null,
            "grid_column": null,
            "grid_gap": null,
            "grid_row": null,
            "grid_template_areas": null,
            "grid_template_columns": null,
            "grid_template_rows": null,
            "height": null,
            "justify_content": null,
            "justify_items": null,
            "left": null,
            "margin": null,
            "max_height": null,
            "max_width": null,
            "min_height": null,
            "min_width": null,
            "object_fit": null,
            "object_position": null,
            "order": null,
            "overflow": null,
            "overflow_x": null,
            "overflow_y": null,
            "padding": null,
            "right": null,
            "top": null,
            "visibility": null,
            "width": null
          }
        },
        "3f329ec0bec148ebbe7d366e8f33dbfc": {
          "model_module": "@jupyter-widgets/base",
          "model_name": "LayoutModel",
          "model_module_version": "1.2.0",
          "state": {
            "_model_module": "@jupyter-widgets/base",
            "_model_module_version": "1.2.0",
            "_model_name": "LayoutModel",
            "_view_count": null,
            "_view_module": "@jupyter-widgets/base",
            "_view_module_version": "1.2.0",
            "_view_name": "LayoutView",
            "align_content": null,
            "align_items": null,
            "align_self": null,
            "border": null,
            "bottom": null,
            "display": null,
            "flex": null,
            "flex_flow": null,
            "grid_area": null,
            "grid_auto_columns": null,
            "grid_auto_flow": null,
            "grid_auto_rows": null,
            "grid_column": null,
            "grid_gap": null,
            "grid_row": null,
            "grid_template_areas": null,
            "grid_template_columns": null,
            "grid_template_rows": null,
            "height": null,
            "justify_content": null,
            "justify_items": null,
            "left": null,
            "margin": null,
            "max_height": null,
            "max_width": null,
            "min_height": null,
            "min_width": null,
            "object_fit": null,
            "object_position": null,
            "order": null,
            "overflow": null,
            "overflow_x": null,
            "overflow_y": null,
            "padding": null,
            "right": null,
            "top": null,
            "visibility": null,
            "width": null
          }
        },
        "950476bf03ae4ff4908f996348474dca": {
          "model_module": "@jupyter-widgets/controls",
          "model_name": "DescriptionStyleModel",
          "model_module_version": "1.5.0",
          "state": {
            "_model_module": "@jupyter-widgets/controls",
            "_model_module_version": "1.5.0",
            "_model_name": "DescriptionStyleModel",
            "_view_count": null,
            "_view_module": "@jupyter-widgets/base",
            "_view_module_version": "1.2.0",
            "_view_name": "StyleView",
            "description_width": ""
          }
        },
        "8f436c75c4eb4283be0e15a8231a3f76": {
          "model_module": "@jupyter-widgets/base",
          "model_name": "LayoutModel",
          "model_module_version": "1.2.0",
          "state": {
            "_model_module": "@jupyter-widgets/base",
            "_model_module_version": "1.2.0",
            "_model_name": "LayoutModel",
            "_view_count": null,
            "_view_module": "@jupyter-widgets/base",
            "_view_module_version": "1.2.0",
            "_view_name": "LayoutView",
            "align_content": null,
            "align_items": null,
            "align_self": null,
            "border": null,
            "bottom": null,
            "display": null,
            "flex": null,
            "flex_flow": null,
            "grid_area": null,
            "grid_auto_columns": null,
            "grid_auto_flow": null,
            "grid_auto_rows": null,
            "grid_column": null,
            "grid_gap": null,
            "grid_row": null,
            "grid_template_areas": null,
            "grid_template_columns": null,
            "grid_template_rows": null,
            "height": null,
            "justify_content": null,
            "justify_items": null,
            "left": null,
            "margin": null,
            "max_height": null,
            "max_width": null,
            "min_height": null,
            "min_width": null,
            "object_fit": null,
            "object_position": null,
            "order": null,
            "overflow": null,
            "overflow_x": null,
            "overflow_y": null,
            "padding": null,
            "right": null,
            "top": null,
            "visibility": null,
            "width": null
          }
        },
        "a633f8c67ee34032b7e1b57780f75fc5": {
          "model_module": "@jupyter-widgets/controls",
          "model_name": "ProgressStyleModel",
          "model_module_version": "1.5.0",
          "state": {
            "_model_module": "@jupyter-widgets/controls",
            "_model_module_version": "1.5.0",
            "_model_name": "ProgressStyleModel",
            "_view_count": null,
            "_view_module": "@jupyter-widgets/base",
            "_view_module_version": "1.2.0",
            "_view_name": "StyleView",
            "bar_color": null,
            "description_width": ""
          }
        },
        "1c57bd6bd16048b1a1663acac3fd2d16": {
          "model_module": "@jupyter-widgets/base",
          "model_name": "LayoutModel",
          "model_module_version": "1.2.0",
          "state": {
            "_model_module": "@jupyter-widgets/base",
            "_model_module_version": "1.2.0",
            "_model_name": "LayoutModel",
            "_view_count": null,
            "_view_module": "@jupyter-widgets/base",
            "_view_module_version": "1.2.0",
            "_view_name": "LayoutView",
            "align_content": null,
            "align_items": null,
            "align_self": null,
            "border": null,
            "bottom": null,
            "display": null,
            "flex": null,
            "flex_flow": null,
            "grid_area": null,
            "grid_auto_columns": null,
            "grid_auto_flow": null,
            "grid_auto_rows": null,
            "grid_column": null,
            "grid_gap": null,
            "grid_row": null,
            "grid_template_areas": null,
            "grid_template_columns": null,
            "grid_template_rows": null,
            "height": null,
            "justify_content": null,
            "justify_items": null,
            "left": null,
            "margin": null,
            "max_height": null,
            "max_width": null,
            "min_height": null,
            "min_width": null,
            "object_fit": null,
            "object_position": null,
            "order": null,
            "overflow": null,
            "overflow_x": null,
            "overflow_y": null,
            "padding": null,
            "right": null,
            "top": null,
            "visibility": null,
            "width": null
          }
        },
        "1ea81eeb217e4b048ddfb1274ac979fc": {
          "model_module": "@jupyter-widgets/controls",
          "model_name": "DescriptionStyleModel",
          "model_module_version": "1.5.0",
          "state": {
            "_model_module": "@jupyter-widgets/controls",
            "_model_module_version": "1.5.0",
            "_model_name": "DescriptionStyleModel",
            "_view_count": null,
            "_view_module": "@jupyter-widgets/base",
            "_view_module_version": "1.2.0",
            "_view_name": "StyleView",
            "description_width": ""
          }
        },
        "03235af5e8e644b08afbfecf64a3be72": {
          "model_module": "@jupyter-widgets/controls",
          "model_name": "HBoxModel",
          "model_module_version": "1.5.0",
          "state": {
            "_dom_classes": [],
            "_model_module": "@jupyter-widgets/controls",
            "_model_module_version": "1.5.0",
            "_model_name": "HBoxModel",
            "_view_count": null,
            "_view_module": "@jupyter-widgets/controls",
            "_view_module_version": "1.5.0",
            "_view_name": "HBoxView",
            "box_style": "",
            "children": [
              "IPY_MODEL_2c28586895f945caa9bfc5946801bd4a",
              "IPY_MODEL_432110f6707e4934bb44b792d61e409c",
              "IPY_MODEL_10f0ebf0fbec4747869217e38789bacf"
            ],
            "layout": "IPY_MODEL_d7d96bf4ed754c8792b535b46ae98af5"
          }
        },
        "2c28586895f945caa9bfc5946801bd4a": {
          "model_module": "@jupyter-widgets/controls",
          "model_name": "HTMLModel",
          "model_module_version": "1.5.0",
          "state": {
            "_dom_classes": [],
            "_model_module": "@jupyter-widgets/controls",
            "_model_module_version": "1.5.0",
            "_model_name": "HTMLModel",
            "_view_count": null,
            "_view_module": "@jupyter-widgets/controls",
            "_view_module_version": "1.5.0",
            "_view_name": "HTMLView",
            "description": "",
            "description_tooltip": null,
            "layout": "IPY_MODEL_6278fb27c1b048aeaa6da30cf29fbffb",
            "placeholder": "​",
            "style": "IPY_MODEL_defc0b68799c4bf4b710d1708dfa0259",
            "value": "model.safetensors: 100%"
          }
        },
        "432110f6707e4934bb44b792d61e409c": {
          "model_module": "@jupyter-widgets/controls",
          "model_name": "FloatProgressModel",
          "model_module_version": "1.5.0",
          "state": {
            "_dom_classes": [],
            "_model_module": "@jupyter-widgets/controls",
            "_model_module_version": "1.5.0",
            "_model_name": "FloatProgressModel",
            "_view_count": null,
            "_view_module": "@jupyter-widgets/controls",
            "_view_module_version": "1.5.0",
            "_view_name": "ProgressView",
            "bar_style": "success",
            "description": "",
            "description_tooltip": null,
            "layout": "IPY_MODEL_721e9eaab02242c79f438496257010a6",
            "max": 497787752,
            "min": 0,
            "orientation": "horizontal",
            "style": "IPY_MODEL_2ac42ecf20f547759d89bf86c5ade3b2",
            "value": 497787752
          }
        },
        "10f0ebf0fbec4747869217e38789bacf": {
          "model_module": "@jupyter-widgets/controls",
          "model_name": "HTMLModel",
          "model_module_version": "1.5.0",
          "state": {
            "_dom_classes": [],
            "_model_module": "@jupyter-widgets/controls",
            "_model_module_version": "1.5.0",
            "_model_name": "HTMLModel",
            "_view_count": null,
            "_view_module": "@jupyter-widgets/controls",
            "_view_module_version": "1.5.0",
            "_view_name": "HTMLView",
            "description": "",
            "description_tooltip": null,
            "layout": "IPY_MODEL_0dc400bef056434cb98c43e702180106",
            "placeholder": "​",
            "style": "IPY_MODEL_4864b091923c4d29b3b90ed5514b74c3",
            "value": " 498M/498M [00:04&lt;00:00, 190MB/s]"
          }
        },
        "d7d96bf4ed754c8792b535b46ae98af5": {
          "model_module": "@jupyter-widgets/base",
          "model_name": "LayoutModel",
          "model_module_version": "1.2.0",
          "state": {
            "_model_module": "@jupyter-widgets/base",
            "_model_module_version": "1.2.0",
            "_model_name": "LayoutModel",
            "_view_count": null,
            "_view_module": "@jupyter-widgets/base",
            "_view_module_version": "1.2.0",
            "_view_name": "LayoutView",
            "align_content": null,
            "align_items": null,
            "align_self": null,
            "border": null,
            "bottom": null,
            "display": null,
            "flex": null,
            "flex_flow": null,
            "grid_area": null,
            "grid_auto_columns": null,
            "grid_auto_flow": null,
            "grid_auto_rows": null,
            "grid_column": null,
            "grid_gap": null,
            "grid_row": null,
            "grid_template_areas": null,
            "grid_template_columns": null,
            "grid_template_rows": null,
            "height": null,
            "justify_content": null,
            "justify_items": null,
            "left": null,
            "margin": null,
            "max_height": null,
            "max_width": null,
            "min_height": null,
            "min_width": null,
            "object_fit": null,
            "object_position": null,
            "order": null,
            "overflow": null,
            "overflow_x": null,
            "overflow_y": null,
            "padding": null,
            "right": null,
            "top": null,
            "visibility": null,
            "width": null
          }
        },
        "6278fb27c1b048aeaa6da30cf29fbffb": {
          "model_module": "@jupyter-widgets/base",
          "model_name": "LayoutModel",
          "model_module_version": "1.2.0",
          "state": {
            "_model_module": "@jupyter-widgets/base",
            "_model_module_version": "1.2.0",
            "_model_name": "LayoutModel",
            "_view_count": null,
            "_view_module": "@jupyter-widgets/base",
            "_view_module_version": "1.2.0",
            "_view_name": "LayoutView",
            "align_content": null,
            "align_items": null,
            "align_self": null,
            "border": null,
            "bottom": null,
            "display": null,
            "flex": null,
            "flex_flow": null,
            "grid_area": null,
            "grid_auto_columns": null,
            "grid_auto_flow": null,
            "grid_auto_rows": null,
            "grid_column": null,
            "grid_gap": null,
            "grid_row": null,
            "grid_template_areas": null,
            "grid_template_columns": null,
            "grid_template_rows": null,
            "height": null,
            "justify_content": null,
            "justify_items": null,
            "left": null,
            "margin": null,
            "max_height": null,
            "max_width": null,
            "min_height": null,
            "min_width": null,
            "object_fit": null,
            "object_position": null,
            "order": null,
            "overflow": null,
            "overflow_x": null,
            "overflow_y": null,
            "padding": null,
            "right": null,
            "top": null,
            "visibility": null,
            "width": null
          }
        },
        "defc0b68799c4bf4b710d1708dfa0259": {
          "model_module": "@jupyter-widgets/controls",
          "model_name": "DescriptionStyleModel",
          "model_module_version": "1.5.0",
          "state": {
            "_model_module": "@jupyter-widgets/controls",
            "_model_module_version": "1.5.0",
            "_model_name": "DescriptionStyleModel",
            "_view_count": null,
            "_view_module": "@jupyter-widgets/base",
            "_view_module_version": "1.2.0",
            "_view_name": "StyleView",
            "description_width": ""
          }
        },
        "721e9eaab02242c79f438496257010a6": {
          "model_module": "@jupyter-widgets/base",
          "model_name": "LayoutModel",
          "model_module_version": "1.2.0",
          "state": {
            "_model_module": "@jupyter-widgets/base",
            "_model_module_version": "1.2.0",
            "_model_name": "LayoutModel",
            "_view_count": null,
            "_view_module": "@jupyter-widgets/base",
            "_view_module_version": "1.2.0",
            "_view_name": "LayoutView",
            "align_content": null,
            "align_items": null,
            "align_self": null,
            "border": null,
            "bottom": null,
            "display": null,
            "flex": null,
            "flex_flow": null,
            "grid_area": null,
            "grid_auto_columns": null,
            "grid_auto_flow": null,
            "grid_auto_rows": null,
            "grid_column": null,
            "grid_gap": null,
            "grid_row": null,
            "grid_template_areas": null,
            "grid_template_columns": null,
            "grid_template_rows": null,
            "height": null,
            "justify_content": null,
            "justify_items": null,
            "left": null,
            "margin": null,
            "max_height": null,
            "max_width": null,
            "min_height": null,
            "min_width": null,
            "object_fit": null,
            "object_position": null,
            "order": null,
            "overflow": null,
            "overflow_x": null,
            "overflow_y": null,
            "padding": null,
            "right": null,
            "top": null,
            "visibility": null,
            "width": null
          }
        },
        "2ac42ecf20f547759d89bf86c5ade3b2": {
          "model_module": "@jupyter-widgets/controls",
          "model_name": "ProgressStyleModel",
          "model_module_version": "1.5.0",
          "state": {
            "_model_module": "@jupyter-widgets/controls",
            "_model_module_version": "1.5.0",
            "_model_name": "ProgressStyleModel",
            "_view_count": null,
            "_view_module": "@jupyter-widgets/base",
            "_view_module_version": "1.2.0",
            "_view_name": "StyleView",
            "bar_color": null,
            "description_width": ""
          }
        },
        "0dc400bef056434cb98c43e702180106": {
          "model_module": "@jupyter-widgets/base",
          "model_name": "LayoutModel",
          "model_module_version": "1.2.0",
          "state": {
            "_model_module": "@jupyter-widgets/base",
            "_model_module_version": "1.2.0",
            "_model_name": "LayoutModel",
            "_view_count": null,
            "_view_module": "@jupyter-widgets/base",
            "_view_module_version": "1.2.0",
            "_view_name": "LayoutView",
            "align_content": null,
            "align_items": null,
            "align_self": null,
            "border": null,
            "bottom": null,
            "display": null,
            "flex": null,
            "flex_flow": null,
            "grid_area": null,
            "grid_auto_columns": null,
            "grid_auto_flow": null,
            "grid_auto_rows": null,
            "grid_column": null,
            "grid_gap": null,
            "grid_row": null,
            "grid_template_areas": null,
            "grid_template_columns": null,
            "grid_template_rows": null,
            "height": null,
            "justify_content": null,
            "justify_items": null,
            "left": null,
            "margin": null,
            "max_height": null,
            "max_width": null,
            "min_height": null,
            "min_width": null,
            "object_fit": null,
            "object_position": null,
            "order": null,
            "overflow": null,
            "overflow_x": null,
            "overflow_y": null,
            "padding": null,
            "right": null,
            "top": null,
            "visibility": null,
            "width": null
          }
        },
        "4864b091923c4d29b3b90ed5514b74c3": {
          "model_module": "@jupyter-widgets/controls",
          "model_name": "DescriptionStyleModel",
          "model_module_version": "1.5.0",
          "state": {
            "_model_module": "@jupyter-widgets/controls",
            "_model_module_version": "1.5.0",
            "_model_name": "DescriptionStyleModel",
            "_view_count": null,
            "_view_module": "@jupyter-widgets/base",
            "_view_module_version": "1.2.0",
            "_view_name": "StyleView",
            "description_width": ""
          }
        }
      }
    }
  },
  "nbformat": 4,
  "nbformat_minor": 0
}